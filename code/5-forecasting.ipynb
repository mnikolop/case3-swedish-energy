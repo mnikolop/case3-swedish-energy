{
 "cells": [
  {
   "attachments": {},
   "cell_type": "markdown",
   "metadata": {},
   "source": [
    "Problem statement:\n",
    "\n",
    "Situation: Energy is produced in different forms and consumed by the regions in different rates.   \n",
    "\n",
    "Complication: Energy prices are increasing due to many reasons including but not limited to war, logistics and sanctions.   \n",
    "\n",
    "Question: Is it possible to see what types of energy have been historically produced and consumed by the different regions? Is it possible to predict how the productions and consumption will look like in the future?   \n",
    "\n",
    "Answer: ???\n"
   ]
  },
  {
   "cell_type": "code",
   "execution_count": 8,
   "metadata": {},
   "outputs": [
    {
     "name": "stdout",
     "output_type": "stream",
     "text": [
      "Installing CmdStan version: 2.31.0\n",
      "Install directory: C:\\Users\\markella.nikolopoulo\\.cmdstan\n",
      "Downloading CmdStan version 2.31.0\n",
      "Download successful, file: C:\\Users\\MARKEL~1.NIK\\AppData\\Local\\Temp\\tmpe3nc26ix\n",
      "Extracting distribution\n",
      "Unpacked download as cmdstan-2.31.0\n",
      "Building version cmdstan-2.31.0, may take several minutes, depending on your system.\n",
      "Test model compilation\n",
      "Installed cmdstan-2.31.0\n"
     ]
    },
    {
     "name": "stderr",
     "output_type": "stream",
     "text": [
      "18:14:58 - cmdstanpy - WARNING - CmdStan installation failed.\n",
      "cannot import name 'run_rtools_install' from 'cmdstanpy.install_cxx_toolchain' (c:\\ProgramData\\Anaconda3\\envs\\thisone\\lib\\site-packages\\cmdstanpy\\install_cxx_toolchain.py)\n"
     ]
    },
    {
     "name": "stdout",
     "output_type": "stream",
     "text": [
      "Installing CmdStan version: 2.31.0\n",
      "Install directory: C:\\Users\\markella.nikolopoulo\\.cmdstan\n"
     ]
    },
    {
     "data": {
      "text/plain": [
       "False"
      ]
     },
     "execution_count": 8,
     "metadata": {},
     "output_type": "execute_result"
    }
   ],
   "source": [
    "import pandas as pd\n",
    "pd.set_option('display.max_columns', None)\n",
    "pd.set_option('display.max_rows', None)\n",
    "import numpy as np\n",
    "import seaborn as sns\n",
    "sns.set_theme(style='darkgrid', palette='crest')\n",
    "import matplotlib.pyplot as plt\n",
    "\n"
   ]
  },
  {
   "cell_type": "code",
   "execution_count": 18,
   "metadata": {},
   "outputs": [
    {
     "name": "stderr",
     "output_type": "stream",
     "text": [
      "C:\\Users\\markella.nikolopoulo\\AppData\\Local\\Temp\\ipykernel_18592\\3935031558.py:4: DtypeWarning: Columns (5,6) have mixed types. Specify dtype option on import or set low_memory=False.\n",
      "  slutanvandning = pd.read_table('../data/to-use/slutanvandning-region-forbrukarkategori-bransletyp-kategori-energityp-ar.csv', sep=',')\n"
     ]
    }
   ],
   "source": [
    "leveranser_flytande = pd.read_table('../data/to-use/leveranser-flytande-bransle-region-ar.csv', sep=',')\n",
    "elproduction_bransleanvandning = pd.read_table('../data/to-use/elproduction-bransleanvandning-region-produktionssatt-bransletyp-ar.csv', sep=',')\n",
    "fjarrvarmeproduktion = pd.read_table('../data/to-use/fjarrvarmeproduktion-region-produktionssatt-bransletyp-ar.csv', sep=',')\n",
    "slutanvandning = pd.read_table('../data/to-use/slutanvandning-region-forbrukarkategori-bransletyp-kategori-energityp-ar.csv', sep=',')\n",
    "bransleforbrukning = pd.read_table('../data/to-use/branslefarbrukning-far-produktion-per-ar.csv', sep=',')\n",
    "energidata = pd.read_table('../data/to-use/energidata-per-ar.csv', sep=',')\n",
    "\n",
    "datasets = [leveranser_flytande, elproduction_bransleanvandning, \n",
    "            fjarrvarmeproduktion, slutanvandning, bransleforbrukning, energidata]\n",
    "\n",
    "variables = ['region', 'bransletyp', 'ar', 'm3', 'farbrukarkategori', 'produktionssatt',\n",
    "             'MWh', 'kategori', 'energityp', 'produktionsslag', 'bransleforbukning']\n",
    "\n",
    "## FIll NAs\n",
    "leveranser_flytande.m3 = leveranser_flytande.m3.fillna(method='ffill')\n",
    "fjarrvarmeproduktion.MWh = fjarrvarmeproduktion.MWh.interpolate()\n",
    "# slutanvandning = slutanvandning.fillna('fffill')\n",
    "energidata.MWh = energidata.MWh.fillna(method='ffill')\n",
    "\n",
    "\n",
    "# Slice dataset for regions\n",
    "leveranser_flytande = leveranser_flytande[leveranser_flytande.region.isin(['0160 T�by', '0117 �ster�ker', '0180 Stockholm', '0980 Gotland', '01 Stockholms l�n', '22 V�sternorrlands l�n', '09 Gotlands l�n', '00 Riket', '2581 Pite�', '1480 G�teborg'])].reset_index(drop=True)\n",
    "elproduction_bransleanvandning = elproduction_bransleanvandning[elproduction_bransleanvandning.region.isin(['0160 T�by', '0117 �ster�ker', '0180 Stockholm', '0980 Gotland', '01 Stockholms l�n', '22 V�sternorrlands l�n', '09 Gotlands l�n', '00 Riket', '2581 Pite�', '1480 G�teborg'])].reset_index(drop=True)\n",
    "fjarrvarmeproduktion = fjarrvarmeproduktion[fjarrvarmeproduktion.region.isin(['0160 T�by', '0117 �ster�ker', '0180 Stockholm', '0980 Gotland', '01 Stockholms l�n', '22 V�sternorrlands l�n', '09 Gotlands l�n', '00 Riket', '2581 Pite�', '1480 G�teborg'])].reset_index(drop=True)\n",
    "slutanvandning = slutanvandning[slutanvandning.region.isin(['0160 T�by', '0117 �ster�ker', '0180 Stockholm', '0980 Gotland', '01 Stockholms l�n', '22 V�sternorrlands l�n', '09 Gotlands l�n', '00 Riket', '2581 Pite�', '1480 G�teborg'])].reset_index(drop=True)\n",
    "energidata = energidata[energidata.region.isin(['0160 T�by', '0117 �ster�ker', '0180 Stockholm', '0980 Gotland', '01 Stockholms l�n', '22 V�sternorrlands l�n', '09 Gotlands l�n', '00 Riket', '2581 Pite�', '1480 G�teborg'])].reset_index(drop=True)\n",
    "\n",
    "\n",
    "\n",
    "## Group datasets\n",
    "leveranser_flytande = leveranser_flytande.groupby(['region', 'ar', 'fornybar_bransletyp'], as_index=False).agg(Sum=('m3', np.sum)).sort_values(by=['Sum']).reset_index(drop=True)\n",
    "elproduction_bransleanvandning_grouped = elproduction_bransleanvandning.groupby(['region', 'ar', 'fornybar_bransletyp', 'fornybar_produktionssatt'], as_index=False).agg(Sum=('MWh', np.sum)).sort_values(by=['Sum']).reset_index(drop=True)\n",
    "fjarrvarmeproduktion = fjarrvarmeproduktion.groupby(['region', 'ar', 'fornybar_bransletyp', 'fornybar_produktionssatt'], as_index=False).agg(Sum=('MWh', np.sum)).sort_values(by=['Sum']).reset_index(drop=True)\n",
    "slutanvandning = slutanvandning.groupby(['region', 'ar', 'fornybar_bransletyp', 'forbrukarkategori'], as_index=False).agg(Sum=('MWh', np.sum)).sort_values(by=['Sum']).reset_index(drop=True)\n",
    "bransleforbrukning = bransleforbrukning.groupby(['ar', 'fornybar_bransletyp', 'produktionsslag'], as_index=False).agg( Sum=('branslefarbrukning', np.sum)).sort_values(by=['Sum']).reset_index(drop=True)\n",
    "energidata = energidata.groupby(['region', 'ar', 'fornybar_energityp', 'fornybar_kategori'], as_index=False).agg(Sum=('MWh', np.sum)).sort_values(by=['Sum']).reset_index(drop=True)\n",
    "\n",
    "\n",
    "leveranser_flytande.ar = pd.to_datetime(leveranser_flytande.ar, format='%Y-%m-%d').dt.year\n",
    "elproduction_bransleanvandning_grouped.ar = pd.to_datetime(elproduction_bransleanvandning_grouped.ar, format='%Y-%m-%d').dt.year\n",
    "fjarrvarmeproduktion.ar = pd.to_datetime(fjarrvarmeproduktion.ar, format='%Y-%m-%d').dt.year\n",
    "slutanvandning.ar = pd.to_datetime(slutanvandning.ar, format='%Y-%m-%d').dt.year\n",
    "bransleforbrukning.ar = pd.to_datetime(bransleforbrukning.ar, format='%Y-%m-%d').dt.year\n",
    "energidata.ar = pd.to_datetime(energidata.ar, format='%Y-%m-%d').dt.year\n",
    "\n"
   ]
  },
  {
   "cell_type": "code",
   "execution_count": null,
   "metadata": {},
   "outputs": [],
   "source": [
    "# ## Prophet\n",
    "\n",
    "# from prophet import Prophet\n",
    "# from prophet.plot import plot_plotly, plot_components_plotly\n",
    "# import cmdstanpy\n",
    "# cmdstanpy.install_cmdstan()\n",
    "# cmdstanpy.install_cmdstan(compiler=True)\n",
    "\n",
    "# region_datasets = [leveranser_flytande, elproduction_bransleanvandning, \n",
    "#             fjarrvarmeproduktion, slutanvandning, energidata]\n",
    "# # # for d in region_datasets:\n",
    "# # #     name = [x for x in globals() if globals()[x] is d][0]\n",
    "# # #     print('Dataframe: ', name)\n",
    "    \n",
    "# # for region in energidata.region.drop_duplicates(keep='first').reset_index(drop=True):\n",
    "# #     print(region)\n",
    "# #     data = energidata[energidata.region == region].reset_index(drop=True)\n",
    "# #     for fornybar_energityp in energidata.fornybar_energityp.drop_duplicates(keep='first').reset_index(drop=True):\n",
    "# #         print(fornybar_energityp)\n",
    "# #         data = data[data.fornybar_energityp == fornybar_energityp].reset_index(drop=True)\n",
    "# #         for fornybar_kategori in energidata.fornybar_kategori.drop_duplicates(keep='first').reset_index(drop=True):\n",
    "# #             print(fornybar_kategori)\n",
    "# #             data = data[data.fornybar_kategori == fornybar_kategori].reset_index(drop=True)\n",
    "\n",
    "# #             data['ds'] = data.ar\n",
    "# #             data['y'] = data.Sum\n",
    "# #             print(data)\n",
    "# #             m = Prophet()\n",
    "# #             m.fit(data)\n",
    "\n",
    "# #             future = m.make_future_dataframe(periods=365)\n",
    "# #             future.tail()\n",
    "# #             forecast = m.predict(future)\n",
    "# #             forecast[['ds', 'yhat', 'yhat_lower', 'yhat_upper']].tail()\n",
    "\n",
    "# #             fig1 = m.plot(forecast)\n",
    "\n",
    "# #             fig2 = m.plot_components(forecast)\n",
    "\n",
    "\n",
    "# #             plot_plotly(m, forecast)\n",
    "# #             plot_components_plotly(m, forecast)\n"
   ]
  }
 ],
 "metadata": {
  "kernelspec": {
   "display_name": "Python 3.10.6 ('thisone')",
   "language": "python",
   "name": "python3"
  },
  "language_info": {
   "codemirror_mode": {
    "name": "ipython",
    "version": 3
   },
   "file_extension": ".py",
   "mimetype": "text/x-python",
   "name": "python",
   "nbconvert_exporter": "python",
   "pygments_lexer": "ipython3",
   "version": "3.10.6"
  },
  "orig_nbformat": 4,
  "vscode": {
   "interpreter": {
    "hash": "7996a5cd28996b69f6427e562b95ceb603a092331acdb6a620e160fb7b86c167"
   }
  }
 },
 "nbformat": 4,
 "nbformat_minor": 2
}
