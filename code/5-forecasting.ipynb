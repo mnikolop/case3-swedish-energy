{
 "cells": [
  {
   "attachments": {},
   "cell_type": "markdown",
   "metadata": {},
   "source": [
    "Problem statement:\n",
    "\n",
    "Situation: Energy is produced in different forms and consumed by the regions in different rates.   \n",
    "\n",
    "Complication: Energy prices are increasing due to many reasons including but not limited to war, logistics and sanctions.   \n",
    "\n",
    "Question: Is it possible to see what types of energy have been historically produced and consumed by the different regions? Is it possible to predict how the productions and consumption will look like in the future?   \n",
    "\n",
    "Answer: ???\n"
   ]
  },
  {
   "cell_type": "code",
   "execution_count": 1,
   "metadata": {},
   "outputs": [],
   "source": [
    "import pandas as pd\n",
    "import numpy as np\n",
    "\n",
    "import seaborn as sns\n",
    "sns.set_theme(style='darkgrid', palette='crest')\n",
    "import matplotlib.pyplot as plt\n",
    "\n",
    "\n",
    "from sklearn.datasets import load_diabetes  # our diabetes dataset\n",
    "from sklearn.model_selection import (\n",
    "    train_test_split,\n",
    ")  # will allow us to helpfully subdivide our data\n",
    "from sklearn.linear_model import (\n",
    "    LinearRegression,\n",
    ")  # a simple model we can play around with\n",
    "\n",
    "from sktime.datasets import load_airline\n",
    "from sktime.utils.plotting import plot_series\n",
    "from sktime.forecasting.naive import NaiveForecaster\n",
    "\n",
    "from sktime.forecasting.base import ForecastingHorizon\n",
    "\n",
    "\n",
    "from sktime.forecasting.theta import ThetaForecaster\n",
    "\n",
    "\n",
    "# pd.set_option('display.max_columns', None)\n",
    "# pd.set_option('display.max_rows', None)"
   ]
  },
  {
   "cell_type": "code",
   "execution_count": 2,
   "metadata": {},
   "outputs": [
    {
     "name": "stderr",
     "output_type": "stream",
     "text": [
      "C:\\Users\\markella.nikolopoulo\\AppData\\Local\\Temp\\ipykernel_15824\\3475572669.py:4: DtypeWarning: Columns (5,6) have mixed types. Specify dtype option on import or set low_memory=False.\n",
      "  slutanvandning = pd.read_table('../data/to-use/slutanvandning-region-forbrukarkategori-bransletyp-kategori-energityp-ar.csv', sep=',')\n"
     ]
    }
   ],
   "source": [
    "leveranser_flytande = pd.read_table('../data/to-use/leveranser-flytande-bransle-region-ar.csv', sep=',')\n",
    "elproduction_bransleanvandning = pd.read_table('../data/to-use/elproduction-bransleanvandning-region-produktionssatt-bransletyp-ar.csv', sep=',')\n",
    "fjarrvarmeproduktion = pd.read_table('../data/to-use/fjarrvarmeproduktion-region-produktionssatt-bransletyp-ar.csv', sep=',')\n",
    "slutanvandning = pd.read_table('../data/to-use/slutanvandning-region-forbrukarkategori-bransletyp-kategori-energityp-ar.csv', sep=',')\n",
    "bransleforbrukning = pd.read_table('../data/to-use/branslefarbrukning-far-produktion-per-ar.csv', sep=',')\n",
    "energidata = pd.read_table('../data/to-use/energidata-per-ar.csv', sep=',')\n",
    "\n",
    "datasets = [leveranser_flytande, elproduction_bransleanvandning, \n",
    "            fjarrvarmeproduktion, slutanvandning, bransleforbrukning, energidata]\n",
    "\n",
    "\n",
    "## FIll NAs\n",
    "leveranser_flytande.m3 = leveranser_flytande.m3.fillna(method='ffill')\n",
    "fjarrvarmeproduktion.MWh = fjarrvarmeproduktion.MWh.interpolate()\n",
    "# slutanvandning = slutanvandning.fillna('fffill')\n",
    "energidata.MWh = energidata.MWh.fillna(method='ffill')\n",
    "\n",
    "\n",
    "# Slice dataset for regions\n",
    "leveranser_flytande = leveranser_flytande[leveranser_flytande.region.isin(['0160 T�by', '0117 �ster�ker', '0180 Stockholm', '0980 Gotland', '01 Stockholms l�n', '22 V�sternorrlands l�n', '09 Gotlands l�n', '00 Riket', '2581 Pite�', '1480 G�teborg'])].reset_index(drop=True)\n",
    "elproduction_bransleanvandning = elproduction_bransleanvandning[elproduction_bransleanvandning.region.isin(['0160 T�by', '0117 �ster�ker', '0180 Stockholm', '0980 Gotland', '01 Stockholms l�n', '22 V�sternorrlands l�n', '09 Gotlands l�n', '00 Riket', '2581 Pite�', '1480 G�teborg'])].reset_index(drop=True)\n",
    "fjarrvarmeproduktion = fjarrvarmeproduktion[fjarrvarmeproduktion.region.isin(['0160 T�by', '0117 �ster�ker', '0180 Stockholm', '0980 Gotland', '01 Stockholms l�n', '22 V�sternorrlands l�n', '09 Gotlands l�n', '00 Riket', '2581 Pite�', '1480 G�teborg'])].reset_index(drop=True)\n",
    "slutanvandning = slutanvandning[slutanvandning.region.isin(['0160 T�by', '0117 �ster�ker', '0180 Stockholm', '0980 Gotland', '01 Stockholms l�n', '22 V�sternorrlands l�n', '09 Gotlands l�n', '00 Riket', '2581 Pite�', '1480 G�teborg'])].reset_index(drop=True)\n",
    "energidata = energidata[energidata.region.isin(['0160 T�by', '0117 �ster�ker', '0180 Stockholm', '0980 Gotland', '01 Stockholms l�n', '22 V�sternorrlands l�n', '09 Gotlands l�n', '00 Riket', '2581 Pite�', '1480 G�teborg'])].reset_index(drop=True)\n",
    "\n",
    "\n",
    "## Group datasets\n",
    "leveranser_flytande = leveranser_flytande.groupby(['region', 'ar', 'fornybar_bransletyp'], as_index=False).agg(Sum=('m3', np.sum)).sort_values(by=['Sum']).reset_index(drop=True)\n",
    "elproduction_bransleanvandning_grouped = elproduction_bransleanvandning.groupby(['region', 'ar', 'fornybar_bransletyp', 'fornybar_produktionssatt'], as_index=False).agg(Sum=('MWh', np.sum)).sort_values(by=['Sum']).reset_index(drop=True)\n",
    "fjarrvarmeproduktion = fjarrvarmeproduktion.groupby(['region', 'ar', 'fornybar_bransletyp', 'fornybar_produktionssatt'], as_index=False).agg(Sum=('MWh', np.sum)).sort_values(by=['Sum']).reset_index(drop=True)\n",
    "slutanvandning = slutanvandning.groupby(['region', 'ar', 'fornybar_bransletyp', 'forbrukarkategori'], as_index=False).agg(Sum=('MWh', np.sum)).sort_values(by=['Sum']).reset_index(drop=True)\n",
    "bransleforbrukning = bransleforbrukning.groupby(['ar', 'fornybar_bransletyp', 'produktionsslag'], as_index=False).agg( Sum=('branslefarbrukning', np.sum)).sort_values(by=['Sum']).reset_index(drop=True)\n",
    "energidata = energidata.groupby(['region', 'ar', 'fornybar_energityp', 'fornybar_kategori'], as_index=False).agg(Sum=('MWh', np.sum)).sort_values(by=['Sum']).reset_index(drop=True)\n",
    "\n",
    "\n",
    "leveranser_flytande.ar = pd.to_datetime(leveranser_flytande.ar, format='%Y-%m-%d').dt.year\n",
    "elproduction_bransleanvandning_grouped.ar = pd.to_datetime(elproduction_bransleanvandning_grouped.ar, format='%Y-%m-%d').dt.year\n",
    "fjarrvarmeproduktion.ar = pd.to_datetime(fjarrvarmeproduktion.ar, format='%Y-%m-%d').dt.year\n",
    "slutanvandning.ar = pd.to_datetime(slutanvandning.ar, format='%Y-%m-%d').dt.year\n",
    "bransleforbrukning.ar = pd.to_datetime(bransleforbrukning.ar, format='%Y-%m-%d').dt.year\n",
    "energidata.ar = pd.to_datetime(energidata.ar, format='%Y-%m-%d').dt.year\n",
    "\n"
   ]
  },
  {
   "cell_type": "code",
   "execution_count": 3,
   "metadata": {},
   "outputs": [],
   "source": [
    "# Constants\n",
    "\n",
    "AR = 'ar'\n",
    "M3 = 'm3'\n",
    "MWH = 'MWh'\n",
    "\n",
    "BRANSLETYP = 'bransletyp'\n",
    "FARBRUKARKATEGORI = 'farbrukarkategori'\n",
    "PRODUCTIONSSATT = 'produktionssatt'\n",
    "KATEGORI = 'kategori'\n",
    "ENERGITYP = 'energityp'\n",
    "PRODUCTIONSSLAG = 'produktionsslag'\n",
    "BRANSLEFORBRUKNING = 'bransleforbukning'\n",
    "\n",
    "REGION = 'region'\n",
    "\n",
    "FORNYBAR_BRANSLETYP = 'fornybar_bransletyp'\n",
    "FORNYBAR_PRODUCTIONSSATT = 'fornybar_produktionssatt'\n",
    "FORNYBAR_PRODUCTIONSSLAG = 'fornybar_produktionssatt'\n",
    "FORNYBAR_ENERGITYP = 'fornybar_energityp'\n",
    "FORNYBAR_KATEGORI = 'fornybar_kategori'\n"
   ]
  },
  {
   "cell_type": "code",
   "execution_count": 4,
   "metadata": {},
   "outputs": [],
   "source": [
    "encodeList = [REGION, FORNYBAR_BRANSLETYP, FORNYBAR_PRODUCTIONSSATT, FORNYBAR_PRODUCTIONSSLAG, FORNYBAR_ENERGITYP, FORNYBAR_KATEGORI]"
   ]
  },
  {
   "cell_type": "code",
   "execution_count": 5,
   "metadata": {},
   "outputs": [],
   "source": [
    "for encode_item in encodeList:\n",
    "    if encode_item in leveranser_flytande.columns:\n",
    "        leveranser_flytande[encode_item].replace(leveranser_flytande[encode_item].unique(), range(\n",
    "            0, len(leveranser_flytande[encode_item].unique())), inplace=True)"
   ]
  },
  {
   "cell_type": "code",
   "execution_count": 6,
   "metadata": {},
   "outputs": [],
   "source": [
    "# split our data - by loading X and y we get a frame of all our patient attributes (age, sex serum etc) and a seperate frame of outcomes\n",
    "(\n",
    "    attributes_train,\n",
    "    attributes_test,\n",
    "    progression_train,\n",
    "    progression_test,\n",
    ") = train_test_split(leveranser_flytande, leveranser_flytande.Sum, test_size=0.33)\n",
    "\n",
    "# Instantiate\n",
    "linear_regression = LinearRegression()\n",
    "\n",
    "# Fit\n",
    "linear_regression.fit(attributes_train, progression_train)\n",
    "\n",
    "# Predict\n",
    "progression_predict = linear_regression.predict(attributes_test)"
   ]
  },
  {
   "cell_type": "code",
   "execution_count": 7,
   "metadata": {},
   "outputs": [
    {
     "data": {
      "text/plain": [
       "pandas.core.series.Series"
      ]
     },
     "execution_count": 7,
     "metadata": {},
     "output_type": "execute_result"
    }
   ],
   "source": [
    "type(load_airline())"
   ]
  },
  {
   "cell_type": "code",
   "execution_count": 8,
   "metadata": {},
   "outputs": [
    {
     "data": {
      "text/html": [
       "<div>\n",
       "<style scoped>\n",
       "    .dataframe tbody tr th:only-of-type {\n",
       "        vertical-align: middle;\n",
       "    }\n",
       "\n",
       "    .dataframe tbody tr th {\n",
       "        vertical-align: top;\n",
       "    }\n",
       "\n",
       "    .dataframe thead th {\n",
       "        text-align: right;\n",
       "    }\n",
       "</style>\n",
       "<table border=\"1\" class=\"dataframe\">\n",
       "  <thead>\n",
       "    <tr style=\"text-align: right;\">\n",
       "      <th></th>\n",
       "      <th>region</th>\n",
       "      <th>ar</th>\n",
       "      <th>fornybar_bransletyp</th>\n",
       "      <th>Sum</th>\n",
       "    </tr>\n",
       "  </thead>\n",
       "  <tbody>\n",
       "    <tr>\n",
       "      <th>0</th>\n",
       "      <td>0</td>\n",
       "      <td>1970</td>\n",
       "      <td>0</td>\n",
       "      <td>0.0</td>\n",
       "    </tr>\n",
       "    <tr>\n",
       "      <th>1</th>\n",
       "      <td>1</td>\n",
       "      <td>1970</td>\n",
       "      <td>0</td>\n",
       "      <td>0.0</td>\n",
       "    </tr>\n",
       "    <tr>\n",
       "      <th>2</th>\n",
       "      <td>1</td>\n",
       "      <td>1970</td>\n",
       "      <td>0</td>\n",
       "      <td>0.0</td>\n",
       "    </tr>\n",
       "    <tr>\n",
       "      <th>3</th>\n",
       "      <td>1</td>\n",
       "      <td>1970</td>\n",
       "      <td>0</td>\n",
       "      <td>0.0</td>\n",
       "    </tr>\n",
       "    <tr>\n",
       "      <th>4</th>\n",
       "      <td>2</td>\n",
       "      <td>1970</td>\n",
       "      <td>1</td>\n",
       "      <td>0.0</td>\n",
       "    </tr>\n",
       "    <tr>\n",
       "      <th>...</th>\n",
       "      <td>...</td>\n",
       "      <td>...</td>\n",
       "      <td>...</td>\n",
       "      <td>...</td>\n",
       "    </tr>\n",
       "    <tr>\n",
       "      <th>553</th>\n",
       "      <td>1</td>\n",
       "      <td>1970</td>\n",
       "      <td>2</td>\n",
       "      <td>1456162.3</td>\n",
       "    </tr>\n",
       "    <tr>\n",
       "      <th>554</th>\n",
       "      <td>8</td>\n",
       "      <td>1970</td>\n",
       "      <td>2</td>\n",
       "      <td>3062611.2</td>\n",
       "    </tr>\n",
       "    <tr>\n",
       "      <th>555</th>\n",
       "      <td>8</td>\n",
       "      <td>1970</td>\n",
       "      <td>2</td>\n",
       "      <td>3553752.7</td>\n",
       "    </tr>\n",
       "    <tr>\n",
       "      <th>556</th>\n",
       "      <td>8</td>\n",
       "      <td>1970</td>\n",
       "      <td>2</td>\n",
       "      <td>5088307.9</td>\n",
       "    </tr>\n",
       "    <tr>\n",
       "      <th>557</th>\n",
       "      <td>8</td>\n",
       "      <td>1970</td>\n",
       "      <td>2</td>\n",
       "      <td>5494527.8</td>\n",
       "    </tr>\n",
       "  </tbody>\n",
       "</table>\n",
       "<p>558 rows × 4 columns</p>\n",
       "</div>"
      ],
      "text/plain": [
       "     region    ar  fornybar_bransletyp        Sum\n",
       "0         0  1970                    0        0.0\n",
       "1         1  1970                    0        0.0\n",
       "2         1  1970                    0        0.0\n",
       "3         1  1970                    0        0.0\n",
       "4         2  1970                    1        0.0\n",
       "..      ...   ...                  ...        ...\n",
       "553       1  1970                    2  1456162.3\n",
       "554       8  1970                    2  3062611.2\n",
       "555       8  1970                    2  3553752.7\n",
       "556       8  1970                    2  5088307.9\n",
       "557       8  1970                    2  5494527.8\n",
       "\n",
       "[558 rows x 4 columns]"
      ]
     },
     "execution_count": 8,
     "metadata": {},
     "output_type": "execute_result"
    }
   ],
   "source": [
    "leveranser_flytande"
   ]
  },
  {
   "cell_type": "code",
   "execution_count": 9,
   "metadata": {},
   "outputs": [
    {
     "ename": "KeyError",
     "evalue": "'Requested level (ar) does not match index name (None)'",
     "output_type": "error",
     "traceback": [
      "\u001b[1;31m---------------------------------------------------------------------------\u001b[0m",
      "\u001b[1;31mKeyError\u001b[0m                                  Traceback (most recent call last)",
      "Cell \u001b[1;32mIn [9], line 1\u001b[0m\n\u001b[1;32m----> 1\u001b[0m leveranser_flytande\u001b[39m.\u001b[39mreset_index(level\u001b[39m=\u001b[39m[\u001b[39m'\u001b[39m\u001b[39mar\u001b[39m\u001b[39m'\u001b[39m, \u001b[39m'\u001b[39m\u001b[39mregion\u001b[39m\u001b[39m'\u001b[39m, \u001b[39m'\u001b[39m\u001b[39mfornybar_bransletyp\u001b[39m\u001b[39m'\u001b[39m])\n",
      "File \u001b[1;32mc:\\ProgramData\\Anaconda3\\envs\\thisone\\lib\\site-packages\\pandas\\util\\_decorators.py:311\u001b[0m, in \u001b[0;36mdeprecate_nonkeyword_arguments.<locals>.decorate.<locals>.wrapper\u001b[1;34m(*args, **kwargs)\u001b[0m\n\u001b[0;32m    305\u001b[0m \u001b[39mif\u001b[39;00m \u001b[39mlen\u001b[39m(args) \u001b[39m>\u001b[39m num_allow_args:\n\u001b[0;32m    306\u001b[0m     warnings\u001b[39m.\u001b[39mwarn(\n\u001b[0;32m    307\u001b[0m         msg\u001b[39m.\u001b[39mformat(arguments\u001b[39m=\u001b[39marguments),\n\u001b[0;32m    308\u001b[0m         \u001b[39mFutureWarning\u001b[39;00m,\n\u001b[0;32m    309\u001b[0m         stacklevel\u001b[39m=\u001b[39mstacklevel,\n\u001b[0;32m    310\u001b[0m     )\n\u001b[1;32m--> 311\u001b[0m \u001b[39mreturn\u001b[39;00m func(\u001b[39m*\u001b[39margs, \u001b[39m*\u001b[39m\u001b[39m*\u001b[39mkwargs)\n",
      "File \u001b[1;32mc:\\ProgramData\\Anaconda3\\envs\\thisone\\lib\\site-packages\\pandas\\core\\frame.py:5802\u001b[0m, in \u001b[0;36mDataFrame.reset_index\u001b[1;34m(self, level, drop, inplace, col_level, col_fill)\u001b[0m\n\u001b[0;32m   5800\u001b[0m \u001b[39mif\u001b[39;00m \u001b[39mnot\u001b[39;00m \u001b[39misinstance\u001b[39m(level, (\u001b[39mtuple\u001b[39m, \u001b[39mlist\u001b[39m)):\n\u001b[0;32m   5801\u001b[0m     level \u001b[39m=\u001b[39m [level]\n\u001b[1;32m-> 5802\u001b[0m level \u001b[39m=\u001b[39m [\u001b[39mself\u001b[39m\u001b[39m.\u001b[39mindex\u001b[39m.\u001b[39m_get_level_number(lev) \u001b[39mfor\u001b[39;00m lev \u001b[39min\u001b[39;00m level]\n\u001b[0;32m   5803\u001b[0m \u001b[39mif\u001b[39;00m \u001b[39mlen\u001b[39m(level) \u001b[39m<\u001b[39m \u001b[39mself\u001b[39m\u001b[39m.\u001b[39mindex\u001b[39m.\u001b[39mnlevels:\n\u001b[0;32m   5804\u001b[0m     new_index \u001b[39m=\u001b[39m \u001b[39mself\u001b[39m\u001b[39m.\u001b[39mindex\u001b[39m.\u001b[39mdroplevel(level)\n",
      "File \u001b[1;32mc:\\ProgramData\\Anaconda3\\envs\\thisone\\lib\\site-packages\\pandas\\core\\frame.py:5802\u001b[0m, in \u001b[0;36m<listcomp>\u001b[1;34m(.0)\u001b[0m\n\u001b[0;32m   5800\u001b[0m \u001b[39mif\u001b[39;00m \u001b[39mnot\u001b[39;00m \u001b[39misinstance\u001b[39m(level, (\u001b[39mtuple\u001b[39m, \u001b[39mlist\u001b[39m)):\n\u001b[0;32m   5801\u001b[0m     level \u001b[39m=\u001b[39m [level]\n\u001b[1;32m-> 5802\u001b[0m level \u001b[39m=\u001b[39m [\u001b[39mself\u001b[39;49m\u001b[39m.\u001b[39;49mindex\u001b[39m.\u001b[39;49m_get_level_number(lev) \u001b[39mfor\u001b[39;00m lev \u001b[39min\u001b[39;00m level]\n\u001b[0;32m   5803\u001b[0m \u001b[39mif\u001b[39;00m \u001b[39mlen\u001b[39m(level) \u001b[39m<\u001b[39m \u001b[39mself\u001b[39m\u001b[39m.\u001b[39mindex\u001b[39m.\u001b[39mnlevels:\n\u001b[0;32m   5804\u001b[0m     new_index \u001b[39m=\u001b[39m \u001b[39mself\u001b[39m\u001b[39m.\u001b[39mindex\u001b[39m.\u001b[39mdroplevel(level)\n",
      "File \u001b[1;32mc:\\ProgramData\\Anaconda3\\envs\\thisone\\lib\\site-packages\\pandas\\core\\indexes\\base.py:1944\u001b[0m, in \u001b[0;36mIndex._get_level_number\u001b[1;34m(self, level)\u001b[0m\n\u001b[0;32m   1943\u001b[0m \u001b[39mdef\u001b[39;00m \u001b[39m_get_level_number\u001b[39m(\u001b[39mself\u001b[39m, level) \u001b[39m-\u001b[39m\u001b[39m>\u001b[39m \u001b[39mint\u001b[39m:\n\u001b[1;32m-> 1944\u001b[0m     \u001b[39mself\u001b[39;49m\u001b[39m.\u001b[39;49m_validate_index_level(level)\n\u001b[0;32m   1945\u001b[0m     \u001b[39mreturn\u001b[39;00m \u001b[39m0\u001b[39m\n",
      "File \u001b[1;32mc:\\ProgramData\\Anaconda3\\envs\\thisone\\lib\\site-packages\\pandas\\core\\indexes\\base.py:1939\u001b[0m, in \u001b[0;36mIndex._validate_index_level\u001b[1;34m(self, level)\u001b[0m\n\u001b[0;32m   1935\u001b[0m         \u001b[39mraise\u001b[39;00m \u001b[39mIndexError\u001b[39;00m(\n\u001b[0;32m   1936\u001b[0m             \u001b[39mf\u001b[39m\u001b[39m\"\u001b[39m\u001b[39mToo many levels: Index has only 1 level, not \u001b[39m\u001b[39m{\u001b[39;00mlevel \u001b[39m+\u001b[39m \u001b[39m1\u001b[39m\u001b[39m}\u001b[39;00m\u001b[39m\"\u001b[39m\n\u001b[0;32m   1937\u001b[0m         )\n\u001b[0;32m   1938\u001b[0m \u001b[39melif\u001b[39;00m level \u001b[39m!=\u001b[39m \u001b[39mself\u001b[39m\u001b[39m.\u001b[39mname:\n\u001b[1;32m-> 1939\u001b[0m     \u001b[39mraise\u001b[39;00m \u001b[39mKeyError\u001b[39;00m(\n\u001b[0;32m   1940\u001b[0m         \u001b[39mf\u001b[39m\u001b[39m\"\u001b[39m\u001b[39mRequested level (\u001b[39m\u001b[39m{\u001b[39;00mlevel\u001b[39m}\u001b[39;00m\u001b[39m) does not match index name (\u001b[39m\u001b[39m{\u001b[39;00m\u001b[39mself\u001b[39m\u001b[39m.\u001b[39mname\u001b[39m}\u001b[39;00m\u001b[39m)\u001b[39m\u001b[39m\"\u001b[39m\n\u001b[0;32m   1941\u001b[0m     )\n",
      "\u001b[1;31mKeyError\u001b[0m: 'Requested level (ar) does not match index name (None)'"
     ]
    }
   ],
   "source": [
    "leveranser_flytande.reset_index(level=['ar', 'region', 'fornybar_bransletyp'])"
   ]
  },
  {
   "cell_type": "code",
   "execution_count": null,
   "metadata": {},
   "outputs": [],
   "source": [
    "# Get our airline data:\n",
    "y = leveranser_flytande[['ar','Sum']]\n",
    "plot_series(y, labels=['fornybar_bransletyp'])\n",
    "\n",
    "# Instantiate:\n",
    "forecaster = NaiveForecaster()\n",
    "\n",
    "# Fit:\n",
    "forecaster.fit(y)"
   ]
  },
  {
   "cell_type": "code",
   "execution_count": null,
   "metadata": {},
   "outputs": [],
   "source": [
    "\n",
    "# An sktime ForecastingHorizon object:\n",
    "sktime_fh = ForecastingHorizon(\n",
    "    pd.PeriodIndex(pd.date_range(\"1961-01\", periods=36, freq=\"M\")), is_relative=False\n",
    ")\n",
    "\n",
    "# numpy arrays are also valid:\n",
    "simple_fh = np.arange(1, 37)\n",
    "\n",
    "print(\n",
    "    f\"The sktime Forecasting Horizon:\\n\\n {sktime_fh}\"\n",
    "    \" \\n\\n The simple numpy based Forecasting Horizon:\"\n",
    "    \" \\n\\n {simple_fh} \\n\\n Both work!!\"\n",
    ")"
   ]
  },
  {
   "cell_type": "code",
   "execution_count": null,
   "metadata": {},
   "outputs": [],
   "source": [
    "# Predict:\n",
    "y_pred = forecaster.predict(sktime_fh)\n",
    "\n",
    "# Check it out:\n",
    "plot_series(y, y_pred, labels=[\"y\", \"y_pred\"])"
   ]
  },
  {
   "cell_type": "code",
   "execution_count": null,
   "metadata": {},
   "outputs": [],
   "source": [
    "# Instantiate:\n",
    "forecaster = NaiveForecaster(sp=12)\n",
    "\n",
    "# Fit:\n",
    "forecaster.fit(y)\n",
    "\n",
    "# Predict:\n",
    "y_pred = forecaster.predict(sktime_fh)\n",
    "\n",
    "# Check it out:\n",
    "plot_series(y, y_pred, labels=[\"y\", \"y_pred\"])"
   ]
  },
  {
   "cell_type": "code",
   "execution_count": null,
   "metadata": {},
   "outputs": [],
   "source": [
    "\n",
    "# Instantiate:\n",
    "forecaster = ThetaForecaster(sp=12)\n",
    "\n",
    "# Fit:\n",
    "forecaster.fit(y)\n",
    "\n",
    "# Predict:\n",
    "y_pred_theta = forecaster.predict(sktime_fh)\n",
    "\n",
    "# Check it out:\n",
    "plot_series(y, y_pred, y_pred_theta, labels=[\"y\", \"y_pred_naive\", \"y_pred_theta\"])"
   ]
  }
 ],
 "metadata": {
  "kernelspec": {
   "display_name": "Python 3.10.6 ('thisone')",
   "language": "python",
   "name": "python3"
  },
  "language_info": {
   "codemirror_mode": {
    "name": "ipython",
    "version": 3
   },
   "file_extension": ".py",
   "mimetype": "text/x-python",
   "name": "python",
   "nbconvert_exporter": "python",
   "pygments_lexer": "ipython3",
   "version": "3.10.6"
  },
  "orig_nbformat": 4,
  "vscode": {
   "interpreter": {
    "hash": "7996a5cd28996b69f6427e562b95ceb603a092331acdb6a620e160fb7b86c167"
   }
  }
 },
 "nbformat": 4,
 "nbformat_minor": 2
}
