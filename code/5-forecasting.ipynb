{
 "cells": [
  {
   "attachments": {},
   "cell_type": "markdown",
   "metadata": {},
   "source": [
    "Problem statement:\n",
    "\n",
    "Situation: Energy is produced in different forms and consumed by the regions in different rates.   \n",
    "\n",
    "Complication: Energy prices are increasing due to many reasons including but not limited to war, logistics and sanctions.   \n",
    "\n",
    "Question: Is it possible to see what types of energy have been historically produced and consumed by the different regions? Is it possible to predict how the productions and consumption will look like in the future?   \n",
    "\n",
    "Answer: ???\n"
   ]
  },
  {
   "cell_type": "code",
   "execution_count": 109,
   "metadata": {},
   "outputs": [],
   "source": [
    "import pandas as pd\n",
    "import numpy as np\n",
    "\n",
    "import seaborn as sns\n",
    "sns.set_theme(style='darkgrid', palette='crest')\n",
    "import matplotlib.pyplot as plt\n",
    "\n",
    "\n",
    "from sklearn.datasets import load_diabetes  # our diabetes dataset\n",
    "from sklearn.model_selection import (\n",
    "    train_test_split,\n",
    ")  # will allow us to helpfully subdivide our data\n",
    "from sklearn.linear_model import (\n",
    "    LinearRegression,\n",
    ")  # a simple model we can play around with\n",
    "\n",
    "from sktime.datasets import load_airline\n",
    "from sktime.utils.plotting import plot_series\n",
    "from sktime.forecasting.naive import NaiveForecaster\n",
    "\n",
    "from sktime.forecasting.base import ForecastingHorizon\n",
    "\n",
    "\n",
    "from sktime.forecasting.theta import ThetaForecaster\n",
    "\n",
    "from sktime.forecasting.arima import AutoARIMA\n",
    "\n",
    "\n",
    "# pd.set_option('display.max_columns', None)\n",
    "# pd.set_option('display.max_rows', None)"
   ]
  },
  {
   "cell_type": "code",
   "execution_count": 110,
   "metadata": {},
   "outputs": [
    {
     "name": "stderr",
     "output_type": "stream",
     "text": [
      "C:\\Users\\markella.nikolopoulo\\AppData\\Local\\Temp\\ipykernel_5704\\3475572669.py:4: DtypeWarning: Columns (5,6) have mixed types. Specify dtype option on import or set low_memory=False.\n",
      "  slutanvandning = pd.read_table('../data/to-use/slutanvandning-region-forbrukarkategori-bransletyp-kategori-energityp-ar.csv', sep=',')\n"
     ]
    }
   ],
   "source": [
    "leveranser_flytande = pd.read_table('../data/to-use/leveranser-flytande-bransle-region-ar.csv', sep=',')\n",
    "elproduction_bransleanvandning = pd.read_table('../data/to-use/elproduction-bransleanvandning-region-produktionssatt-bransletyp-ar.csv', sep=',')\n",
    "fjarrvarmeproduktion = pd.read_table('../data/to-use/fjarrvarmeproduktion-region-produktionssatt-bransletyp-ar.csv', sep=',')\n",
    "slutanvandning = pd.read_table('../data/to-use/slutanvandning-region-forbrukarkategori-bransletyp-kategori-energityp-ar.csv', sep=',')\n",
    "bransleforbrukning = pd.read_table('../data/to-use/branslefarbrukning-far-produktion-per-ar.csv', sep=',')\n",
    "energidata = pd.read_table('../data/to-use/energidata-per-ar.csv', sep=',')\n",
    "\n",
    "datasets = [leveranser_flytande, elproduction_bransleanvandning, \n",
    "            fjarrvarmeproduktion, slutanvandning, bransleforbrukning, energidata]\n",
    "\n",
    "\n",
    "## FIll NAs\n",
    "leveranser_flytande.m3 = leveranser_flytande.m3.fillna(method='ffill')\n",
    "fjarrvarmeproduktion.MWh = fjarrvarmeproduktion.MWh.interpolate()\n",
    "# slutanvandning = slutanvandning.fillna('fffill')\n",
    "energidata.MWh = energidata.MWh.fillna(method='ffill')\n",
    "\n",
    "\n",
    "# Slice dataset for regions\n",
    "leveranser_flytande = leveranser_flytande[leveranser_flytande.region.isin(['0160 T�by', '0117 �ster�ker', '0180 Stockholm', '0980 Gotland', '01 Stockholms l�n', '22 V�sternorrlands l�n', '09 Gotlands l�n', '00 Riket', '2581 Pite�', '1480 G�teborg'])].reset_index(drop=True)\n",
    "elproduction_bransleanvandning = elproduction_bransleanvandning[elproduction_bransleanvandning.region.isin(['0160 T�by', '0117 �ster�ker', '0180 Stockholm', '0980 Gotland', '01 Stockholms l�n', '22 V�sternorrlands l�n', '09 Gotlands l�n', '00 Riket', '2581 Pite�', '1480 G�teborg'])].reset_index(drop=True)\n",
    "fjarrvarmeproduktion = fjarrvarmeproduktion[fjarrvarmeproduktion.region.isin(['0160 T�by', '0117 �ster�ker', '0180 Stockholm', '0980 Gotland', '01 Stockholms l�n', '22 V�sternorrlands l�n', '09 Gotlands l�n', '00 Riket', '2581 Pite�', '1480 G�teborg'])].reset_index(drop=True)\n",
    "slutanvandning = slutanvandning[slutanvandning.region.isin(['0160 T�by', '0117 �ster�ker', '0180 Stockholm', '0980 Gotland', '01 Stockholms l�n', '22 V�sternorrlands l�n', '09 Gotlands l�n', '00 Riket', '2581 Pite�', '1480 G�teborg'])].reset_index(drop=True)\n",
    "energidata = energidata[energidata.region.isin(['0160 T�by', '0117 �ster�ker', '0180 Stockholm', '0980 Gotland', '01 Stockholms l�n', '22 V�sternorrlands l�n', '09 Gotlands l�n', '00 Riket', '2581 Pite�', '1480 G�teborg'])].reset_index(drop=True)\n",
    "\n",
    "\n",
    "## Group datasets\n",
    "leveranser_flytande = leveranser_flytande.groupby(['region', 'ar', 'fornybar_bransletyp'], as_index=False).agg(Sum=('m3', np.sum)).sort_values(by=['Sum']).reset_index(drop=True)\n",
    "elproduction_bransleanvandning_grouped = elproduction_bransleanvandning.groupby(['region', 'ar', 'fornybar_bransletyp', 'fornybar_produktionssatt'], as_index=False).agg(Sum=('MWh', np.sum)).sort_values(by=['Sum']).reset_index(drop=True)\n",
    "fjarrvarmeproduktion = fjarrvarmeproduktion.groupby(['region', 'ar', 'fornybar_bransletyp', 'fornybar_produktionssatt'], as_index=False).agg(Sum=('MWh', np.sum)).sort_values(by=['Sum']).reset_index(drop=True)\n",
    "slutanvandning = slutanvandning.groupby(['region', 'ar', 'fornybar_bransletyp', 'forbrukarkategori'], as_index=False).agg(Sum=('MWh', np.sum)).sort_values(by=['Sum']).reset_index(drop=True)\n",
    "bransleforbrukning = bransleforbrukning.groupby(['ar', 'fornybar_bransletyp', 'produktionsslag'], as_index=False).agg( Sum=('branslefarbrukning', np.sum)).sort_values(by=['Sum']).reset_index(drop=True)\n",
    "energidata = energidata.groupby(['region', 'ar', 'fornybar_energityp', 'fornybar_kategori'], as_index=False).agg(Sum=('MWh', np.sum)).sort_values(by=['Sum']).reset_index(drop=True)\n",
    "\n",
    "\n",
    "leveranser_flytande.ar = pd.to_datetime(leveranser_flytande.ar, format='%Y-%m-%d').dt.year\n",
    "elproduction_bransleanvandning_grouped.ar = pd.to_datetime(elproduction_bransleanvandning_grouped.ar, format='%Y-%m-%d').dt.year\n",
    "fjarrvarmeproduktion.ar = pd.to_datetime(fjarrvarmeproduktion.ar, format='%Y-%m-%d').dt.year\n",
    "slutanvandning.ar = pd.to_datetime(slutanvandning.ar, format='%Y-%m-%d').dt.year\n",
    "bransleforbrukning.ar = pd.to_datetime(bransleforbrukning.ar, format='%Y-%m-%d').dt.year\n",
    "energidata.ar = pd.to_datetime(energidata.ar, format='%Y-%m-%d').dt.year\n",
    "\n"
   ]
  },
  {
   "cell_type": "code",
   "execution_count": 111,
   "metadata": {},
   "outputs": [],
   "source": [
    "# Constants\n",
    "\n",
    "AR = 'ar'\n",
    "M3 = 'm3'\n",
    "MWH = 'MWh'\n",
    "\n",
    "BRANSLETYP = 'bransletyp'\n",
    "FARBRUKARKATEGORI = 'farbrukarkategori'\n",
    "PRODUCTIONSSATT = 'produktionssatt'\n",
    "KATEGORI = 'kategori'\n",
    "ENERGITYP = 'energityp'\n",
    "PRODUCTIONSSLAG = 'produktionsslag'\n",
    "BRANSLEFORBRUKNING = 'bransleforbukning'\n",
    "\n",
    "REGION = 'region'\n",
    "\n",
    "FORNYBAR_BRANSLETYP = 'fornybar_bransletyp'\n",
    "FORNYBAR_PRODUCTIONSSATT = 'fornybar_produktionssatt'\n",
    "FORNYBAR_PRODUCTIONSSLAG = 'fornybar_produktionssatt'\n",
    "FORNYBAR_ENERGITYP = 'fornybar_energityp'\n",
    "FORNYBAR_KATEGORI = 'fornybar_kategori'\n"
   ]
  },
  {
   "cell_type": "code",
   "execution_count": 112,
   "metadata": {},
   "outputs": [],
   "source": [
    "encodeList = [REGION, FORNYBAR_BRANSLETYP, FORNYBAR_PRODUCTIONSSATT, FORNYBAR_PRODUCTIONSSLAG, FORNYBAR_ENERGITYP, FORNYBAR_KATEGORI]"
   ]
  },
  {
   "cell_type": "code",
   "execution_count": 113,
   "metadata": {},
   "outputs": [],
   "source": [
    "for encode_item in encodeList:\n",
    "    if encode_item in leveranser_flytande.columns:\n",
    "        leveranser_flytande[encode_item].replace(leveranser_flytande[encode_item].unique(), range(\n",
    "            0, len(leveranser_flytande[encode_item].unique())), inplace=True)"
   ]
  },
  {
   "cell_type": "code",
   "execution_count": 114,
   "metadata": {},
   "outputs": [],
   "source": [
    "# # split our data - by loading X and y we get a frame of all our patient attributes (age, sex serum etc) and a seperate frame of outcomes\n",
    "# (\n",
    "#     attributes_train,\n",
    "#     attributes_test,\n",
    "#     progression_train,\n",
    "#     progression_test,\n",
    "# ) = train_test_split(leveranser_flytande, leveranser_flytande.Sum, test_size=0.33)\n",
    "\n",
    "# # Instantiate\n",
    "# linear_regression = LinearRegression()\n",
    "\n",
    "# # Fit\n",
    "# linear_regression.fit(attributes_train, progression_train)\n",
    "\n",
    "# # Predict\n",
    "# progression_predict = linear_regression.predict(attributes_test)"
   ]
  },
  {
   "attachments": {},
   "cell_type": "markdown",
   "metadata": {},
   "source": [
    "for each of the dataframes (not a level of the nexted loop; manualy copied block):\n",
    "\n",
    "for each region:   \n",
    "    for each type of energy:   \n",
    "        for each type of energy (if needed):    \n",
    "            find the max of ar    \n",
    "            create series with range ar.max+1:a.max+6   \n",
    "            create a series with ar as index and Sum as value   \n",
    "            plot and fit the forcaters   "
   ]
  },
  {
   "cell_type": "code",
   "execution_count": 130,
   "metadata": {},
   "outputs": [
    {
     "data": {
      "text/plain": [
       "Index(['region', 'ar', 'fornybar_bransletyp', 'Sum'], dtype='object')"
      ]
     },
     "execution_count": 130,
     "metadata": {},
     "output_type": "execute_result"
    }
   ],
   "source": [
    "leveranser_flytande.columns"
   ]
  },
  {
   "cell_type": "code",
   "execution_count": 127,
   "metadata": {},
   "outputs": [
    {
     "ename": "AttributeError",
     "evalue": "'DataFrame' object has no attribute 'REGION'",
     "output_type": "error",
     "traceback": [
      "\u001b[1;31m---------------------------------------------------------------------------\u001b[0m",
      "\u001b[1;31mAttributeError\u001b[0m                            Traceback (most recent call last)",
      "Cell \u001b[1;32mIn [127], line 3\u001b[0m\n\u001b[0;32m      1\u001b[0m \u001b[39m# leveranser_flytande\u001b[39;00m\n\u001b[1;32m----> 3\u001b[0m \u001b[39mfor\u001b[39;00m region \u001b[39min\u001b[39;00m leveranser_flytande\u001b[39m.\u001b[39mREGION\u001b[39m.\u001b[39mdrop_duplicates(keep\u001b[39m=\u001b[39m\u001b[39m'\u001b[39m\u001b[39mfirst\u001b[39m\u001b[39m'\u001b[39m)\u001b[39m.\u001b[39mreset_index(drop\u001b[39m=\u001b[39m\u001b[39mTrue\u001b[39;00m):\n\u001b[0;32m      4\u001b[0m     \u001b[39mprint\u001b[39m(region)\n\u001b[0;32m      5\u001b[0m     data \u001b[39m=\u001b[39m leveranser_flytande[leveranser_flytande\u001b[39m.\u001b[39mregion \u001b[39m==\u001b[39m region]\u001b[39m.\u001b[39mreset_index(drop\u001b[39m=\u001b[39m\u001b[39mTrue\u001b[39;00m)    \n",
      "File \u001b[1;32mc:\\ProgramData\\Anaconda3\\envs\\thisone\\lib\\site-packages\\pandas\\core\\generic.py:5575\u001b[0m, in \u001b[0;36mNDFrame.__getattr__\u001b[1;34m(self, name)\u001b[0m\n\u001b[0;32m   5568\u001b[0m \u001b[39mif\u001b[39;00m (\n\u001b[0;32m   5569\u001b[0m     name \u001b[39mnot\u001b[39;00m \u001b[39min\u001b[39;00m \u001b[39mself\u001b[39m\u001b[39m.\u001b[39m_internal_names_set\n\u001b[0;32m   5570\u001b[0m     \u001b[39mand\u001b[39;00m name \u001b[39mnot\u001b[39;00m \u001b[39min\u001b[39;00m \u001b[39mself\u001b[39m\u001b[39m.\u001b[39m_metadata\n\u001b[0;32m   5571\u001b[0m     \u001b[39mand\u001b[39;00m name \u001b[39mnot\u001b[39;00m \u001b[39min\u001b[39;00m \u001b[39mself\u001b[39m\u001b[39m.\u001b[39m_accessors\n\u001b[0;32m   5572\u001b[0m     \u001b[39mand\u001b[39;00m \u001b[39mself\u001b[39m\u001b[39m.\u001b[39m_info_axis\u001b[39m.\u001b[39m_can_hold_identifiers_and_holds_name(name)\n\u001b[0;32m   5573\u001b[0m ):\n\u001b[0;32m   5574\u001b[0m     \u001b[39mreturn\u001b[39;00m \u001b[39mself\u001b[39m[name]\n\u001b[1;32m-> 5575\u001b[0m \u001b[39mreturn\u001b[39;00m \u001b[39mobject\u001b[39;49m\u001b[39m.\u001b[39;49m\u001b[39m__getattribute__\u001b[39;49m(\u001b[39mself\u001b[39;49m, name)\n",
      "\u001b[1;31mAttributeError\u001b[0m: 'DataFrame' object has no attribute 'REGION'"
     ]
    }
   ],
   "source": [
    "# leveranser_flytande\n",
    "\n",
    "for region in leveranser_flytande.region.drop_duplicates(keep='first').reset_index(drop=True):\n",
    "    print(region)\n",
    "    data = leveranser_flytande[leveranser_flytande.region == region].reset_index(drop=True)    \n",
    "    for fornybar_bransletyp in data.fornybar_bransletyp.drop_duplicates(keep='first').reset_index(drop=True):\n",
    "        print(fornybar_bransletyp)\n",
    "        data = data[data.fornybar_bransletyp == fornybar_bransletyp].reset_index(drop=True)\n",
    "\n",
    "# elproduction_bransleanvandning_grouped\n",
    "\n",
    "\n",
    "# fjarrvarmeproduktion\n",
    "\n",
    "\n",
    "# slutanvandning\n",
    "\n",
    "\n",
    "# bransleforbrukning\n",
    "\n",
    "\n",
    "# energidata\n",
    "\n",
    "\n"
   ]
  },
  {
   "cell_type": "code",
   "execution_count": 116,
   "metadata": {},
   "outputs": [
    {
     "data": {
      "text/plain": [
       "1970"
      ]
     },
     "execution_count": 116,
     "metadata": {},
     "output_type": "execute_result"
    }
   ],
   "source": [
    "leveranser_flytande.ar.max()"
   ]
  },
  {
   "cell_type": "code",
   "execution_count": 122,
   "metadata": {},
   "outputs": [],
   "source": [
    "leveranser_flytande_s = leveranser_flytande.set_index(['ar', 'region', 'fornybar_bransletyp']).squeeze()"
   ]
  },
  {
   "cell_type": "code",
   "execution_count": 124,
   "metadata": {},
   "outputs": [
    {
     "ename": "TypeError",
     "evalue": "y must be in an sktime compatible format, of scitype Series, Panel or Hierarchical, for instance a pandas.DataFrame with sktime compatible time indices, or with MultiIndex and last(-1) level an sktime compatible time index. See the forecasting tutorial examples/01_forecasting.ipynb, or the data format tutorial examples/AA_datatypes_and_datasets.ipynb,If you think y is already in an sktime supported input format, run sktime.datatypes.check_raise(y, mtype) to diagnose the error, where mtype is the string of the type specification you want for y. Possible mtype specification strings are as follows. \"For Hierarchical scitype: ['pd_multiindex_hier']. ",
     "output_type": "error",
     "traceback": [
      "\u001b[1;31m---------------------------------------------------------------------------\u001b[0m",
      "\u001b[1;31mTypeError\u001b[0m                                 Traceback (most recent call last)",
      "Cell \u001b[1;32mIn [124], line 9\u001b[0m\n\u001b[0;32m      6\u001b[0m forecaster \u001b[39m=\u001b[39m NaiveForecaster(strategy\u001b[39m=\u001b[39m\u001b[39m'\u001b[39m\u001b[39mmean\u001b[39m\u001b[39m'\u001b[39m)\n\u001b[0;32m      8\u001b[0m \u001b[39m# Fit:\u001b[39;00m\n\u001b[1;32m----> 9\u001b[0m forecaster\u001b[39m.\u001b[39mfit(leveranser_flytande_s)\n",
      "File \u001b[1;32mc:\\ProgramData\\Anaconda3\\envs\\thisone\\lib\\site-packages\\sktime\\forecasting\\base\\_base.py:334\u001b[0m, in \u001b[0;36mBaseForecaster.fit\u001b[1;34m(self, y, X, fh)\u001b[0m\n\u001b[0;32m    331\u001b[0m \u001b[39mself\u001b[39m\u001b[39m.\u001b[39mreset()\n\u001b[0;32m    333\u001b[0m \u001b[39m# check and convert X/y\u001b[39;00m\n\u001b[1;32m--> 334\u001b[0m X_inner, y_inner \u001b[39m=\u001b[39m \u001b[39mself\u001b[39;49m\u001b[39m.\u001b[39;49m_check_X_y(X\u001b[39m=\u001b[39;49mX, y\u001b[39m=\u001b[39;49my)\n\u001b[0;32m    336\u001b[0m \u001b[39m# set internal X/y to the new X/y\u001b[39;00m\n\u001b[0;32m    337\u001b[0m \u001b[39m# this also updates cutoff from y\u001b[39;00m\n\u001b[0;32m    338\u001b[0m \u001b[39mself\u001b[39m\u001b[39m.\u001b[39m_update_y_X(y_inner, X_inner)\n",
      "File \u001b[1;32mc:\\ProgramData\\Anaconda3\\envs\\thisone\\lib\\site-packages\\sktime\\forecasting\\base\\_base.py:1338\u001b[0m, in \u001b[0;36mBaseForecaster._check_X_y\u001b[1;34m(self, X, y)\u001b[0m\n\u001b[0;32m   1325\u001b[0m msg \u001b[39m=\u001b[39m (\n\u001b[0;32m   1326\u001b[0m     \u001b[39m\"\u001b[39m\u001b[39my must be in an sktime compatible format, \u001b[39m\u001b[39m\"\u001b[39m\n\u001b[0;32m   1327\u001b[0m     \u001b[39m\"\u001b[39m\u001b[39mof scitype Series, Panel or Hierarchical, \u001b[39m\u001b[39m\"\u001b[39m\n\u001b[1;32m   (...)\u001b[0m\n\u001b[0;32m   1335\u001b[0m     \u001b[39m\"\u001b[39m\u001b[39mPossible mtype specification strings are as follows. \u001b[39m\u001b[39m\"\u001b[39m\n\u001b[0;32m   1336\u001b[0m )\n\u001b[0;32m   1337\u001b[0m \u001b[39mif\u001b[39;00m \u001b[39mnot\u001b[39;00m y_valid:\n\u001b[1;32m-> 1338\u001b[0m     \u001b[39mraise\u001b[39;00m \u001b[39mTypeError\u001b[39;00m(msg \u001b[39m+\u001b[39m mtypes_msg)\n\u001b[0;32m   1340\u001b[0m y_scitype \u001b[39m=\u001b[39m y_metadata[\u001b[39m\"\u001b[39m\u001b[39mscitype\u001b[39m\u001b[39m\"\u001b[39m]\n\u001b[0;32m   1341\u001b[0m \u001b[39mself\u001b[39m\u001b[39m.\u001b[39m_y_mtype_last_seen \u001b[39m=\u001b[39m y_metadata[\u001b[39m\"\u001b[39m\u001b[39mmtype\u001b[39m\u001b[39m\"\u001b[39m]\n",
      "\u001b[1;31mTypeError\u001b[0m: y must be in an sktime compatible format, of scitype Series, Panel or Hierarchical, for instance a pandas.DataFrame with sktime compatible time indices, or with MultiIndex and last(-1) level an sktime compatible time index. See the forecasting tutorial examples/01_forecasting.ipynb, or the data format tutorial examples/AA_datatypes_and_datasets.ipynb,If you think y is already in an sktime supported input format, run sktime.datatypes.check_raise(y, mtype) to diagnose the error, where mtype is the string of the type specification you want for y. Possible mtype specification strings are as follows. \"For Hierarchical scitype: ['pd_multiindex_hier']. "
     ]
    }
   ],
   "source": [
    "# Get our airline data:\n",
    "y = leveranser_flytande_s\n",
    "plot_series(y, labels=['y'])\n",
    "\n",
    "# Instantiate:\n",
    "forecaster = NaiveForecaster(strategy='mean')\n",
    "\n",
    "# Fit:\n",
    "forecaster.fit(leveranser_flytande)"
   ]
  },
  {
   "cell_type": "code",
   "execution_count": 82,
   "metadata": {},
   "outputs": [],
   "source": [
    "\n",
    "# An sktime ForecastingHorizon object:\n",
    "sktime_fh = ForecastingHorizon(\n",
    "    pd.PeriodIndex(pd.date_range(\"1970\", periods=10, freq=\"Y\")), is_relative=False\n",
    ")"
   ]
  },
  {
   "cell_type": "code",
   "execution_count": 79,
   "metadata": {},
   "outputs": [],
   "source": [
    "# Predict:\n",
    "y_pred = forecaster.predict(fh=[1971, 1972, 1973])\n",
    "\n",
    "# Check it out:\n",
    "# plot_series(leveranser_flytande, y_pred, labels=[\"y\", \"y_pred\"])"
   ]
  },
  {
   "cell_type": "code",
   "execution_count": 83,
   "metadata": {},
   "outputs": [],
   "source": [
    "# Instantiate:\n",
    "forecaster = NaiveForecaster(sp=12)\n",
    "\n",
    "# Fit:\n",
    "forecaster.fit(leveranser_flytande)\n",
    "\n",
    "# Predict:\n",
    "y_pred = forecaster.predict(fh=[1971, 1972, 1973])\n",
    "\n",
    "# Check it out:\n",
    "# plot_series(leveranser_flytande, y_pred, labels=[\"y\", \"y_pred\"])"
   ]
  },
  {
   "cell_type": "code",
   "execution_count": 84,
   "metadata": {},
   "outputs": [
    {
     "ename": "ValueError",
     "evalue": "Multiplicative seasonality is not appropriate for zero and negative values",
     "output_type": "error",
     "traceback": [
      "\u001b[1;31m---------------------------------------------------------------------------\u001b[0m",
      "\u001b[1;31mValueError\u001b[0m                                Traceback (most recent call last)",
      "Cell \u001b[1;32mIn [84], line 5\u001b[0m\n\u001b[0;32m      2\u001b[0m forecaster \u001b[39m=\u001b[39m ThetaForecaster(sp\u001b[39m=\u001b[39m\u001b[39m12\u001b[39m)\n\u001b[0;32m      4\u001b[0m \u001b[39m# Fit:\u001b[39;00m\n\u001b[1;32m----> 5\u001b[0m forecaster\u001b[39m.\u001b[39mfit(leveranser_flytande)\n\u001b[0;32m      7\u001b[0m \u001b[39m# Predict:\u001b[39;00m\n\u001b[0;32m      8\u001b[0m y_pred_theta \u001b[39m=\u001b[39m forecaster\u001b[39m.\u001b[39mpredict(fh\u001b[39m=\u001b[39m[\u001b[39m1971\u001b[39m, \u001b[39m1972\u001b[39m, \u001b[39m1973\u001b[39m])\n",
      "File \u001b[1;32mc:\\ProgramData\\Anaconda3\\envs\\thisone\\lib\\site-packages\\sktime\\forecasting\\base\\_base.py:352\u001b[0m, in \u001b[0;36mBaseForecaster.fit\u001b[1;34m(self, y, X, fh)\u001b[0m\n\u001b[0;32m    349\u001b[0m     \u001b[39mself\u001b[39m\u001b[39m.\u001b[39m_fit(y\u001b[39m=\u001b[39my_inner, X\u001b[39m=\u001b[39mX_inner, fh\u001b[39m=\u001b[39mfh)\n\u001b[0;32m    350\u001b[0m \u001b[39melse\u001b[39;00m:\n\u001b[0;32m    351\u001b[0m     \u001b[39m# otherwise we call the vectorized version of fit\u001b[39;00m\n\u001b[1;32m--> 352\u001b[0m     \u001b[39mself\u001b[39;49m\u001b[39m.\u001b[39;49m_vectorize(\u001b[39m\"\u001b[39;49m\u001b[39mfit\u001b[39;49m\u001b[39m\"\u001b[39;49m, y\u001b[39m=\u001b[39;49my_inner, X\u001b[39m=\u001b[39;49mX_inner, fh\u001b[39m=\u001b[39;49mfh)\n\u001b[0;32m    354\u001b[0m \u001b[39m# this should happen last\u001b[39;00m\n\u001b[0;32m    355\u001b[0m \u001b[39mself\u001b[39m\u001b[39m.\u001b[39m_is_fitted \u001b[39m=\u001b[39m \u001b[39mTrue\u001b[39;00m\n",
      "File \u001b[1;32mc:\\ProgramData\\Anaconda3\\envs\\thisone\\lib\\site-packages\\sktime\\forecasting\\base\\_base.py:1745\u001b[0m, in \u001b[0;36mBaseForecaster._vectorize\u001b[1;34m(self, methodname, **kwargs)\u001b[0m\n\u001b[0;32m   1743\u001b[0m             \u001b[39mself\u001b[39m\u001b[39m.\u001b[39mforecasters_\u001b[39m.\u001b[39miloc[i]\u001b[39m.\u001b[39miloc[j] \u001b[39m=\u001b[39m \u001b[39mself\u001b[39m\u001b[39m.\u001b[39mclone()\n\u001b[0;32m   1744\u001b[0m         method \u001b[39m=\u001b[39m \u001b[39mgetattr\u001b[39m(\u001b[39mself\u001b[39m\u001b[39m.\u001b[39mforecasters_\u001b[39m.\u001b[39miloc[i]\u001b[39m.\u001b[39miloc[j], methodname)\n\u001b[1;32m-> 1745\u001b[0m         method(y\u001b[39m=\u001b[39mys[ix], X\u001b[39m=\u001b[39mXs[i], \u001b[39m*\u001b[39m\u001b[39m*\u001b[39mkwargs)\n\u001b[0;32m   1746\u001b[0m     \u001b[39mreturn\u001b[39;00m \u001b[39mself\u001b[39m\n\u001b[0;32m   1748\u001b[0m \u001b[39melif\u001b[39;00m methodname \u001b[39min\u001b[39;00m PREDICT_METHODS:\n",
      "File \u001b[1;32mc:\\ProgramData\\Anaconda3\\envs\\thisone\\lib\\site-packages\\sktime\\forecasting\\base\\_base.py:349\u001b[0m, in \u001b[0;36mBaseForecaster.fit\u001b[1;34m(self, y, X, fh)\u001b[0m\n\u001b[0;32m    347\u001b[0m \u001b[39m# we call the ordinary _fit if no looping/vectorization needed\u001b[39;00m\n\u001b[0;32m    348\u001b[0m \u001b[39mif\u001b[39;00m \u001b[39mnot\u001b[39;00m vectorization_needed:\n\u001b[1;32m--> 349\u001b[0m     \u001b[39mself\u001b[39;49m\u001b[39m.\u001b[39;49m_fit(y\u001b[39m=\u001b[39;49my_inner, X\u001b[39m=\u001b[39;49mX_inner, fh\u001b[39m=\u001b[39;49mfh)\n\u001b[0;32m    350\u001b[0m \u001b[39melse\u001b[39;00m:\n\u001b[0;32m    351\u001b[0m     \u001b[39m# otherwise we call the vectorized version of fit\u001b[39;00m\n\u001b[0;32m    352\u001b[0m     \u001b[39mself\u001b[39m\u001b[39m.\u001b[39m_vectorize(\u001b[39m\"\u001b[39m\u001b[39mfit\u001b[39m\u001b[39m\"\u001b[39m, y\u001b[39m=\u001b[39my_inner, X\u001b[39m=\u001b[39mX_inner, fh\u001b[39m=\u001b[39mfh)\n",
      "File \u001b[1;32mc:\\ProgramData\\Anaconda3\\envs\\thisone\\lib\\site-packages\\sktime\\forecasting\\theta.py:134\u001b[0m, in \u001b[0;36mThetaForecaster._fit\u001b[1;34m(self, y, X, fh)\u001b[0m\n\u001b[0;32m    132\u001b[0m \u001b[39mif\u001b[39;00m \u001b[39mself\u001b[39m\u001b[39m.\u001b[39mdeseasonalize:\n\u001b[0;32m    133\u001b[0m     \u001b[39mself\u001b[39m\u001b[39m.\u001b[39mdeseasonalizer_ \u001b[39m=\u001b[39m Deseasonalizer(sp\u001b[39m=\u001b[39m\u001b[39mself\u001b[39m\u001b[39m.\u001b[39msp, model\u001b[39m=\u001b[39m\u001b[39m\"\u001b[39m\u001b[39mmultiplicative\u001b[39m\u001b[39m\"\u001b[39m)\n\u001b[1;32m--> 134\u001b[0m     y \u001b[39m=\u001b[39m \u001b[39mself\u001b[39;49m\u001b[39m.\u001b[39;49mdeseasonalizer_\u001b[39m.\u001b[39;49mfit_transform(y)\n\u001b[0;32m    136\u001b[0m \u001b[39mself\u001b[39m\u001b[39m.\u001b[39minitialization_method \u001b[39m=\u001b[39m \u001b[39m\"\u001b[39m\u001b[39mknown\u001b[39m\u001b[39m\"\u001b[39m \u001b[39mif\u001b[39;00m \u001b[39mself\u001b[39m\u001b[39m.\u001b[39minitial_level \u001b[39melse\u001b[39;00m \u001b[39m\"\u001b[39m\u001b[39mestimated\u001b[39m\u001b[39m\"\u001b[39m\n\u001b[0;32m    137\u001b[0m \u001b[39m# fit exponential smoothing forecaster\u001b[39;00m\n\u001b[0;32m    138\u001b[0m \u001b[39m# find theta lines: Theta lines are just SES + drift\u001b[39;00m\n",
      "File \u001b[1;32mc:\\ProgramData\\Anaconda3\\envs\\thisone\\lib\\site-packages\\sktime\\transformations\\base.py:554\u001b[0m, in \u001b[0;36mBaseTransformer.fit_transform\u001b[1;34m(self, X, y)\u001b[0m\n\u001b[0;32m    497\u001b[0m \u001b[39m\"\"\"Fit to data, then transform it.\u001b[39;00m\n\u001b[0;32m    498\u001b[0m \n\u001b[0;32m    499\u001b[0m \u001b[39mFits the transformer to X and y and returns a transformed version of X.\u001b[39;00m\n\u001b[1;32m   (...)\u001b[0m\n\u001b[0;32m    550\u001b[0m \u001b[39m        Example: i-th instance of the output is the i-th window running over `X`\u001b[39;00m\n\u001b[0;32m    551\u001b[0m \u001b[39m\"\"\"\u001b[39;00m\n\u001b[0;32m    552\u001b[0m \u001b[39m# Non-optimized default implementation; override when a better\u001b[39;00m\n\u001b[0;32m    553\u001b[0m \u001b[39m# method is possible for a given algorithm.\u001b[39;00m\n\u001b[1;32m--> 554\u001b[0m \u001b[39mreturn\u001b[39;00m \u001b[39mself\u001b[39;49m\u001b[39m.\u001b[39;49mfit(X, y)\u001b[39m.\u001b[39mtransform(X, y)\n",
      "File \u001b[1;32mc:\\ProgramData\\Anaconda3\\envs\\thisone\\lib\\site-packages\\sktime\\transformations\\base.py:413\u001b[0m, in \u001b[0;36mBaseTransformer.fit\u001b[1;34m(self, X, y)\u001b[0m\n\u001b[0;32m    411\u001b[0m \u001b[39m# we call the ordinary _fit if no looping/vectorization needed\u001b[39;00m\n\u001b[0;32m    412\u001b[0m \u001b[39mif\u001b[39;00m \u001b[39mnot\u001b[39;00m vectorization_needed:\n\u001b[1;32m--> 413\u001b[0m     \u001b[39mself\u001b[39;49m\u001b[39m.\u001b[39;49m_fit(X\u001b[39m=\u001b[39;49mX_inner, y\u001b[39m=\u001b[39;49my_inner)\n\u001b[0;32m    414\u001b[0m \u001b[39melse\u001b[39;00m:\n\u001b[0;32m    415\u001b[0m     \u001b[39m# otherwise we call the vectorized version of fit\u001b[39;00m\n\u001b[0;32m    416\u001b[0m     \u001b[39mself\u001b[39m\u001b[39m.\u001b[39m_vectorize(\u001b[39m\"\u001b[39m\u001b[39mfit\u001b[39m\u001b[39m\"\u001b[39m, X\u001b[39m=\u001b[39mX_inner, y\u001b[39m=\u001b[39my_inner)\n",
      "File \u001b[1;32mc:\\ProgramData\\Anaconda3\\envs\\thisone\\lib\\site-packages\\sktime\\transformations\\series\\detrend\\_deseasonalize.py:128\u001b[0m, in \u001b[0;36mDeseasonalizer._fit\u001b[1;34m(self, X, y)\u001b[0m\n\u001b[0;32m    125\u001b[0m sp \u001b[39m=\u001b[39m \u001b[39mself\u001b[39m\u001b[39m.\u001b[39msp\n\u001b[0;32m    127\u001b[0m \u001b[39m# apply seasonal decomposition\u001b[39;00m\n\u001b[1;32m--> 128\u001b[0m \u001b[39mself\u001b[39m\u001b[39m.\u001b[39mseasonal_ \u001b[39m=\u001b[39m seasonal_decompose(\n\u001b[0;32m    129\u001b[0m     X,\n\u001b[0;32m    130\u001b[0m     model\u001b[39m=\u001b[39;49m\u001b[39mself\u001b[39;49m\u001b[39m.\u001b[39;49mmodel,\n\u001b[0;32m    131\u001b[0m     period\u001b[39m=\u001b[39;49msp,\n\u001b[0;32m    132\u001b[0m     filt\u001b[39m=\u001b[39;49m\u001b[39mNone\u001b[39;49;00m,\n\u001b[0;32m    133\u001b[0m     two_sided\u001b[39m=\u001b[39;49m\u001b[39mTrue\u001b[39;49;00m,\n\u001b[0;32m    134\u001b[0m     extrapolate_trend\u001b[39m=\u001b[39;49m\u001b[39m0\u001b[39;49m,\n\u001b[0;32m    135\u001b[0m )\u001b[39m.\u001b[39mseasonal\u001b[39m.\u001b[39miloc[:sp]\n\u001b[0;32m    136\u001b[0m \u001b[39mreturn\u001b[39;00m \u001b[39mself\u001b[39m\n",
      "File \u001b[1;32mc:\\ProgramData\\Anaconda3\\envs\\thisone\\lib\\site-packages\\statsmodels\\tsa\\seasonal.py:149\u001b[0m, in \u001b[0;36mseasonal_decompose\u001b[1;34m(x, model, filt, period, two_sided, extrapolate_trend)\u001b[0m\n\u001b[0;32m    147\u001b[0m \u001b[39mif\u001b[39;00m model\u001b[39m.\u001b[39mstartswith(\u001b[39m\"\u001b[39m\u001b[39mm\u001b[39m\u001b[39m\"\u001b[39m):\n\u001b[0;32m    148\u001b[0m     \u001b[39mif\u001b[39;00m np\u001b[39m.\u001b[39many(x \u001b[39m<\u001b[39m\u001b[39m=\u001b[39m \u001b[39m0\u001b[39m):\n\u001b[1;32m--> 149\u001b[0m         \u001b[39mraise\u001b[39;00m \u001b[39mValueError\u001b[39;00m(\n\u001b[0;32m    150\u001b[0m             \u001b[39m\"\u001b[39m\u001b[39mMultiplicative seasonality is not appropriate \u001b[39m\u001b[39m\"\u001b[39m\n\u001b[0;32m    151\u001b[0m             \u001b[39m\"\u001b[39m\u001b[39mfor zero and negative values\u001b[39m\u001b[39m\"\u001b[39m\n\u001b[0;32m    152\u001b[0m         )\n\u001b[0;32m    154\u001b[0m \u001b[39mif\u001b[39;00m period \u001b[39mis\u001b[39;00m \u001b[39mNone\u001b[39;00m:\n\u001b[0;32m    155\u001b[0m     \u001b[39mif\u001b[39;00m pfreq \u001b[39mis\u001b[39;00m \u001b[39mnot\u001b[39;00m \u001b[39mNone\u001b[39;00m:\n",
      "\u001b[1;31mValueError\u001b[0m: Multiplicative seasonality is not appropriate for zero and negative values"
     ]
    }
   ],
   "source": [
    "\n",
    "# Instantiate:\n",
    "forecaster = ThetaForecaster(sp=12)\n",
    "\n",
    "# Fit:\n",
    "forecaster.fit(leveranser_flytande)\n",
    "\n",
    "# Predict:\n",
    "y_pred_theta = forecaster.predict(fh=[1971, 1972, 1973])\n",
    "\n",
    "# Check it out:\n",
    "# plot_series(leveranser_flytande, y_pred, y_pred_theta, labels=[\"y\", \"y_pred_naive\", \"y_pred_theta\"])"
   ]
  },
  {
   "cell_type": "code",
   "execution_count": 85,
   "metadata": {},
   "outputs": [
    {
     "name": "stderr",
     "output_type": "stream",
     "text": [
      "c:\\ProgramData\\Anaconda3\\envs\\thisone\\lib\\site-packages\\pmdarima\\arima\\auto.py:444: UserWarning: Input time-series is completely constant; returning a (0, 0, 0) ARMA.\n",
      "  warnings.warn('Input time-series is completely constant; '\n"
     ]
    }
   ],
   "source": [
    "from sktime.forecasting.arima import AutoARIMA\n",
    "\n",
    "forecaster = AutoARIMA(sp=12, d=0, max_p=2, max_q=2, suppress_warnings=True)\n",
    "forecaster.fit(leveranser_flytande)\n",
    "\n",
    "y_pred = forecaster.predict(fh=[1971, 1972, 1973])"
   ]
  },
  {
   "cell_type": "code",
   "execution_count": 87,
   "metadata": {},
   "outputs": [
    {
     "name": "stderr",
     "output_type": "stream",
     "text": [
      "c:\\ProgramData\\Anaconda3\\envs\\thisone\\lib\\site-packages\\sktime\\forecasting\\ets.py:251: UserWarning: Warning: time series is not strictly positive, multiplicative components are ommitted\n",
      "  warnings.warn(\n"
     ]
    }
   ],
   "source": [
    "from sktime.forecasting.ets import AutoETS\n",
    "\n",
    "forecaster = AutoETS(auto=True, n_jobs=-1, sp=12)\n",
    "forecaster.fit(leveranser_flytande)\n",
    "\n",
    "y_pred = forecaster.predict(fh=[1971, 1972, 1973])"
   ]
  }
 ],
 "metadata": {
  "kernelspec": {
   "display_name": "Python 3.10.6 ('thisone')",
   "language": "python",
   "name": "python3"
  },
  "language_info": {
   "codemirror_mode": {
    "name": "ipython",
    "version": 3
   },
   "file_extension": ".py",
   "mimetype": "text/x-python",
   "name": "python",
   "nbconvert_exporter": "python",
   "pygments_lexer": "ipython3",
   "version": "3.10.6"
  },
  "orig_nbformat": 4,
  "vscode": {
   "interpreter": {
    "hash": "7996a5cd28996b69f6427e562b95ceb603a092331acdb6a620e160fb7b86c167"
   }
  }
 },
 "nbformat": 4,
 "nbformat_minor": 2
}
