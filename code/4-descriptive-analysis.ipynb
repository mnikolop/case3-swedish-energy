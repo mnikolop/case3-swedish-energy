{
 "cells": [
  {
   "cell_type": "markdown",
   "metadata": {},
   "source": [
    "nuclear not green and stuc for 10 years\n",
    "forecasts for produciton/consuption per type and region\n",
    "predictions 6 years back (try to find datasets covering periods before covid)\n",
    "plan horizon for most companies 3 years\n",
    "find a region to use as example (österåker/osteraker)\n"
   ]
  },
  {
   "cell_type": "code",
   "execution_count": 114,
   "metadata": {},
   "outputs": [],
   "source": [
    "import pandas as pd\n",
    "import numpy as np\n",
    "import seaborn as sns\n",
    "import matplotlib.pyplot as plt\n",
    "# import plotly.express as px\n",
    "# import streamlit as st\n",
    "import ipywidgets as widgets\n",
    "from ipywidgets import interact, interact_manual\n",
    "from IPython.display import display\n",
    "\n",
    "# from jupyter_dash import JupyterDash\n",
    "# from dash import Dash, dcc, html, Input, Output\n"
   ]
  },
  {
   "cell_type": "code",
   "execution_count": 115,
   "metadata": {},
   "outputs": [],
   "source": [
    "leveranser_flytande = pd.read_table('../data/to-use/leveranser-flytande-bransle-region-ar.csv', sep=',')\n",
    "elproduction_bransleanvandning = pd.read_table('../data/to-use/elproduction-bransleanvandning-region-produktionssatt-bransletyp-ar.csv', sep=',')\n",
    "fjarrvarmeproduktion = pd.read_table('../data/to-use/fjarrvarmeproduktion-region-produktionssatt-bransletyp-ar.csv', sep=',')\n",
    "slutanvandning = pd.read_table(\n",
    "    '../data/to-use/slutanvandning-region-forbrukarkategori-bransletyp-kategori-energityp-ar.csv', sep=',')\n",
    "branslefarbrukning = pd.read_table('../data/to-use/branslefarbrukning-far-produktion-per-ar.csv', sep=',')\n",
    "energidata = pd.read_table('../data/to-use/energidata-per-ar.csv', sep=',')\n"
   ]
  },
  {
   "cell_type": "code",
   "execution_count": 116,
   "metadata": {},
   "outputs": [],
   "source": [
    "datasets = [leveranser_flytande, elproduction_bransleanvandning, \n",
    "            fjarrvarmeproduktion, slutanvandning, branslefarbrukning, energidata]\n",
    "\n",
    "variables = ['region', 'bransletyp', 'ar', 'm3', 'farbrukarkategori', 'produktionssatt',\n",
    "             'MWh', 'kategori', 'energityp', 'produktionsslag', 'branslefarbrukning']\n",
    "\n"
   ]
  },
  {
   "cell_type": "code",
   "execution_count": 117,
   "metadata": {},
   "outputs": [],
   "source": [
    "for d in datasets:\n",
    "    d.ar = d.ar.astype(int)"
   ]
  },
  {
   "cell_type": "code",
   "execution_count": 118,
   "metadata": {},
   "outputs": [
    {
     "name": "stdout",
     "output_type": "stream",
     "text": [
      "Dataframe:  leveranser_flytande\n",
      "Number of Nuls:  214174 out of 353854\n",
      "               region bransletyp           forbrukarkategori  \\\n",
      "count          353854     353854                      279360   \n",
      "unique            313         23                          11   \n",
      "top     1461 Mellerud     etanol  jordbruk, skogsbruk, fiske   \n",
      "freq             1198      40241                       27936   \n",
      "\n",
      "       fornybar_bransletyp  \n",
      "count               353854  \n",
      "unique                   3  \n",
      "top          icke-fornybar  \n",
      "freq                217168  \n",
      "Dataframe:  elproduction_bransleanvandning\n",
      "Number of Nuls:  0 out of 194832\n",
      "          region                         produktionssatt    bransletyp  \\\n",
      "count     194832                                  194832        194832   \n",
      "unique       313                                       5             9   \n",
      "top     00 Riket  kraftv�rmeverk + industriellt mottryck  elproduktion   \n",
      "freq         624                                   41220         23728   \n",
      "\n",
      "       fornybar_bransletyp fornybar_produktionssatt  \n",
      "count               194832                   194832  \n",
      "unique                   1                        3  \n",
      "top                  okand                 fornybar  \n",
      "freq                194832                    82440  \n",
      "Dataframe:  fjarrvarmeproduktion\n",
      "Number of Nuls:  419328 out of 917532\n",
      "          region produktionssatt            bransletyp fornybar_bransletyp  \\\n",
      "count     917532          917532                917532              917532   \n",
      "unique       313               7                     9                   1   \n",
      "top     00 Riket  kraftv�rmeverk  fj�rrv�rmeproduktion               okand   \n",
      "freq        2940          131076                113596              917532   \n",
      "\n",
      "       fornybar_produktionssatt  \n",
      "count                    917532  \n",
      "unique                        3  \n",
      "top                    fornybar  \n",
      "freq                     524304  \n",
      "Dataframe:  slutanvandning\n",
      "Number of Nuls:  419328 out of 917532\n",
      "          region produktionssatt            bransletyp fornybar_bransletyp  \\\n",
      "count     917532          917532                917532              917532   \n",
      "unique       313               7                     9                   1   \n",
      "top     00 Riket  kraftv�rmeverk  fj�rrv�rmeproduktion               okand   \n",
      "freq        2940          131076                113596              917532   \n",
      "\n",
      "       fornybar_produktionssatt  \n",
      "count                    917532  \n",
      "unique                        3  \n",
      "top                    fornybar  \n",
      "freq                     524304  \n",
      "Dataframe:  branslefarbrukning\n",
      "Number of Nuls:  419328 out of 917532\n",
      "          region produktionssatt            bransletyp fornybar_bransletyp  \\\n",
      "count     917532          917532                917532              917532   \n",
      "unique       313               7                     9                   1   \n",
      "top     00 Riket  kraftv�rmeverk  fj�rrv�rmeproduktion               okand   \n",
      "freq        2940          131076                113596              917532   \n",
      "\n",
      "       fornybar_produktionssatt  \n",
      "count                    917532  \n",
      "unique                        3  \n",
      "top                    fornybar  \n",
      "freq                     524304  \n",
      "Dataframe:  energidata\n",
      "Number of Nuls:  419328 out of 917532\n",
      "          region produktionssatt            bransletyp fornybar_bransletyp  \\\n",
      "count     917532          917532                917532              917532   \n",
      "unique       313               7                     9                   1   \n",
      "top     00 Riket  kraftv�rmeverk  fj�rrv�rmeproduktion               okand   \n",
      "freq        2940          131076                113596              917532   \n",
      "\n",
      "       fornybar_produktionssatt  \n",
      "count                    917532  \n",
      "unique                        3  \n",
      "top                    fornybar  \n",
      "freq                     524304  \n"
     ]
    }
   ],
   "source": [
    "for d in datasets:\n",
    "    name = [x for x in globals() if globals()[x] is d][0]\n",
    "    print('Dataframe: ', name)\n",
    "    \n",
    "    contains_nulls = d.isna().sum().sum()\n",
    "    print('Number of Nuls: ', contains_nulls, 'out of', len(d))\n",
    "    print(d.describe(include='object'))\n",
    "\n"
   ]
  },
  {
   "cell_type": "code",
   "execution_count": 140,
   "metadata": {},
   "outputs": [
    {
     "data": {
      "application/vnd.jupyter.widget-view+json": {
       "model_id": "daa60d9dc59942a8ac27c3c83db87560",
       "version_major": 2,
       "version_minor": 0
      },
      "text/plain": [
       "SelectMultiple(description='Region:', options=('00 Riket', '0114 Upplands V�sby', '0115 Vallentuna', '0117 �st…"
      ]
     },
     "metadata": {},
     "output_type": "display_data"
    },
    {
     "name": "stderr",
     "output_type": "stream",
     "text": [
      "C:\\Users\\markella.nikolopoulo\\AppData\\Local\\Temp\\ipykernel_15400\\383027611.py:10: FutureWarning: The default dtype for empty Series will be 'object' instead of 'float64' in a future version. Specify a dtype explicitly to silence this warning.\n",
      "  rs = pd.Series(regions_selection.value)\n"
     ]
    },
    {
     "data": {
      "image/png": "[encoded data removed]",
      "text/plain": [
       "<Figure size 640x480 with 1 Axes>"
      ]
     },
     "metadata": {},
     "output_type": "display_data"
    }
   ],
   "source": [
    "regions_selection = widgets.SelectMultiple(\n",
    "    options=list(leveranser_flytande.region.drop_duplicates(\n",
    "        keep='first').reset_index(drop=True)),\n",
    "    rows=20,\n",
    "    description='Region:',\n",
    "    disabled=False,\n",
    ")\n",
    "display(regions_selection)\n"
   ]
  },
  {
   "cell_type": "code",
   "execution_count": 145,
   "metadata": {},
   "outputs": [
    {
     "data": {
      "application/vnd.jupyter.widget-view+json": {
       "model_id": "13ddf73ef3664caab35a4a7afc590b6a",
       "version_major": 2,
       "version_minor": 0
      },
      "text/plain": [
       "SelectMultiple(description='Region:', options=('bensin', 'diesel', 'etanol', 'eldningsolja 1', 'eldningsolja 2…"
      ]
     },
     "metadata": {},
     "output_type": "display_data"
    }
   ],
   "source": [
    "rs = pd.Series(regions_selection.value)\n",
    "rs\n",
    "\n",
    "data = leveranser_flytande.where(\n",
    "    leveranser_flytande.region.isin(rs)).dropna().reset_index(drop=True)\n",
    "\n",
    "fuel_selection = widgets.SelectMultiple(\n",
    "    options=list(data.bransletyp.drop_duplicates(\n",
    "        keep='first').reset_index(drop=True)),\n",
    "    rows=20,\n",
    "    description='Region:',\n",
    "    disabled=False,\n",
    ")\n",
    "display(fuel_selection)\n"
   ]
  },
  {
   "cell_type": "code",
   "execution_count": null,
   "metadata": {},
   "outputs": [],
   "source": [
    "\n",
    "# leveranser_flytande = leveranser_flytande.set_index(leveranser_flytande.region, drop=True, inplace=True)\n",
    "\n",
    "\n",
    "fig1 = sns.lineplot(data=d, x='ar',\n",
    "                    y='region', hue='fornybar_bransletyp')\n",
    "plt.show(fig1)\n"
   ]
  },
  {
   "cell_type": "code",
   "execution_count": 138,
   "metadata": {},
   "outputs": [
    {
     "data": {
      "text/plain": [
       "0          0160 T�by\n",
       "1      0162 Danderyd\n",
       "2    0181 S�dert�lje\n",
       "dtype: object"
      ]
     },
     "execution_count": 138,
     "metadata": {},
     "output_type": "execute_result"
    }
   ],
   "source": [
    "rs = pd.Series(regions_selection.value)\n",
    "rs"
   ]
  },
  {
   "cell_type": "code",
   "execution_count": 131,
   "metadata": {},
   "outputs": [
    {
     "data": {
      "text/plain": [
       "353854"
      ]
     },
     "execution_count": 131,
     "metadata": {},
     "output_type": "execute_result"
    }
   ],
   "source": [
    "len(leveranser_flytande)"
   ]
  },
  {
   "cell_type": "code",
   "execution_count": 139,
   "metadata": {},
   "outputs": [
    {
     "data": {
      "text/html": [
       "<div>\n",
       "<style scoped>\n",
       "    .dataframe tbody tr th:only-of-type {\n",
       "        vertical-align: middle;\n",
       "    }\n",
       "\n",
       "    .dataframe tbody tr th {\n",
       "        vertical-align: top;\n",
       "    }\n",
       "\n",
       "    .dataframe thead th {\n",
       "        text-align: right;\n",
       "    }\n",
       "</style>\n",
       "<table border=\"1\" class=\"dataframe\">\n",
       "  <thead>\n",
       "    <tr style=\"text-align: right;\">\n",
       "      <th></th>\n",
       "      <th>region</th>\n",
       "      <th>bransletyp</th>\n",
       "      <th>ar</th>\n",
       "      <th>m3</th>\n",
       "      <th>forbrukarkategori</th>\n",
       "      <th>fornybar_bransletyp</th>\n",
       "    </tr>\n",
       "  </thead>\n",
       "  <tbody>\n",
       "    <tr>\n",
       "      <th>0</th>\n",
       "      <td>0160 T�by</td>\n",
       "      <td>bensin</td>\n",
       "      <td>2016.0</td>\n",
       "      <td>0.0</td>\n",
       "      <td>jordbruk, skogsbruk, fiske</td>\n",
       "      <td>icke-fornybar</td>\n",
       "    </tr>\n",
       "    <tr>\n",
       "      <th>1</th>\n",
       "      <td>0160 T�by</td>\n",
       "      <td>bensin</td>\n",
       "      <td>2016.0</td>\n",
       "      <td>0.0</td>\n",
       "      <td>industri</td>\n",
       "      <td>icke-fornybar</td>\n",
       "    </tr>\n",
       "    <tr>\n",
       "      <th>2</th>\n",
       "      <td>0160 T�by</td>\n",
       "      <td>bensin</td>\n",
       "      <td>2016.0</td>\n",
       "      <td>0.0</td>\n",
       "      <td>el- och v�rmeverk</td>\n",
       "      <td>icke-fornybar</td>\n",
       "    </tr>\n",
       "    <tr>\n",
       "      <th>3</th>\n",
       "      <td>0160 T�by</td>\n",
       "      <td>bensin</td>\n",
       "      <td>2016.0</td>\n",
       "      <td>0.0</td>\n",
       "      <td>offentlig f�rvaltning</td>\n",
       "      <td>icke-fornybar</td>\n",
       "    </tr>\n",
       "    <tr>\n",
       "      <th>4</th>\n",
       "      <td>0160 T�by</td>\n",
       "      <td>bensin</td>\n",
       "      <td>2016.0</td>\n",
       "      <td>0.0</td>\n",
       "      <td>enbostadshus</td>\n",
       "      <td>icke-fornybar</td>\n",
       "    </tr>\n",
       "    <tr>\n",
       "      <th>...</th>\n",
       "      <td>...</td>\n",
       "      <td>...</td>\n",
       "      <td>...</td>\n",
       "      <td>...</td>\n",
       "      <td>...</td>\n",
       "      <td>...</td>\n",
       "    </tr>\n",
       "    <tr>\n",
       "      <th>1435</th>\n",
       "      <td>0181 S�dert�lje</td>\n",
       "      <td>HVO</td>\n",
       "      <td>2021.0</td>\n",
       "      <td>0.0</td>\n",
       "      <td>flerbostadshus</td>\n",
       "      <td>fornybar</td>\n",
       "    </tr>\n",
       "    <tr>\n",
       "      <th>1436</th>\n",
       "      <td>0181 S�dert�lje</td>\n",
       "      <td>HVO</td>\n",
       "      <td>2021.0</td>\n",
       "      <td>0.0</td>\n",
       "      <td>�vriga fastigheter</td>\n",
       "      <td>fornybar</td>\n",
       "    </tr>\n",
       "    <tr>\n",
       "      <th>1437</th>\n",
       "      <td>0181 S�dert�lje</td>\n",
       "      <td>HVO</td>\n",
       "      <td>2021.0</td>\n",
       "      <td>36510.7</td>\n",
       "      <td>v�gtransporter</td>\n",
       "      <td>fornybar</td>\n",
       "    </tr>\n",
       "    <tr>\n",
       "      <th>1438</th>\n",
       "      <td>0181 S�dert�lje</td>\n",
       "      <td>HVO</td>\n",
       "      <td>2021.0</td>\n",
       "      <td>3.0</td>\n",
       "      <td>bygg, luftfart, j�rnv�g, bunkring</td>\n",
       "      <td>fornybar</td>\n",
       "    </tr>\n",
       "    <tr>\n",
       "      <th>1439</th>\n",
       "      <td>0181 S�dert�lje</td>\n",
       "      <td>HVO</td>\n",
       "      <td>2021.0</td>\n",
       "      <td>37064.9</td>\n",
       "      <td>totalt</td>\n",
       "      <td>fornybar</td>\n",
       "    </tr>\n",
       "  </tbody>\n",
       "</table>\n",
       "<p>1440 rows × 6 columns</p>\n",
       "</div>"
      ],
      "text/plain": [
       "               region bransletyp      ar       m3  \\\n",
       "0           0160 T�by     bensin  2016.0      0.0   \n",
       "1           0160 T�by     bensin  2016.0      0.0   \n",
       "2           0160 T�by     bensin  2016.0      0.0   \n",
       "3           0160 T�by     bensin  2016.0      0.0   \n",
       "4           0160 T�by     bensin  2016.0      0.0   \n",
       "...               ...        ...     ...      ...   \n",
       "1435  0181 S�dert�lje        HVO  2021.0      0.0   \n",
       "1436  0181 S�dert�lje        HVO  2021.0      0.0   \n",
       "1437  0181 S�dert�lje        HVO  2021.0  36510.7   \n",
       "1438  0181 S�dert�lje        HVO  2021.0      3.0   \n",
       "1439  0181 S�dert�lje        HVO  2021.0  37064.9   \n",
       "\n",
       "                      forbrukarkategori fornybar_bransletyp  \n",
       "0            jordbruk, skogsbruk, fiske       icke-fornybar  \n",
       "1                              industri       icke-fornybar  \n",
       "2                     el- och v�rmeverk       icke-fornybar  \n",
       "3                 offentlig f�rvaltning       icke-fornybar  \n",
       "4                          enbostadshus       icke-fornybar  \n",
       "...                                 ...                 ...  \n",
       "1435                     flerbostadshus            fornybar  \n",
       "1436                 �vriga fastigheter            fornybar  \n",
       "1437                     v�gtransporter            fornybar  \n",
       "1438  bygg, luftfart, j�rnv�g, bunkring            fornybar  \n",
       "1439                             totalt            fornybar  \n",
       "\n",
       "[1440 rows x 6 columns]"
      ]
     },
     "execution_count": 139,
     "metadata": {},
     "output_type": "execute_result"
    }
   ],
   "source": [
    "# leveranser_flytande = leveranser_flytande.set_index(leveranser_flytande.region, drop=True, inplace=True)\n",
    "d = leveranser_flytande.where(leveranser_flytande.region.isin(rs)).dropna().reset_index(drop=True)\n",
    "\n",
    "d"
   ]
  },
  {
   "cell_type": "code",
   "execution_count": 76,
   "metadata": {},
   "outputs": [
    {
     "data": {
      "image/png": "[encoded data removed]",
      "text/plain": [
       "<Figure size 640x480 with 1 Axes>"
      ]
     },
     "metadata": {},
     "output_type": "display_data"
    }
   ],
   "source": [
    "# leveranser_flytande\n",
    "\n",
    "\n",
    "fig1 = sns.lineplot(data=leveranser_flytande.where(leveranser_flytande.region == regions_selection.value), x='ar',\n",
    "                    y='region', hue='fornybar_bransletyp')\n",
    "plt.show(fig1)\n",
    "\n",
    "        # print('Column: ', column, '\\n', d[column].drop_duplicates(\n",
    "        #     keep='first').reset_index(drop=True))\n",
    "\n",
    "        # fig1 = sns.lineplot(data=d, x='ar', y=d[column])\n",
    "\n",
    "        # # fig2 = sns.lineplot(data=d, x='ar', y=d[column], hue='region')\n",
    "        # # plt.show(fig2)\n",
    "\n",
    "\n",
    "    \n"
   ]
  },
  {
   "attachments": {},
   "cell_type": "markdown",
   "metadata": {},
   "source": [
    "Problem statement:\n",
    "\n",
    "Situation: Energy is produced in different forms and consumed by the regions in different rates.   \n",
    "\n",
    "Complication: Energy prices are increasing due to many reasons including but not limited to war, logistics and sanctions.   \n",
    "\n",
    "Question: Is it possible to see what types of energy have been historically produced and consumed by the different regions? Is it possible to predict how the productions and consumption will look like in the future?   \n",
    "\n",
    "Answer: ???\n"
   ]
  }
 ],
 "metadata": {
  "kernelspec": {
   "display_name": "Python 3.10.6 ('thisone')",
   "language": "python",
   "name": "python3"
  },
  "language_info": {
   "codemirror_mode": {
    "name": "ipython",
    "version": 3
   },
   "file_extension": ".py",
   "mimetype": "text/x-python",
   "name": "python",
   "nbconvert_exporter": "python",
   "pygments_lexer": "ipython3",
   "version": "3.10.6"
  },
  "orig_nbformat": 4,
  "vscode": {
   "interpreter": {
    "hash": "7996a5cd28996b69f6427e562b95ceb603a092331acdb6a620e160fb7b86c167"
   }
  }
 },
 "nbformat": 4,
 "nbformat_minor": 2
}
