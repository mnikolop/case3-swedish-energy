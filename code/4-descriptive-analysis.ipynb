{
 "cells": [
  {
   "attachments": {},
   "cell_type": "markdown",
   "metadata": {},
   "source": [
    "Problem statement:\n",
    "\n",
    "Situation: Energy is produced in different forms and consumed by the regions in different rates.   \n",
    "\n",
    "Complication: Energy prices are increasing due to many reasons including but not limited to war, logistics and sanctions.   \n",
    "\n",
    "Question: Is it possible to see what types of energy have been historically produced and consumed by the different regions? Is it possible to predict how the productions and consumption will look like in the future?   \n",
    "\n",
    "Answer: ???\n"
   ]
  },
  {
   "cell_type": "markdown",
   "metadata": {},
   "source": [
    "# Beskrivande analys av data"
   ]
  },
  {
   "cell_type": "code",
   "execution_count": 44,
   "metadata": {},
   "outputs": [],
   "source": [
    "import pandas as pd\n",
    "import numpy as np\n",
    "import seaborn as sns\n",
    "import matplotlib.pyplot as plt\n",
    "# import plotly.express as px\n",
    "# import streamlit as st\n",
    "import ipywidgets as widgets\n",
    "from ipywidgets import interact, interact_manual\n",
    "from IPython.display import display\n",
    "\n",
    "# from jupyter_dash import JupyterDash\n",
    "# from dash import Dash, dcc, html, Input, Output\n"
   ]
  },
  {
   "cell_type": "code",
   "execution_count": 45,
   "metadata": {},
   "outputs": [
    {
     "name": "stderr",
     "output_type": "stream",
     "text": [
      "C:\\Users\\markella.nikolopoulo\\AppData\\Local\\Temp\\ipykernel_8504\\3087391659.py:4: DtypeWarning: Columns (5,6) have mixed types. Specify dtype option on import or set low_memory=False.\n",
      "  slutanvandning = pd.read_table('../data/to-use/slutanvandning-region-forbrukarkategori-bransletyp-kategori-energityp-ar.csv', sep=',')\n"
     ]
    }
   ],
   "source": [
    "leveranser_flytande = pd.read_table('../data/to-use/leveranser-flytande-bransle-region-ar.csv', sep=',')\n",
    "elproduction_bransleanvandning = pd.read_table('../data/to-use/elproduction-bransleanvandning-region-produktionssatt-bransletyp-ar.csv', sep=',')\n",
    "fjarrvarmeproduktion = pd.read_table('../data/to-use/fjarrvarmeproduktion-region-produktionssatt-bransletyp-ar.csv', sep=',')\n",
    "slutanvandning = pd.read_table('../data/to-use/slutanvandning-region-forbrukarkategori-bransletyp-kategori-energityp-ar.csv', sep=',')\n",
    "branslefarbrukning = pd.read_table('../data/to-use/branslefarbrukning-far-produktion-per-ar.csv', sep=',')\n",
    "energidata = pd.read_table('../data/to-use/energidata-per-ar.csv', sep=',')\n"
   ]
  },
  {
   "attachments": {},
   "cell_type": "markdown",
   "metadata": {},
   "source": [
    "## Datasets\n",
    "### leveranser_flytande \n",
    "> Leveranser av bränsle, kubikmeter efter region, bränsletyp, färbrukarkategori och är\n",
    "### elproduction_bransleanvandning \n",
    "> Elproduktion och bränsleanvändning(MWh) efter region, produktionssätt, bränsletyp och är\n",
    "### fjarrvarmeproduktion \n",
    "> Fjärrvärmeproduktion och bränsleanvändning (MWh) efter region, produktionssätt, bränsletyp och är\n",
    "### slutanvandning \n",
    "> Slutanvändning (MWh) efter region, förbrukarkategori, bränsletyp och är\n",
    "### branslefarbrukning \n",
    "> Bränslefärbrukning fär produktion av ånga och hetvatten, TJ efter produktionsslag, bränsletyp och är\n",
    "### energidata \n",
    "> Energidata (MWh) efter region, kategori, energityp och år"
   ]
  },
  {
   "cell_type": "code",
   "execution_count": 46,
   "metadata": {},
   "outputs": [],
   "source": [
    "datasets = [leveranser_flytande, elproduction_bransleanvandning, \n",
    "            fjarrvarmeproduktion, slutanvandning, branslefarbrukning, energidata]\n",
    "\n",
    "variables = ['region', 'bransletyp', 'ar', 'm3', 'farbrukarkategori', 'produktionssatt',\n",
    "             'MWh', 'kategori', 'energityp', 'produktionsslag', 'branslefarbrukning']\n",
    "\n"
   ]
  },
  {
   "attachments": {},
   "cell_type": "markdown",
   "metadata": {},
   "source": [
    "## Datakorrigering"
   ]
  },
  {
   "cell_type": "code",
   "execution_count": 47,
   "metadata": {},
   "outputs": [],
   "source": [
    "for d in datasets:\n",
    "    d.ar = d.ar.astype(int)"
   ]
  },
  {
   "cell_type": "code",
   "execution_count": 48,
   "metadata": {},
   "outputs": [
    {
     "name": "stdout",
     "output_type": "stream",
     "text": [
      "Dataframe:  leveranser_flytande\n",
      "Number of Nuls:  region                      0\n",
      "bransletyp                  0\n",
      "ar                          0\n",
      "m3                     139680\n",
      "forbrukarkategori       74494\n",
      "fornybar_bransletyp         0\n",
      "dtype: int64 out of 353854\n",
      "Dataframe:  elproduction_bransleanvandning\n",
      "Number of Nuls:  region                      0\n",
      "produktionssatt             0\n",
      "bransletyp                  0\n",
      "ar                          0\n",
      "MWh                         0\n",
      "fornybar_bransletyp         0\n",
      "fornybar_produktionssatt    0\n",
      "dtype: int64 out of 194832\n",
      "Dataframe:  fjarrvarmeproduktion\n",
      "Number of Nuls:  region                           0\n",
      "produktionssatt                  0\n",
      "bransletyp                       0\n",
      "ar                               0\n",
      "MWh                         419328\n",
      "fornybar_bransletyp              0\n",
      "fornybar_produktionssatt         0\n",
      "dtype: int64 out of 917532\n",
      "Dataframe:  slutanvandning\n",
      "Number of Nuls:  region                      0\n",
      "forbrukarkategori      159390\n",
      "bransletyp             159390\n",
      "ar                          0\n",
      "MWh                    448164\n",
      "kategori               668664\n",
      "energityp              668664\n",
      "fornybar_bransletyp         0\n",
      "dtype: int64 out of 828054\n",
      "Dataframe:  branslefarbrukning\n",
      "Number of Nuls:  produktionsslag        0\n",
      "bransletyp             0\n",
      "ar                     0\n",
      "branslefarbrukning     0\n",
      "fornybar_bransletyp    0\n",
      "dtype: int64 out of 2688\n",
      "Dataframe:  energidata\n",
      "Number of Nuls:  region                      0\n",
      "kategori                    0\n",
      "energityp                   0\n",
      "ar                          0\n",
      "MWh                   2535750\n",
      "fornybar_kategori           0\n",
      "fornybar_energityp          0\n",
      "dtype: int64 out of 4941090\n"
     ]
    }
   ],
   "source": [
    "for d in datasets:\n",
    "    name = [x for x in globals() if globals()[x] is d][0]\n",
    "    print('Dataframe: ', name)\n",
    "    \n",
    "    contains_nulls = d.isna().sum()\n",
    "    print('Number of Nuls: ', contains_nulls, 'out of', len(d))\n",
    "    # print(d.describe(include='object'))\n",
    "\n"
   ]
  },
  {
   "attachments": {},
   "cell_type": "markdown",
   "metadata": {},
   "source": [
    "En av de första sakerna som behöver göras är att ta itu med NA:s värderingar. I det här fallet använde vi olika typer av imputering\n",
    "\n",
    "- leveranser_flytande,m3: fillna (fffill)\n",
    "- fjarrvarmeproduktion: interpolate\n",
    "- slutanvandning: Not used since nore than one columns have NAs that are categorical - dabading using this dataframe at all; considering it needs reworking in the merging phase.\n",
    "- energidata.MWh: fillna (fffill)"
   ]
  },
  {
   "cell_type": "code",
   "execution_count": 49,
   "metadata": {},
   "outputs": [
    {
     "name": "stdout",
     "output_type": "stream",
     "text": [
      "leveranser_flytande: Number of Nuls:  74494 out of 353854\n",
      "fjarrvarmeproduktion: Number of Nuls:  0 out of 917532\n",
      "energidata: Number of Nuls:  0 out of 4941090\n"
     ]
    }
   ],
   "source": [
    "leveranser_flytande.m3 = leveranser_flytande.m3.fillna(method='ffill'); print('leveranser_flytande: Number of Nuls: ', leveranser_flytande.isna().sum().sum(), 'out of', len(leveranser_flytande))\n",
    "fjarrvarmeproduktion.MWh = fjarrvarmeproduktion.MWh.interpolate(); print('fjarrvarmeproduktion: Number of Nuls: ', fjarrvarmeproduktion.isna().sum().sum(), 'out of', len(fjarrvarmeproduktion))\n",
    "# slutanvandning = slutanvandning.fillna('fffill'); print('slutanvandning: Number of Nuls: ', slutanvandning.isna().sum().sum(), 'out of', len(slutanvandning))\n",
    "energidata.MWh = energidata.MWh.fillna(method='ffill'); print('energidata: Number of Nuls: ', energidata.isna().sum().sum(), 'out of', len(energidata))\n"
   ]
  },
  {
   "cell_type": "code",
   "execution_count": 50,
   "metadata": {},
   "outputs": [
    {
     "data": {
      "text/html": [
       "<div>\n",
       "<style scoped>\n",
       "    .dataframe tbody tr th:only-of-type {\n",
       "        vertical-align: middle;\n",
       "    }\n",
       "\n",
       "    .dataframe tbody tr th {\n",
       "        vertical-align: top;\n",
       "    }\n",
       "\n",
       "    .dataframe thead th {\n",
       "        text-align: right;\n",
       "    }\n",
       "</style>\n",
       "<table border=\"1\" class=\"dataframe\">\n",
       "  <thead>\n",
       "    <tr style=\"text-align: right;\">\n",
       "      <th></th>\n",
       "      <th>region</th>\n",
       "      <th>bransletyp</th>\n",
       "      <th>ar</th>\n",
       "      <th>m3</th>\n",
       "      <th>forbrukarkategori</th>\n",
       "      <th>fornybar_bransletyp</th>\n",
       "    </tr>\n",
       "  </thead>\n",
       "  <tbody>\n",
       "    <tr>\n",
       "      <th>0</th>\n",
       "      <td>00 Riket</td>\n",
       "      <td>motorbensin</td>\n",
       "      <td>2001</td>\n",
       "      <td>5442.6</td>\n",
       "      <td>NaN</td>\n",
       "      <td>icke-fornybar</td>\n",
       "    </tr>\n",
       "    <tr>\n",
       "      <th>1</th>\n",
       "      <td>00 Riket</td>\n",
       "      <td>dieselbr�nsle</td>\n",
       "      <td>2001</td>\n",
       "      <td>3530.0</td>\n",
       "      <td>NaN</td>\n",
       "      <td>icke-fornybar</td>\n",
       "    </tr>\n",
       "    <tr>\n",
       "      <th>2</th>\n",
       "      <td>00 Riket</td>\n",
       "      <td>etanol</td>\n",
       "      <td>2001</td>\n",
       "      <td>0.0</td>\n",
       "      <td>NaN</td>\n",
       "      <td>fornybar</td>\n",
       "    </tr>\n",
       "    <tr>\n",
       "      <th>3</th>\n",
       "      <td>00 Riket</td>\n",
       "      <td>E85</td>\n",
       "      <td>2001</td>\n",
       "      <td>0.0</td>\n",
       "      <td>NaN</td>\n",
       "      <td>icke-fornybar</td>\n",
       "    </tr>\n",
       "    <tr>\n",
       "      <th>4</th>\n",
       "      <td>00 Riket</td>\n",
       "      <td>FAME</td>\n",
       "      <td>2001</td>\n",
       "      <td>0.0</td>\n",
       "      <td>NaN</td>\n",
       "      <td>fornybar</td>\n",
       "    </tr>\n",
       "    <tr>\n",
       "      <th>...</th>\n",
       "      <td>...</td>\n",
       "      <td>...</td>\n",
       "      <td>...</td>\n",
       "      <td>...</td>\n",
       "      <td>...</td>\n",
       "      <td>...</td>\n",
       "    </tr>\n",
       "    <tr>\n",
       "      <th>353849</th>\n",
       "      <td>2584 Kiruna</td>\n",
       "      <td>HVO</td>\n",
       "      <td>2021</td>\n",
       "      <td>0.0</td>\n",
       "      <td>flerbostadshus</td>\n",
       "      <td>fornybar</td>\n",
       "    </tr>\n",
       "    <tr>\n",
       "      <th>353850</th>\n",
       "      <td>2584 Kiruna</td>\n",
       "      <td>HVO</td>\n",
       "      <td>2021</td>\n",
       "      <td>0.0</td>\n",
       "      <td>�vriga fastigheter</td>\n",
       "      <td>fornybar</td>\n",
       "    </tr>\n",
       "    <tr>\n",
       "      <th>353851</th>\n",
       "      <td>2584 Kiruna</td>\n",
       "      <td>HVO</td>\n",
       "      <td>2021</td>\n",
       "      <td>199.0</td>\n",
       "      <td>v�gtransporter</td>\n",
       "      <td>fornybar</td>\n",
       "    </tr>\n",
       "    <tr>\n",
       "      <th>353852</th>\n",
       "      <td>2584 Kiruna</td>\n",
       "      <td>HVO</td>\n",
       "      <td>2021</td>\n",
       "      <td>0.0</td>\n",
       "      <td>bygg, luftfart, j�rnv�g, bunkring</td>\n",
       "      <td>fornybar</td>\n",
       "    </tr>\n",
       "    <tr>\n",
       "      <th>353853</th>\n",
       "      <td>2584 Kiruna</td>\n",
       "      <td>HVO</td>\n",
       "      <td>2021</td>\n",
       "      <td>225.0</td>\n",
       "      <td>totalt</td>\n",
       "      <td>fornybar</td>\n",
       "    </tr>\n",
       "  </tbody>\n",
       "</table>\n",
       "<p>353854 rows × 6 columns</p>\n",
       "</div>"
      ],
      "text/plain": [
       "             region     bransletyp    ar      m3  \\\n",
       "0          00 Riket    motorbensin  2001  5442.6   \n",
       "1          00 Riket  dieselbr�nsle  2001  3530.0   \n",
       "2          00 Riket         etanol  2001     0.0   \n",
       "3          00 Riket            E85  2001     0.0   \n",
       "4          00 Riket           FAME  2001     0.0   \n",
       "...             ...            ...   ...     ...   \n",
       "353849  2584 Kiruna            HVO  2021     0.0   \n",
       "353850  2584 Kiruna            HVO  2021     0.0   \n",
       "353851  2584 Kiruna            HVO  2021   199.0   \n",
       "353852  2584 Kiruna            HVO  2021     0.0   \n",
       "353853  2584 Kiruna            HVO  2021   225.0   \n",
       "\n",
       "                        forbrukarkategori fornybar_bransletyp  \n",
       "0                                     NaN       icke-fornybar  \n",
       "1                                     NaN       icke-fornybar  \n",
       "2                                     NaN            fornybar  \n",
       "3                                     NaN       icke-fornybar  \n",
       "4                                     NaN            fornybar  \n",
       "...                                   ...                 ...  \n",
       "353849                     flerbostadshus            fornybar  \n",
       "353850                 �vriga fastigheter            fornybar  \n",
       "353851                     v�gtransporter            fornybar  \n",
       "353852  bygg, luftfart, j�rnv�g, bunkring            fornybar  \n",
       "353853                             totalt            fornybar  \n",
       "\n",
       "[353854 rows x 6 columns]"
      ]
     },
     "execution_count": 50,
     "metadata": {},
     "output_type": "execute_result"
    }
   ],
   "source": [
    "leveranser_flytande\n"
   ]
  },
  {
   "cell_type": "code",
   "execution_count": 51,
   "metadata": {},
   "outputs": [],
   "source": [
    "leveranser_flytande_group = leveranser_flytande.groupby(['region', 'ar', 'fornybar_bransletyp'], as_index=False\n",
    "                 ).agg(\n",
    "                        Mean=('m3', np.mean),\n",
    "                        Sum=('m3', np.sum), \n",
    "                        Avg=('m3', np.average),\n",
    "                        Count=('m3', 'count'),\n",
    "                        Max=('m3', np.max),\n",
    "                        Min=('m3', np.min)\n",
    "                 ).sort_values(by=['Mean', 'Sum', 'Avg', 'Max', 'Min'])\n",
    "\n",
    "# temp['col'] = temp.region + temp.ar.astype(str) + temp.fornybar_bransletyp\n"
   ]
  },
  {
   "cell_type": "code",
   "execution_count": 52,
   "metadata": {},
   "outputs": [],
   "source": [
    "\n",
    "# # leveranser_flytande_group.Count.where(leveranser_flytande_group.Count.gt(0)).min(0)\n",
    "# leveranser_flytande_group.Count.where(leveranser_flytande_group.Count.gt(0)).max(0)\n"
   ]
  },
  {
   "cell_type": "code",
   "execution_count": 53,
   "metadata": {},
   "outputs": [
    {
     "data": {
      "text/plain": [
       "0       1484 Lysekil\n",
       "1      1780 Karlstad\n",
       "2    0581 Norrk�ping\n",
       "3     0680 J�nk�ping\n",
       "4     0180 Stockholm\n",
       "5      1480 G�teborg\n",
       "Name: region, dtype: object"
      ]
     },
     "execution_count": 53,
     "metadata": {},
     "output_type": "execute_result"
    }
   ],
   "source": [
    "leveranser_flytande_group.region.tail(20).drop_duplicates(keep='first').reset_index(drop=True)\n"
   ]
  },
  {
   "cell_type": "code",
   "execution_count": 55,
   "metadata": {},
   "outputs": [],
   "source": [
    "leveranser_flytande_group = leveranser_flytande_group.where(leveranser_flytande_group.region.isin(\n",
    "    [\"1484 Lysekil\", \"1780 Karlstad\", \"0581 Norrk�ping\", \"0680 J�nk�ping\", \"0180 Stockholm\", \"1480 G�teborg\"])).dropna().reset_index(drop=True)\n",
    "\n",
    "# leveranser_flytande_group = leveranser_flytande_group[['region','ar', 'fornybar_bransletyp', 'Sum']]\n",
    "\n",
    "leveranser_flytande_group.ar = leveranser_flytande_group.ar.astype(int)\n",
    "\n",
    "# leveranser_flytande_group['col'] = leveranser_flytande_group.ar.astype(str) + leveranser_flytande_group.fornybar_bransletyp\n",
    "\n",
    "# leveranser_flytande_group = leveranser_flytande_group.pivot(index='col', columns='region', values='Sum')\n",
    "\n",
    "# leveranser_flytande_group = leveranser_flytande_group.pivot(index=['ar', 'region'], columns='fornybar_bransletyp', values='Sum')\n",
    "\n",
    "\n",
    "leveranser_flytande_group\n",
    "\n",
    "for region in leveranser_flytande_group.region.drop_duplicates(keep='first').reset_index(drop=True):\n",
    "\n",
    "    print(region)\n",
    "    data = leveranser_flytande_group[leveranser_flytande_group.region == region].reset_index(drop=True)\n",
    "    fig = sns.lineplot(data=data, x=data.ar.astype(\n",
    "        int), y='Sum', hue='fornybar_bransletyp', style='fornybar_bransletyp')\n",
    "\n",
    "    plt.show(fig)\n"
   ]
  },
  {
   "cell_type": "code",
   "execution_count": 23,
   "metadata": {},
   "outputs": [
    {
     "data": {
      "text/plain": [
       "<AxesSubplot:xlabel='ar', ylabel='Sum'>"
      ]
     },
     "execution_count": 23,
     "metadata": {},
     "output_type": "execute_result"
    },
    {
     "data": {
      "image/png": "[encoded data removed]",
      "text/plain": [
       "<Figure size 640x480 with 1 Axes>"
      ]
     },
     "metadata": {},
     "output_type": "display_data"
    }
   ],
   "source": [
    "# sns.lineplot(data=leveranser_flytande_group, x='ar',\n",
    "#              y='Sum', hue='fornybar_bransletyp', style='region', estimator=None, sort=True, lw=1, legend=\"full\")\n"
   ]
  },
  {
   "cell_type": "code",
   "execution_count": 50,
   "metadata": {},
   "outputs": [],
   "source": [
    "# regions_selection = widgets.SelectMultiple(\n",
    "#     options=list(leveranser_flytande.region.drop_duplicates(\n",
    "#         keep='first').reset_index(drop=True)),\n",
    "#     rows=20,\n",
    "#     description='Region:',\n",
    "#     disabled=False,\n",
    "# )\n",
    "# display(regions_selection)\n",
    "\n",
    "# rs = pd.Series(regions_selection.value)\n",
    "# rs\n",
    "\n",
    "# data = leveranser_flytande.where(\n",
    "#     leveranser_flytande.region.isin(rs)).dropna().reset_index(drop=True)\n",
    "\n",
    "# fuel_selection = widgets.SelectMultiple(\n",
    "#     options=list(data.bransletyp.drop_duplicates(\n",
    "#         keep='first').reset_index(drop=True)),\n",
    "#     rows=20,\n",
    "#     description='Region:',\n",
    "#     disabled=False,\n",
    "# )\n",
    "# display(fuel_selection)\n",
    "\n",
    "\n",
    "# leveranser_flytande = leveranser_flytande.set_index(leveranser_flytande.region, drop=True, inplace=True)\n",
    "\n",
    "\n",
    "# fig1 = sns.lineplot(data=d, x='ar',\n",
    "#                     y='region', hue='fornybar_bransletyp')\n",
    "# plt.show(fig1)\n",
    "\n",
    "# rs = pd.Series(regions_selection.value)\n",
    "# rs\n",
    "# # leveranser_flytande = leveranser_flytande.set_index(leveranser_flytande.region, drop=True, inplace=True)\n",
    "# d = leveranser_flytande.where(leveranser_flytande.region.isin(rs)).dropna().reset_index(drop=True)\n",
    "\n",
    "# d\n",
    "# # leveranser_flytande\n",
    "\n",
    "\n",
    "# fig1 = sns.lineplot(data=leveranser_flytande.where(leveranser_flytande.region == regions_selection.value), x='ar',\n",
    "#                     y='region', hue='fornybar_bransletyp')\n",
    "# plt.show(fig1)\n",
    "\n",
    "        # print('Column: ', column, '\\n', d[column].drop_duplicates(\n",
    "        #     keep='first').reset_index(drop=True))\n",
    "\n",
    "        # fig1 = sns.lineplot(data=d, x='ar', y=d[column])\n",
    "\n",
    "        # # fig2 = sns.lineplot(data=d, x='ar', y=d[column], hue='region')\n",
    "        # # plt.show(fig2)\n",
    "\n",
    "\n",
    "    \n"
   ]
  }
 ],
 "metadata": {
  "kernelspec": {
   "display_name": "Python 3.10.6 ('thisone')",
   "language": "python",
   "name": "python3"
  },
  "language_info": {
   "codemirror_mode": {
    "name": "ipython",
    "version": 3
   },
   "file_extension": ".py",
   "mimetype": "text/x-python",
   "name": "python",
   "nbconvert_exporter": "python",
   "pygments_lexer": "ipython3",
   "version": "3.10.6"
  },
  "orig_nbformat": 4,
  "vscode": {
   "interpreter": {
    "hash": "7996a5cd28996b69f6427e562b95ceb603a092331acdb6a620e160fb7b86c167"
   }
  }
 },
 "nbformat": 4,
 "nbformat_minor": 2
}
