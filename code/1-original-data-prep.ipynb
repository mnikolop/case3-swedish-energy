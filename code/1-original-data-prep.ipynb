{
 "cells": [
  {
   "cell_type": "code",
   "execution_count": 41,
   "metadata": {},
   "outputs": [],
   "source": [
    "import pandas as pd\n",
    "import numpy as np\n",
    "import os\n"
   ]
  },
  {
   "cell_type": "code",
   "execution_count": 42,
   "metadata": {},
   "outputs": [],
   "source": [
    "\n",
    "with open(\"../data/original/data-def.txt\", \"w\", encoding=\"utf-8\") as a:\n",
    "    for path, subdirs, files in os.walk(r'../data/original/'):\n",
    "       for filename in files:\n",
    "        f = os.path.join(path, filename)\n",
    "        a.write(filename + os.linesep)\n",
    "        df = pd.read_table(f, sep=';')\n",
    "        for listitem in df.columns:\n",
    "            a.write('%s\\n' % listitem)\n",
    "        a.write('\\n')\n",
    "\n"
   ]
  },
  {
   "cell_type": "code",
   "execution_count": 43,
   "metadata": {},
   "outputs": [],
   "source": [
    "comments = pd.DataFrame(columns=['name', 'comment', 'column_nam'])\n",
    "# comments"
   ]
  },
  {
   "cell_type": "code",
   "execution_count": 44,
   "metadata": {},
   "outputs": [
    {
     "name": "stdout",
     "output_type": "stream",
     "text": [
      "4382 4382\n"
     ]
    },
    {
     "name": "stderr",
     "output_type": "stream",
     "text": [
      "C:\\Users\\markella.nikolopoulo\\AppData\\Local\\Temp\\ipykernel_20204\\816954422.py:7: FutureWarning: The frame.append method is deprecated and will be removed from pandas in a future version. Use pandas.concat instead.\n",
      "  df1 = df1.append(df2).append(df3)\n",
      "C:\\Users\\markella.nikolopoulo\\AppData\\Local\\Temp\\ipykernel_20204\\816954422.py:16: FutureWarning: The frame.append method is deprecated and will be removed from pandas in a future version. Use pandas.concat instead.\n",
      "  comments = comments.append({'name': filename, 'comment': comment, 'column_nam': df1.columns.to_list()}, ignore_index=True)\n"
     ]
    }
   ],
   "source": [
    "### Leveranser av motorbensin, dieselbränsle, etanol och eldningsolja till slutgiltiga förbrukare, 1000 m3 efter region, varuslag och är\n",
    "\n",
    "df1 = pd.read_table('../data/original/000000B6_20221201-162102.csv', sep=';')\n",
    "df2 = pd.read_table('../data/original/000000B6_20221201-162137.csv', sep=';')\n",
    "df3 = pd.read_table('../data/original/000000B6_20221201-162146.csv', sep=';')\n",
    "\n",
    "df1 = df1.append(df2).append(df3)\n",
    "# df1\n",
    "\n",
    "print(len(df1), len(df1.drop_duplicates()))\n",
    "filename = 'leveranser-till-slutlsiga-forbrukare-per-ar.csv'\n",
    "df1.to_csv('../grouped-data/data/' + filename, index=False)\n",
    "\n",
    "comment = 'Leveranser av motorbensin, dieselbränsle, etanol och eldningsolja till slutgiltiga förbrukare, 1000 m3 efter region, varuslag och är'\n",
    "\n",
    "comments = comments.append({'name': filename, 'comment': comment, 'column_nam': df1.columns.to_list()}, ignore_index=True)\n"
   ]
  },
  {
   "cell_type": "code",
   "execution_count": 45,
   "metadata": {},
   "outputs": [
    {
     "name": "stderr",
     "output_type": "stream",
     "text": [
      "C:\\Users\\markella.nikolopoulo\\AppData\\Local\\Temp\\ipykernel_20204\\1604856123.py:10: FutureWarning: The frame.append method is deprecated and will be removed from pandas in a future version. Use pandas.concat instead.\n",
      "  comments = comments.append({'name': filename, 'comment': comment, 'column_nam': df2.columns.to_list()}, ignore_index=True)\n"
     ]
    },
    {
     "name": "stdout",
     "output_type": "stream",
     "text": [
      "11268 11268\n"
     ]
    }
   ],
   "source": [
    "### Elproduktion och bränsleanvändning (MWh) efter region, produktionssätt, bränsletyp och är\n",
    "df2 = pd.read_table('../data/original/000000BQ_20221201-141152.csv', sep=';')\n",
    "# df2\n",
    "print(len(df2), len(df2.drop_duplicates()))\n",
    "\n",
    "filename = 'elproduktion-per-ar.csv'\n",
    "df2.to_csv('../grouped-data/data/' + filename, index=False)\n",
    "\n",
    "comment = 'Elproduktion och bränsleanvändning (MWh) efter region, produktionssätt, bränsletyp och är'\n",
    "comments = comments.append({'name': filename, 'comment': comment, 'column_nam': df2.columns.to_list()}, ignore_index=True)\n"
   ]
  },
  {
   "cell_type": "code",
   "execution_count": 46,
   "metadata": {},
   "outputs": [
    {
     "name": "stdout",
     "output_type": "stream",
     "text": [
      "19719 19719\n"
     ]
    },
    {
     "name": "stderr",
     "output_type": "stream",
     "text": [
      "C:\\Users\\markella.nikolopoulo\\AppData\\Local\\Temp\\ipykernel_20204\\3217496615.py:10: FutureWarning: The frame.append method is deprecated and will be removed from pandas in a future version. Use pandas.concat instead.\n",
      "  comments = comments.append({'name': filename, 'comment': comment, 'column_nam': df3.columns.to_list()}, ignore_index=True)\n"
     ]
    }
   ],
   "source": [
    "### Fjärrvärmeproduktion och bränsleanvändning (MWh) efter region, produktionssätt, bränsletyp och är\n",
    "df3 = pd.read_table('../data/original/000000BR_20221201-145212.csv', sep=';')\n",
    "# df3\n",
    "print(len(df3), len(df3.drop_duplicates()))\n",
    "\n",
    "filename = 'fjarvarmproduktion-per-ar.csv'\n",
    "df3.to_csv('../grouped-data/data/' + filename, index=False)\n",
    "\n",
    "comment = 'Fjärrvärmeproduktion och bränsleanvändning (MWh) efter region, produktionssätt, bränsletyp och är'\n",
    "comments = comments.append({'name': filename, 'comment': comment, 'column_nam': df3.columns.to_list()}, ignore_index=True)\n"
   ]
  },
  {
   "cell_type": "code",
   "execution_count": 47,
   "metadata": {},
   "outputs": [
    {
     "name": "stdout",
     "output_type": "stream",
     "text": [
      "28170 28170\n"
     ]
    },
    {
     "name": "stderr",
     "output_type": "stream",
     "text": [
      "C:\\Users\\markella.nikolopoulo\\AppData\\Local\\Temp\\ipykernel_20204\\1976429416.py:10: FutureWarning: The frame.append method is deprecated and will be removed from pandas in a future version. Use pandas.concat instead.\n",
      "  comments = comments.append({'name': filename, 'comment': comment, 'column_nam': df4.columns.to_list()}, ignore_index=True)\n"
     ]
    }
   ],
   "source": [
    "# Slutanvändning (MWh) efter region, förbrukarkategori, bränsletyp och är\n",
    "df4 = pd.read_table('../data/original/000000BS_20221201-145418.csv', sep=';')\n",
    "# df4\n",
    "print(len(df4), len(df4.drop_duplicates()))\n",
    "\n",
    "filename = 'slutanvanding-per-ar.csv'\n",
    "df4.to_csv('../grouped-data/data/' + filename, index=False)\n",
    "\n",
    "comment = 'Slutanvändning (MWh) efter region, förbrukarkategori, bränsletyp och är'\n",
    "comments = comments.append({'name': filename, 'comment': comment, 'column_nam': df4.columns.to_list()}, ignore_index=True)\n"
   ]
  },
  {
   "cell_type": "code",
   "execution_count": 48,
   "metadata": {},
   "outputs": [
    {
     "name": "stdout",
     "output_type": "stream",
     "text": [
      "195 195\n"
     ]
    },
    {
     "name": "stderr",
     "output_type": "stream",
     "text": [
      "C:\\Users\\markella.nikolopoulo\\AppData\\Local\\Temp\\ipykernel_20204\\19815729.py:10: FutureWarning: The frame.append method is deprecated and will be removed from pandas in a future version. Use pandas.concat instead.\n",
      "  comments = comments.append({'name': filename, 'comment': comment, 'column_nam': df5.columns.to_list()}, ignore_index=True)\n"
     ]
    }
   ],
   "source": [
    "# Elanvändning i Sverige, GWh efter användningsområde, elomröde och är\n",
    "df5 = pd.read_table('../data/original/000000W8_20221201-162326.csv', sep=';')\n",
    "# df5\n",
    "print(len(df5), len(df5.drop_duplicates()))\n",
    "\n",
    "filename = 'elvanding-efer-anvandingsomrade-per-ar.csv'\n",
    "df5.to_csv('../data/'+filename)\n",
    "\n",
    "comment = 'Elanvändning i Sverige, GWh efter användningsområde, elomröde och är'\n",
    "comments = comments.append({'name': filename, 'comment': comment, 'column_nam': df5.columns.to_list()}, ignore_index=True)\n"
   ]
  },
  {
   "cell_type": "code",
   "execution_count": 49,
   "metadata": {},
   "outputs": [
    {
     "name": "stdout",
     "output_type": "stream",
     "text": [
      "17 17\n"
     ]
    },
    {
     "name": "stderr",
     "output_type": "stream",
     "text": [
      "C:\\Users\\markella.nikolopoulo\\AppData\\Local\\Temp\\ipykernel_20204\\3832061219.py:10: FutureWarning: The frame.append method is deprecated and will be removed from pandas in a future version. Use pandas.concat instead.\n",
      "  comments = comments.append({'name': filename, 'comment': comment, 'column_nam': df6.columns.to_list()}, ignore_index=True)\n"
     ]
    }
   ],
   "source": [
    "# Utleveranser av brånslen efter brånsleslag, tabellinnehåll och månad\n",
    "df6 = pd.read_table('../data/original/000001D4_20221201-160300.csv', sep=';')\n",
    "# df6\n",
    "print(len(df6), len(df6.drop_duplicates()))\n",
    "\n",
    "filename = 'utleveranser-per-ar.csv'\n",
    "df6.to_csv('../grouped-data/data/' + filename, index=False)\n",
    "\n",
    "comment = 'Utleveranser av brånslen efter brånsleslag, tabellinnehåll och månad'\n",
    "comments = comments.append({'name': filename, 'comment': comment, 'column_nam': df6.columns.to_list()}, ignore_index=True)\n"
   ]
  },
  {
   "cell_type": "code",
   "execution_count": 50,
   "metadata": {},
   "outputs": [
    {
     "name": "stdout",
     "output_type": "stream",
     "text": [
      "22 22\n"
     ]
    },
    {
     "name": "stderr",
     "output_type": "stream",
     "text": [
      "C:\\Users\\markella.nikolopoulo\\AppData\\Local\\Temp\\ipykernel_20204\\4069840800.py:10: FutureWarning: The frame.append method is deprecated and will be removed from pandas in a future version. Use pandas.concat instead.\n",
      "  comments = comments.append({'name': filename, 'comment': comment, 'column_nam': df7.columns.to_list()}, ignore_index=True)\n"
     ]
    }
   ],
   "source": [
    "# Utleveranser av biodrivmedel. Volym i m3 (om inte annat anges) efter varuslag och månad\n",
    "df7 = pd.read_table('../data/original/000001H5_20221201-160349.csv', sep=';')\n",
    "# df7\n",
    "print(len(df7), len(df7.drop_duplicates()))\n",
    "\n",
    "filename = 'utleveranser-av-biodrivmedel-per-ar.csv'\n",
    "df7.to_csv('../data/' +  filename)\n",
    "\n",
    "comment = 'Utleveranser av biodrivmedel. Volym i m3 (om inte annat anges) efter varuslag och månad'\n",
    "comments = comments.append({'name': filename, 'comment': comment, 'column_nam': df7.columns.to_list()}, ignore_index=True)\n"
   ]
  },
  {
   "cell_type": "code",
   "execution_count": 51,
   "metadata": {},
   "outputs": [
    {
     "name": "stderr",
     "output_type": "stream",
     "text": [
      "C:\\Users\\markella.nikolopoulo\\AppData\\Local\\Temp\\ipykernel_20204\\20741851.py:4: FutureWarning: The frame.append method is deprecated and will be removed from pandas in a future version. Use pandas.concat instead.\n",
      "  df8 = df8.append(df9)\n"
     ]
    },
    {
     "name": "stdout",
     "output_type": "stream",
     "text": [
      "46560 46560\n"
     ]
    },
    {
     "name": "stderr",
     "output_type": "stream",
     "text": [
      "C:\\Users\\markella.nikolopoulo\\AppData\\Local\\Temp\\ipykernel_20204\\20741851.py:12: FutureWarning: The frame.append method is deprecated and will be removed from pandas in a future version. Use pandas.concat instead.\n",
      "  comments = comments.append({'name': filename, 'comment': comment, 'column_nam': df8.columns.to_list()}, ignore_index=True)\n"
     ]
    }
   ],
   "source": [
    "# Leveranser av bränsle, kubikmeter efter region, bränsletyp, färbrukarkategori och är\n",
    "df8 = pd.read_table('../data/original/000001SF_20221201-162027.csv', sep=';')\n",
    "df9 = pd.read_table('../data/original/000003TP_20221201-161952.csv', sep=';')\n",
    "df8 = df8.append(df9)\n",
    "# df8\n",
    "print(len(df8), len(df8.drop_duplicates()))\n",
    "\n",
    "filename = 'leveranser-av-bransle-per-ar.csv'\n",
    "df8.to_csv('../grouped-data/data/' + filename, index=False)\n",
    "\n",
    "comment = 'Leveranser av bränsle, kubikmeter efter region, bränsletyp, färbrukarkategori och är'\n",
    "comments = comments.append({'name': filename, 'comment': comment, 'column_nam': df8.columns.to_list()}, ignore_index=True)\n"
   ]
  },
  {
   "cell_type": "code",
   "execution_count": 52,
   "metadata": {},
   "outputs": [
    {
     "name": "stdout",
     "output_type": "stream",
     "text": [
      "162 162\n"
     ]
    },
    {
     "name": "stderr",
     "output_type": "stream",
     "text": [
      "C:\\Users\\markella.nikolopoulo\\AppData\\Local\\Temp\\ipykernel_20204\\3198574962.py:11: FutureWarning: The frame.append method is deprecated and will be removed from pandas in a future version. Use pandas.concat instead.\n",
      "  comments = comments.append({'name': filename, 'comment': comment, 'column_nam': df9.columns.to_list()}, ignore_index=True)\n"
     ]
    }
   ],
   "source": [
    "# bränsleanvändning efter bränsletyp, näringsgren SNI 2007 och kvartal\n",
    "df9 = pd.read_table('../data/original/000002UO_20221201-154955.csv', sep=';')\n",
    "\n",
    "# df9\n",
    "print(len(df9), len(df9.drop_duplicates()))\n",
    "\n",
    "filename = 'bransleanvandning-after-bransletyp-per-kvartal.csv'\n",
    "df9.to_csv('../grouped-data/data/' + filename, index=False)\n",
    "\n",
    "comment = 'bränsleanvändning efter bränsletyp, näringsgren SNI 2007 och kvartal'\n",
    "comments = comments.append({'name': filename, 'comment': comment, 'column_nam': df9.columns.to_list()}, ignore_index=True)\n"
   ]
  },
  {
   "cell_type": "code",
   "execution_count": 53,
   "metadata": {},
   "outputs": [
    {
     "name": "stdout",
     "output_type": "stream",
     "text": [
      "7 7\n"
     ]
    },
    {
     "name": "stderr",
     "output_type": "stream",
     "text": [
      "C:\\Users\\markella.nikolopoulo\\AppData\\Local\\Temp\\ipykernel_20204\\3846946049.py:10: FutureWarning: The frame.append method is deprecated and will be removed from pandas in a future version. Use pandas.concat instead.\n",
      "  comments = comments.append({'name': filename, 'comment': comment, 'column_nam': df10.columns.to_list()}, ignore_index=True)\n"
     ]
    }
   ],
   "source": [
    "# Elproduktion efter produktionsslag och månad\n",
    "df10 = pd.read_table('../data/original/000004DF_20221201-161918.csv', sep=';')\n",
    "# df10\n",
    "print(len(df10), len(df10.drop_duplicates()))\n",
    "\n",
    "filename = 'elproduktion-per-manad.csv'\n",
    "df10.to_csv('../data/' +  filename)\n",
    "\n",
    "comment = 'Elproduktion efter produktionsslag och månad'\n",
    "comments = comments.append({'name': filename, 'comment': comment, 'column_nam': df10.columns.to_list()}, ignore_index=True)\n"
   ]
  },
  {
   "cell_type": "code",
   "execution_count": 54,
   "metadata": {},
   "outputs": [
    {
     "name": "stdout",
     "output_type": "stream",
     "text": [
      "200 200\n"
     ]
    },
    {
     "name": "stderr",
     "output_type": "stream",
     "text": [
      "C:\\Users\\markella.nikolopoulo\\AppData\\Local\\Temp\\ipykernel_20204\\3870780299.py:10: FutureWarning: The frame.append method is deprecated and will be removed from pandas in a future version. Use pandas.concat instead.\n",
      "  comments = comments.append({'name': filename, 'comment': comment, 'column_nam': df11.columns.to_list()}, ignore_index=True)\n"
     ]
    }
   ],
   "source": [
    "# bränslefärbrukning fär elproduktion, TJ efter produktionsslag, bränsletyp och är\n",
    "df11 = pd.read_table('../data/original/000005GI_20221201-162309.csv', sep=';')\n",
    "# df11\n",
    "print(len(df11), len(df11.drop_duplicates()))\n",
    "\n",
    "filename = 'branslefarbrukning-per-ar.csv'\n",
    "df11.to_csv('../grouped-data/data/' + filename, index=False)\n",
    "\n",
    "comment = 'bränslefärbrukning fär elproduktion, TJ efter produktionsslag, bränsletyp och är'\n",
    "comments = comments.append({'name': filename, 'comment': comment, 'column_nam': df11.columns.to_list()}, ignore_index=True)\n"
   ]
  },
  {
   "cell_type": "code",
   "execution_count": 55,
   "metadata": {},
   "outputs": [
    {
     "name": "stdout",
     "output_type": "stream",
     "text": [
      "14 14\n"
     ]
    },
    {
     "name": "stderr",
     "output_type": "stream",
     "text": [
      "C:\\Users\\markella.nikolopoulo\\AppData\\Local\\Temp\\ipykernel_20204\\3596764937.py:10: FutureWarning: The frame.append method is deprecated and will be removed from pandas in a future version. Use pandas.concat instead.\n",
      "  comments = comments.append({'name': filename, 'comment': comment, 'column_nam': df12.columns.to_list()}, ignore_index=True)\n"
     ]
    }
   ],
   "source": [
    "# Bruttoäverfäring av el till och från andra lånder, GWh efter land och månad\n",
    "df12 = pd.read_table('../data/original/000005J8_20221201-161937.csv', sep=';')\n",
    "# df12\n",
    "print(len(df12), len(df12.drop_duplicates()))\n",
    "\n",
    "filename = 'bruttoaverfaring-per-manad.csv'\n",
    "df12.to_csv('../grouped-data/data/' + filename, index=False)\n",
    "\n",
    "comment = 'Bruttoäverfäring av el till och från andra lånder, GWh efter land och månad'\n",
    "comments = comments.append({'name': filename, 'comment': comment, 'column_nam': df12.columns.to_list()}, ignore_index=True)\n"
   ]
  },
  {
   "cell_type": "code",
   "execution_count": 56,
   "metadata": {},
   "outputs": [
    {
     "name": "stdout",
     "output_type": "stream",
     "text": [
      "330 330\n"
     ]
    },
    {
     "name": "stderr",
     "output_type": "stream",
     "text": [
      "C:\\Users\\markella.nikolopoulo\\AppData\\Local\\Temp\\ipykernel_20204\\3109203627.py:11: FutureWarning: The frame.append method is deprecated and will be removed from pandas in a future version. Use pandas.concat instead.\n",
      "  comments = comments.append({'name': filename, 'comment': comment, 'column_nam': df13.columns.to_list()}, ignore_index=True)\n"
     ]
    }
   ],
   "source": [
    "# bränsleanvändning efter bränsletyp, produktion, anlåggning och kvartal\n",
    "df13 = pd.read_table('../data/original/000005JP_20221201-155035.csv', sep=';')\n",
    "\n",
    "# df13\n",
    "print(len(df13), len(df13.drop_duplicates()))\n",
    "\n",
    "filename = 'bransleanvandning-per-kvartal.csv'\n",
    "df13.to_csv('../grouped-data/data/' + filename, index=False)\n",
    "\n",
    "comment = 'bränsleanvändning efter bränsletyp, produktion, anlåggning och kvartal'\n",
    "comments = comments.append({'name': filename, 'comment': comment, 'column_nam': df13.columns.to_list()}, ignore_index=True)\n"
   ]
  },
  {
   "cell_type": "code",
   "execution_count": 57,
   "metadata": {},
   "outputs": [
    {
     "name": "stdout",
     "output_type": "stream",
     "text": [
      "170 170\n"
     ]
    },
    {
     "name": "stderr",
     "output_type": "stream",
     "text": [
      "C:\\Users\\markella.nikolopoulo\\AppData\\Local\\Temp\\ipykernel_20204\\3816649651.py:10: FutureWarning: The frame.append method is deprecated and will be removed from pandas in a future version. Use pandas.concat instead.\n",
      "  comments = comments.append({'name': filename, 'comment': comment, 'column_nam': df14.columns.to_list()}, ignore_index=True)\n"
     ]
    }
   ],
   "source": [
    "# Uttagspunkter efter användningsområde, elomröde och är\n",
    "df14 = pd.read_table('../data/original/000006HL_20221201-162233.csv', sep=';')\n",
    "# df14\n",
    "print(len(df14), len(df14.drop_duplicates()))\n",
    "\n",
    "filename = 'uttagspunkter-per-ar.csv'\n",
    "df14.to_csv('../grouped-data/data/' + filename, index=False)\n",
    "\n",
    "comment = 'Uttagspunkter efter användningsområde, elomröde och är'\n",
    "comments = comments.append({'name': filename, 'comment': comment, 'column_nam': df14.columns.to_list()}, ignore_index=True)\n"
   ]
  },
  {
   "cell_type": "code",
   "execution_count": 58,
   "metadata": {},
   "outputs": [
    {
     "name": "stdout",
     "output_type": "stream",
     "text": [
      "1 1\n"
     ]
    },
    {
     "name": "stderr",
     "output_type": "stream",
     "text": [
      "C:\\Users\\markella.nikolopoulo\\AppData\\Local\\Temp\\ipykernel_20204\\3928475168.py:10: FutureWarning: The frame.append method is deprecated and will be removed from pandas in a future version. Use pandas.concat instead.\n",
      "  comments = comments.append({'name': filename, 'comment': comment, 'column_nam': df15.columns.to_list()}, ignore_index=True)\n"
     ]
    }
   ],
   "source": [
    "# Fjärrkyla efter tabellinnehåll och är\n",
    "df15 = pd.read_table('../data/original/000006HN_20221201-162532.csv', sep=';')\n",
    "# df15\n",
    "print(len(df15), len(df15.drop_duplicates()))\n",
    "\n",
    "filename = 'fjarrkyla-per-ar.csv'\n",
    "df15.to_csv('../grouped-data/data/' + filename, index=False)\n",
    "\n",
    "comment = 'Fjärrkyla efter tabellinnehåll och är'\n",
    "comments = comments.append({'name': filename, 'comment': comment, 'column_nam': df15.columns.to_list()}, ignore_index=True)\n"
   ]
  },
  {
   "cell_type": "code",
   "execution_count": 59,
   "metadata": {},
   "outputs": [
    {
     "name": "stdout",
     "output_type": "stream",
     "text": [
      "25 25\n"
     ]
    },
    {
     "name": "stderr",
     "output_type": "stream",
     "text": [
      "C:\\Users\\markella.nikolopoulo\\AppData\\Local\\Temp\\ipykernel_20204\\148335441.py:10: FutureWarning: The frame.append method is deprecated and will be removed from pandas in a future version. Use pandas.concat instead.\n",
      "  comments = comments.append({'name': filename, 'comment': comment, 'column_nam': df16.columns.to_list()}, ignore_index=True)\n"
     ]
    }
   ],
   "source": [
    "# anlåggningar, installerad effekt samt bruttoproduktion efter elomröde, kraftslag, tabellinnehåll och är\n",
    "df16 = pd.read_table('../data/original/000006HQ_20221201-162204.csv', sep=';')\n",
    "# df16\n",
    "print(len(df16), len(df16.drop_duplicates()))\n",
    "\n",
    "filename = 'anlaggningar-per-ar.csv'\n",
    "df16.to_csv('../grouped-data/data/' + filename, index=False)\n",
    "\n",
    "comment = 'anlåggningar, installerad effekt samt bruttoproduktion efter elomröde, kraftslag, tabellinnehåll och är'\n",
    "comments = comments.append({'name': filename, 'comment': comment, 'column_nam': df16.columns.to_list()}, ignore_index=True)\n"
   ]
  },
  {
   "cell_type": "code",
   "execution_count": 60,
   "metadata": {},
   "outputs": [
    {
     "name": "stdout",
     "output_type": "stream",
     "text": [
      "3 3\n"
     ]
    },
    {
     "name": "stderr",
     "output_type": "stream",
     "text": [
      "C:\\Users\\markella.nikolopoulo\\AppData\\Local\\Temp\\ipykernel_20204\\435354518.py:10: FutureWarning: The frame.append method is deprecated and will be removed from pandas in a future version. Use pandas.concat instead.\n",
      "  comments = comments.append({'name': filename, 'comment': comment, 'column_nam': df17.columns.to_list()}, ignore_index=True)\n"
     ]
    }
   ],
   "source": [
    "# Omsatt värme efter kategori, tabellinnehåll och är\n",
    "df17 = pd.read_table('../data/original/000006HU_20221201-162816.csv', sep=';')\n",
    "# df17\n",
    "print(len(df17), len(df17.drop_duplicates()))\n",
    "\n",
    "filename = 'omsatt-per-ar.csv'\n",
    "df17.to_csv('../grouped-data/data/' + filename, index=False)\n",
    "\n",
    "comment = 'Omsatt värme efter kategori, tabellinnehåll och är'\n",
    "comments = comments.append({'name': filename, 'comment': comment, 'column_nam': df17.columns.to_list()}, ignore_index=True)\n"
   ]
  },
  {
   "cell_type": "code",
   "execution_count": 61,
   "metadata": {},
   "outputs": [
    {
     "name": "stdout",
     "output_type": "stream",
     "text": [
      "6 6\n"
     ]
    },
    {
     "name": "stderr",
     "output_type": "stream",
     "text": [
      "C:\\Users\\markella.nikolopoulo\\AppData\\Local\\Temp\\ipykernel_20204\\3763050645.py:10: FutureWarning: The frame.append method is deprecated and will be removed from pandas in a future version. Use pandas.concat instead.\n",
      "  comments = comments.append({'name': filename, 'comment': comment, 'column_nam': df18.columns.to_list()}, ignore_index=True)\n"
     ]
    }
   ],
   "source": [
    "# Nettoproduktion av el, bränsleanvändning samt verkningsgrad efter kraftslag, tabellinnehåll och är\n",
    "df18 = pd.read_table('../data/original/000006I6_20221201-162555.csv', sep=';')\n",
    "# df18\n",
    "print(len(df18), len(df18.drop_duplicates()))\n",
    "\n",
    "filename = 'nettoproduktion-per-ar.csv'\n",
    "df18.to_csv('../grouped-data/data/' + filename, index=False)\n",
    "\n",
    "comment = 'Nettoproduktion av el, bränsleanvändning samt verkningsgrad efter kraftslag, tabellinnehåll och är'\n",
    "comments = comments.append({'name': filename, 'comment': comment, 'column_nam': df18.columns.to_list()}, ignore_index=True)\n"
   ]
  },
  {
   "cell_type": "code",
   "execution_count": 62,
   "metadata": {},
   "outputs": [
    {
     "name": "stdout",
     "output_type": "stream",
     "text": [
      "7 7\n"
     ]
    },
    {
     "name": "stderr",
     "output_type": "stream",
     "text": [
      "C:\\Users\\markella.nikolopoulo\\AppData\\Local\\Temp\\ipykernel_20204\\800070062.py:10: FutureWarning: The frame.append method is deprecated and will be removed from pandas in a future version. Use pandas.concat instead.\n",
      "  comments = comments.append({'name': filename, 'comment': comment, 'column_nam': df19.columns.to_list()}, ignore_index=True)\n"
     ]
    }
   ],
   "source": [
    "# Värmeleveranser till slutliga färbrukare efter färbrukarkategori, tabellinnehåll och är\n",
    "df19 = pd.read_table('../data/original/000006I7_20221201-162846.csv', sep=';')\n",
    "# df19\n",
    "print(len(df19), len(df19.drop_duplicates()))\n",
    "\n",
    "filename = 'varmeleveranser-per-ar.csv'\n",
    "df19.to_csv('../grouped-data/data/' + filename, index=False)\n",
    "\n",
    "comment = 'Värmeleveranser till slutliga färbrukare efter färbrukarkategori, tabellinnehåll och är'\n",
    "comments = comments.append({'name': filename, 'comment': comment, 'column_nam': df19.columns.to_list()}, ignore_index=True)\n"
   ]
  },
  {
   "cell_type": "code",
   "execution_count": 63,
   "metadata": {},
   "outputs": [
    {
     "name": "stdout",
     "output_type": "stream",
     "text": [
      "222 180\n"
     ]
    },
    {
     "name": "stderr",
     "output_type": "stream",
     "text": [
      "C:\\Users\\markella.nikolopoulo\\AppData\\Local\\Temp\\ipykernel_20204\\3318301040.py:12: FutureWarning: The frame.append method is deprecated and will be removed from pandas in a future version. Use pandas.concat instead.\n",
      "  df21 = df21.append(df22).append(df23).append(df24).append(df25).append(df29)\n",
      "C:\\Users\\markella.nikolopoulo\\AppData\\Local\\Temp\\ipykernel_20204\\3318301040.py:12: FutureWarning: The frame.append method is deprecated and will be removed from pandas in a future version. Use pandas.concat instead.\n",
      "  df21 = df21.append(df22).append(df23).append(df24).append(df25).append(df29)\n",
      "C:\\Users\\markella.nikolopoulo\\AppData\\Local\\Temp\\ipykernel_20204\\3318301040.py:12: FutureWarning: The frame.append method is deprecated and will be removed from pandas in a future version. Use pandas.concat instead.\n",
      "  df21 = df21.append(df22).append(df23).append(df24).append(df25).append(df29)\n",
      "C:\\Users\\markella.nikolopoulo\\AppData\\Local\\Temp\\ipykernel_20204\\3318301040.py:12: FutureWarning: The frame.append method is deprecated and will be removed from pandas in a future version. Use pandas.concat instead.\n",
      "  df21 = df21.append(df22).append(df23).append(df24).append(df25).append(df29)\n",
      "C:\\Users\\markella.nikolopoulo\\AppData\\Local\\Temp\\ipykernel_20204\\3318301040.py:21: FutureWarning: The frame.append method is deprecated and will be removed from pandas in a future version. Use pandas.concat instead.\n",
      "  comments = comments.append({'name': filename, 'comment': comment, 'column_nam': df21.columns.to_list()}, ignore_index=True)\n"
     ]
    }
   ],
   "source": [
    "# Tillfärsel av el-energi, GWh efter produktionsslag, tabellinnehåll och är\n",
    "df21 = pd.read_table('../data/original/EN0105A2_20221201-162902.csv', sep=';')\n",
    "df22 = pd.read_table('../data/original/EN0105A3_20221201-162915.csv', sep=';')\n",
    "# df21 = df21.append(df22); print(\"1\", len(df21), len(df21.drop_duplicates()))\n",
    "df23 = pd.read_table('../data/original/EN0105B0_20221201-162929.csv', sep=';')\n",
    "# df21 = df21.append(df23); print(\"2\", len(df21), len(df21.drop_duplicates()))\n",
    "df24 = pd.read_table('../data/original/EN0105B1_20221201-163134.csv', sep=';')\n",
    "# df21 = df21.append(df24); print(\"3\", len(df21), len(df21.drop_duplicates()))\n",
    "df25 = pd.read_table('../data/original/EN0105A1_20221201-162428.csv', sep=';')\n",
    "# df21 = df21.append(df25); print(\"4\", len(df21), len(df21.drop_duplicates()))\n",
    "df29 = pd.read_table('../data/original/EN0105B1_20221201-163134.csv', sep=';')\n",
    "df21 = df21.append(df22).append(df23).append(df24).append(df25).append(df29)\n",
    "\n",
    "# df21\n",
    "print(len(df21), len(df21.drop_duplicates()))\n",
    "\n",
    "filename = 'varmeleveranser-per-ar.csv'\n",
    "df21.to_csv('../grouped-data/data/' + filename, index=False)\n",
    "\n",
    "comment = 'Tillfärsel av el-energi, GWh efter produktionsslag, tabellinnehåll och är'\n",
    "comments = comments.append({'name': filename, 'comment': comment, 'column_nam': df21.columns.to_list()}, ignore_index=True)\n"
   ]
  },
  {
   "cell_type": "code",
   "execution_count": 64,
   "metadata": {},
   "outputs": [
    {
     "name": "stdout",
     "output_type": "stream",
     "text": [
      "84 84\n"
     ]
    },
    {
     "name": "stderr",
     "output_type": "stream",
     "text": [
      "C:\\Users\\markella.nikolopoulo\\AppData\\Local\\Temp\\ipykernel_20204\\3035943272.py:10: FutureWarning: The frame.append method is deprecated and will be removed from pandas in a future version. Use pandas.concat instead.\n",
      "  comments = comments.append({'name': filename, 'comment': comment, 'column_nam': df22.columns.to_list()}, ignore_index=True)\n"
     ]
    }
   ],
   "source": [
    "# bränslefärbrukning fär produktion av ånga och hetvatten, TJ efter produktionsslag, bränsletyp och är\n",
    "df22 = pd.read_table('../data/original/EN0105A7_20221201-162251.csv', sep=';')\n",
    "# df22\n",
    "print(len(df22), len(df22.drop_duplicates()))\n",
    "\n",
    "filename = 'branslefarbrukning-far-produktion-per-ar.csv'\n",
    "df22.to_csv('../grouped-data/data/' + filename, index=False)\n",
    "\n",
    "comment = 'bränslefärbrukning fär produktion av ånga och hetvatten, TJ efter produktionsslag, bränsletyp och är'\n",
    "comments = comments.append({'name': filename, 'comment': comment, 'column_nam': df22.columns.to_list()}, ignore_index=True)\n"
   ]
  },
  {
   "cell_type": "code",
   "execution_count": 65,
   "metadata": {},
   "outputs": [
    {
     "name": "stdout",
     "output_type": "stream",
     "text": [
      "119 119\n"
     ]
    },
    {
     "name": "stderr",
     "output_type": "stream",
     "text": [
      "C:\\Users\\markella.nikolopoulo\\AppData\\Local\\Temp\\ipykernel_20204\\2888678541.py:11: FutureWarning: The frame.append method is deprecated and will be removed from pandas in a future version. Use pandas.concat instead.\n",
      "  comments = comments.append({'name': filename, 'comment': comment, 'column_nam': df23.columns.to_list()}, ignore_index=True)\n"
     ]
    }
   ],
   "source": [
    "# bränsleanvändning, 1000 toe efter näringsgren SNI92, bränsletyp och kvartal\n",
    "df23 = pd.read_table('../data/original/EN0106A1_20221201-155056.csv', sep=';')\n",
    "\n",
    "# df24\n",
    "print(len(df23), len(df23.drop_duplicates()))\n",
    "\n",
    "filename = 'branslefarbrukning-after-naringsgren-per-kvartal.csv'\n",
    "df23.to_csv('../grouped-data/data/' + filename, index=False)\n",
    "\n",
    "comment = 'bränsleanvändning, 1000 toe efter näringsgren SNI92, bränsletyp och kvartal'\n",
    "comments = comments.append({'name': filename, 'comment': comment, 'column_nam': df23.columns.to_list()}, ignore_index=True)\n"
   ]
  },
  {
   "cell_type": "code",
   "execution_count": 66,
   "metadata": {},
   "outputs": [
    {
     "name": "stdout",
     "output_type": "stream",
     "text": [
      "112 112\n"
     ]
    },
    {
     "name": "stderr",
     "output_type": "stream",
     "text": [
      "C:\\Users\\markella.nikolopoulo\\AppData\\Local\\Temp\\ipykernel_20204\\3768870000.py:11: FutureWarning: The frame.append method is deprecated and will be removed from pandas in a future version. Use pandas.concat instead.\n",
      "  comments = comments.append({'name': filename, 'comment': comment, 'column_nam': df24.columns.to_list()}, ignore_index=True)\n"
     ]
    }
   ],
   "source": [
    "# bränsleanvändning, terajoule (TJ) efter näringsgren SNI 2007, bränsletyp och kvartal\n",
    "df24 = pd.read_table('../data/original/EN0106B3_20221201-154909.csv', sep=';')\n",
    "\n",
    "# df24\n",
    "print(len(df24), len(df24.drop_duplicates()))\n",
    "\n",
    "filename = 'branslefarbrukning-SNI2007-per-kvartal.csv'\n",
    "df24.to_csv('../grouped-data/data/' + filename, index=False)\n",
    "\n",
    "comment = 'bränsleanvändning, terajoule (TJ) efter näringsgren SNI 2007, bränsletyp och kvartal'\n",
    "comments = comments.append({'name': filename, 'comment': comment, 'column_nam': df24.columns.to_list()}, ignore_index=True)\n"
   ]
  },
  {
   "cell_type": "code",
   "execution_count": 67,
   "metadata": {},
   "outputs": [
    {
     "name": "stdout",
     "output_type": "stream",
     "text": [
      "119 119\n"
     ]
    },
    {
     "name": "stderr",
     "output_type": "stream",
     "text": [
      "C:\\Users\\markella.nikolopoulo\\AppData\\Local\\Temp\\ipykernel_20204\\1681680930.py:11: FutureWarning: The frame.append method is deprecated and will be removed from pandas in a future version. Use pandas.concat instead.\n",
      "  comments = comments.append({'name': filename, 'comment': comment, 'column_nam': df25.columns.to_list()}, ignore_index=True)\n"
     ]
    }
   ],
   "source": [
    "# bränsleanvändning, terajoule (TJ) efter näringsgren SNI92, bränsletyp och kvartal\n",
    "df25 = pd.read_table('../data/original/EN0106C0_20221201-154936.csv', sep=';')\n",
    "\n",
    "# df25\n",
    "print(len(df25), len(df25.drop_duplicates()))\n",
    "\n",
    "filename = 'branslefarbrukning-SNI92-per-kvartal.csv'\n",
    "df25.to_csv('../grouped-data/data/' + filename, index=False)\n",
    "\n",
    "comment = 'bränsleanvändning, terajoule (TJ) efter näringsgren SNI92, bränsletyp och kvartal'\n",
    "comments = comments.append({'name': filename, 'comment': comment, 'column_nam': df25.columns.to_list()}, ignore_index=True)\n"
   ]
  },
  {
   "cell_type": "code",
   "execution_count": 68,
   "metadata": {},
   "outputs": [
    {
     "name": "stdout",
     "output_type": "stream",
     "text": [
      "136 136\n"
     ]
    },
    {
     "name": "stderr",
     "output_type": "stream",
     "text": [
      "C:\\Users\\markella.nikolopoulo\\AppData\\Local\\Temp\\ipykernel_20204\\2622591963.py:4: FutureWarning: The frame.append method is deprecated and will be removed from pandas in a future version. Use pandas.concat instead.\n",
      "  df26 = df26.append(df27)\n",
      "C:\\Users\\markella.nikolopoulo\\AppData\\Local\\Temp\\ipykernel_20204\\2622591963.py:13: FutureWarning: The frame.append method is deprecated and will be removed from pandas in a future version. Use pandas.concat instead.\n",
      "  comments = comments.append({'name': filename, 'comment': comment, 'column_nam': df26.columns.to_list()}, ignore_index=True)\n"
     ]
    }
   ],
   "source": [
    "# Leveranser av flytande bränslen samt gasol, m3 och ton efter varuslag, färbrukarkategori och månad\n",
    "df26 = pd.read_table('../data/original/EN0107A2_20221201-160423.csv', sep=';')\n",
    "df27 = pd.read_table('../data/original/EN0107A3_20221201-160406.csv', sep=';')\n",
    "df26 = df26.append(df27)\n",
    "\n",
    "# df26\n",
    "print(len(df26), len(df26.drop_duplicates()))\n",
    "\n",
    "filename = 'leveranser-per-manad.csv'\n",
    "df26.to_csv('../grouped-data/data/' + filename, index=False)\n",
    "\n",
    "comment = 'Leveranser av flytande bränslen samt gasol, m3 och ton efter varuslag, färbrukarkategori och månad'\n",
    "comments = comments.append({'name': filename, 'comment': comment, 'column_nam': df26.columns.to_list()}, ignore_index=True)\n"
   ]
  },
  {
   "cell_type": "code",
   "execution_count": 69,
   "metadata": {},
   "outputs": [
    {
     "name": "stdout",
     "output_type": "stream",
     "text": [
      "37 37\n"
     ]
    },
    {
     "name": "stderr",
     "output_type": "stream",
     "text": [
      "C:\\Users\\markella.nikolopoulo\\AppData\\Local\\Temp\\ipykernel_20204\\1157430150.py:11: FutureWarning: The frame.append method is deprecated and will be removed from pandas in a future version. Use pandas.concat instead.\n",
      "  comments = comments.append({'name': filename, 'comment': comment, 'column_nam': df27.columns.to_list()}, ignore_index=True)\n"
     ]
    }
   ],
   "source": [
    "# Elfärbrukning inom utvinning av mineral, tillverkningsindustri, GWh efter näringsgren SNI92 och månad\n",
    "df27 = pd.read_table('../data/original/EN0108A2_20221201-160711.csv', sep=';')\n",
    "\n",
    "# df27\n",
    "print(len(df27), len(df27.drop_duplicates()))\n",
    "\n",
    "filename = 'elfarbrukning-per-manad.csv'\n",
    "df27.to_csv('../grouped-data/data/' + filename, index=False)\n",
    "\n",
    "comment = 'Elfärbrukning inom utvinning av mineral, tillverkningsindustri, GWh efter näringsgren SNI92 och månad'\n",
    "comments = comments.append({'name': filename, 'comment': comment, 'column_nam': df27.columns.to_list()}, ignore_index=True)\n"
   ]
  },
  {
   "cell_type": "code",
   "execution_count": 70,
   "metadata": {},
   "outputs": [
    {
     "name": "stdout",
     "output_type": "stream",
     "text": [
      "11 11\n"
     ]
    },
    {
     "name": "stderr",
     "output_type": "stream",
     "text": [
      "C:\\Users\\markella.nikolopoulo\\AppData\\Local\\Temp\\ipykernel_20204\\2152955939.py:11: FutureWarning: The frame.append method is deprecated and will be removed from pandas in a future version. Use pandas.concat instead.\n",
      "  comments = comments.append({'name': filename, 'comment': comment, 'column_nam': df28.columns.to_list()}, ignore_index=True)\n"
     ]
    }
   ],
   "source": [
    "# Eltillfärsel netto, GWh efter produktionsslag och månad\n",
    "df28 = pd.read_table('../data/original/EN0108A3_20221201-160443.csv', sep=';')\n",
    "\n",
    "# df28\n",
    "print(len(df28), len(df28.drop_duplicates()))\n",
    "\n",
    "filename = 'eltillfarsel-per-manad.csv'\n",
    "df28.to_csv('../grouped-data/data/' + filename, index=False)\n",
    "\n",
    "comment = 'Eltillfärsel netto, GWh efter produktionsslag och månad'\n",
    "comments = comments.append({'name': filename, 'comment': comment, 'column_nam': df28.columns.to_list()}, ignore_index=True)\n"
   ]
  },
  {
   "cell_type": "code",
   "execution_count": 71,
   "metadata": {},
   "outputs": [
    {
     "name": "stdout",
     "output_type": "stream",
     "text": [
      "11 11\n"
     ]
    },
    {
     "name": "stderr",
     "output_type": "stream",
     "text": [
      "C:\\Users\\markella.nikolopoulo\\AppData\\Local\\Temp\\ipykernel_20204\\3281285944.py:11: FutureWarning: The frame.append method is deprecated and will be removed from pandas in a future version. Use pandas.concat instead.\n",
      "  comments = comments.append({'name': filename, 'comment': comment, 'column_nam': df29.columns.to_list()}, ignore_index=True)\n"
     ]
    }
   ],
   "source": [
    "# Elanvändning, GWh efter användningsområde och månad\n",
    "df29 = pd.read_table('../data/original/EN0108A4_20221201-160536.csv', sep=';')\n",
    "\n",
    "# df29\n",
    "print(len(df29), len(df29.drop_duplicates()))\n",
    "\n",
    "filename = 'eltillfarsel-per-manad.csv'\n",
    "df29.to_csv('../grouped-data/data/' + filename, index=False)\n",
    "\n",
    "comment = 'Elanvändning, GWh efter användningsområde och månad'\n",
    "comments = comments.append({'name': filename, 'comment': comment, 'column_nam': df29.columns.to_list()}, ignore_index=True)\n"
   ]
  },
  {
   "cell_type": "code",
   "execution_count": 72,
   "metadata": {},
   "outputs": [
    {
     "name": "stdout",
     "output_type": "stream",
     "text": [
      "46 46\n"
     ]
    },
    {
     "name": "stderr",
     "output_type": "stream",
     "text": [
      "C:\\Users\\markella.nikolopoulo\\AppData\\Local\\Temp\\ipykernel_20204\\1573677302.py:11: FutureWarning: The frame.append method is deprecated and will be removed from pandas in a future version. Use pandas.concat instead.\n",
      "  comments = comments.append({'name': filename, 'comment': comment, 'column_nam': df30.columns.to_list()}, ignore_index=True)\n"
     ]
    }
   ],
   "source": [
    "# Elfärbrukning inom utvinning av mineral, tillverkningsindustri, GWh efter näringsgren SNI69 och månad\n",
    "df30 = pd.read_table('../data/original/EN0108A5_20221201-161826.csv', sep=';')\n",
    "\n",
    "# df30\n",
    "print(len(df30), len(df30.drop_duplicates()))\n",
    "\n",
    "filename = 'elfarbrukning-mineral-per-manad.csv'\n",
    "df30.to_csv('../grouped-data/data/' + filename, index=False)\n",
    "\n",
    "comment = 'Elfärbrukning inom utvinning av mineral, tillverkningsindustri, GWh efter näringsgren SNI69 och månad'\n",
    "comments = comments.append({'name': filename, 'comment': comment, 'column_nam': df30.columns.to_list()}, ignore_index=True)\n"
   ]
  },
  {
   "cell_type": "code",
   "execution_count": 73,
   "metadata": {},
   "outputs": [
    {
     "name": "stdout",
     "output_type": "stream",
     "text": [
      "2 2\n"
     ]
    },
    {
     "name": "stderr",
     "output_type": "stream",
     "text": [
      "C:\\Users\\markella.nikolopoulo\\AppData\\Local\\Temp\\ipykernel_20204\\2712796641.py:11: FutureWarning: The frame.append method is deprecated and will be removed from pandas in a future version. Use pandas.concat instead.\n",
      "  comments = comments.append({'name': filename, 'comment': comment, 'column_nam': df31.columns.to_list()}, ignore_index=True)\n"
     ]
    }
   ],
   "source": [
    "# Byten av elleverantär samt beräknad bytesvolym efter kundkategori, tabellinnehåll och månad\n",
    "df31 = pd.read_table('../data/original/EN0108A6_20221201-161859.csv', sep=';')\n",
    "\n",
    "# df31\n",
    "print(len(df31), len(df31.drop_duplicates()))\n",
    "\n",
    "filename = 'byten-elleverantar-per-manad.csv'\n",
    "df31.to_csv('../grouped-data/data/' + filename, index=False)\n",
    "\n",
    "comment = 'Byten av elleverantär samt beräknad bytesvolym efter kundkategori, tabellinnehåll och månad'\n",
    "comments = comments.append({'name': filename, 'comment': comment, 'column_nam': df31.columns.to_list()}, ignore_index=True)\n"
   ]
  },
  {
   "cell_type": "code",
   "execution_count": 74,
   "metadata": {},
   "outputs": [
    {
     "name": "stdout",
     "output_type": "stream",
     "text": [
      "19 19\n"
     ]
    },
    {
     "name": "stderr",
     "output_type": "stream",
     "text": [
      "C:\\Users\\markella.nikolopoulo\\AppData\\Local\\Temp\\ipykernel_20204\\5665528.py:11: FutureWarning: The frame.append method is deprecated and will be removed from pandas in a future version. Use pandas.concat instead.\n",
      "  comments = comments.append({'name': filename, 'comment': comment, 'column_nam': df32.columns.to_list()}, ignore_index=True)\n"
     ]
    }
   ],
   "source": [
    "### Elfärbrukning inom utvinning av mineral, tillverkningsindustri, GWh efter näringsgren SNI 2007 och månad\n",
    "df32 = pd.read_table('../data/original/EN0108B1_20221201-160553.csv', sep=';')\n",
    "\n",
    "# df32\n",
    "print(len(df32), len(df32.drop_duplicates()))\n",
    "\n",
    "filename = 'elfarbrukning-SNI2007-per-manad.csv'\n",
    "df32.to_csv('../grouped-data/data/' + filename, index=False)\n",
    "\n",
    "comment = 'Elfärbrukning inom utvinning av mineral, tillverkningsindustri, GWh efter näringsgren SNI 2007 och månad'\n",
    "comments = comments.append({'name': filename, 'comment': comment, 'column_nam': df32.columns.to_list()}, ignore_index=True)\n"
   ]
  },
  {
   "cell_type": "code",
   "execution_count": 75,
   "metadata": {},
   "outputs": [
    {
     "name": "stderr",
     "output_type": "stream",
     "text": [
      "C:\\Users\\markella.nikolopoulo\\AppData\\Local\\Temp\\ipykernel_20204\\1722276261.py:10: FutureWarning: The frame.append method is deprecated and will be removed from pandas in a future version. Use pandas.concat instead.\n",
      "  df33 = df33.append(df34).append(df35).append(df37)\n",
      "C:\\Users\\markella.nikolopoulo\\AppData\\Local\\Temp\\ipykernel_20204\\1722276261.py:10: FutureWarning: The frame.append method is deprecated and will be removed from pandas in a future version. Use pandas.concat instead.\n",
      "  df33 = df33.append(df34).append(df35).append(df37)\n"
     ]
    },
    {
     "name": "stdout",
     "output_type": "stream",
     "text": [
      "6620 6620\n"
     ]
    },
    {
     "name": "stderr",
     "output_type": "stream",
     "text": [
      "C:\\Users\\markella.nikolopoulo\\AppData\\Local\\Temp\\ipykernel_20204\\1722276261.py:19: FutureWarning: The frame.append method is deprecated and will be removed from pandas in a future version. Use pandas.concat instead.\n",
      "  comments = comments.append({'name': filename, 'comment': comment, 'column_nam': df33.columns.to_list()}, ignore_index=True)\n"
     ]
    }
   ],
   "source": [
    "### Kvartalsvisa energibalanser, TJ efter energibärare, energiflöden och kvartal\n",
    "df33 = pd.read_table('../data/original/EN0201A3_20221201-160229.csv', sep=';')\n",
    "df34 = pd.read_table('../data/original/EN0201A5_20221201-160034.csv', sep=';')\n",
    "# df33 = df33.append(df34); print(\"1\", len(df33), len(df33.drop_duplicates()))\n",
    "df35 = pd.read_table('../data/original/EN0201A5_20221201-160053.csv', sep=';')\n",
    "# df33 = df33.append(df35); print(\"2\", len(df33), len(df33.drop_duplicates()))\n",
    "df37 = pd.read_table('../data/original/EN0201A8_20221201-155420.csv', sep=';')\n",
    "# df33 = df33.append(df37); print(\"4\", len(df33), len(df33.drop_duplicates()))\n",
    "\n",
    "df33 = df33.append(df34).append(df35).append(df37)\n",
    "\n",
    "# df33\n",
    "print(len(df33), len(df33.drop_duplicates()))\n",
    "\n",
    "filename = 'energibalanser-per-kvartal.csv'\n",
    "df33.to_csv('../grouped-data/data/' + filename, index=False)\n",
    "\n",
    "comment = 'Kvartalsvisa energibalanser, TJ efter energibärare, energiflöden och kvartal'\n",
    "comments = comments.append({'name': filename, 'comment': comment, 'column_nam': df33.columns.to_list()}, ignore_index=True)\n"
   ]
  },
  {
   "cell_type": "code",
   "execution_count": 76,
   "metadata": {},
   "outputs": [
    {
     "name": "stderr",
     "output_type": "stream",
     "text": [
      "C:\\Users\\markella.nikolopoulo\\AppData\\Local\\Temp\\ipykernel_20204\\2022323827.py:65: FutureWarning: The frame.append method is deprecated and will be removed from pandas in a future version. Use pandas.concat instead.\n",
      "  df34 = df34.append(df35).append(df37).append(df38).append(df39\n",
      "C:\\Users\\markella.nikolopoulo\\AppData\\Local\\Temp\\ipykernel_20204\\2022323827.py:65: FutureWarning: The frame.append method is deprecated and will be removed from pandas in a future version. Use pandas.concat instead.\n",
      "  df34 = df34.append(df35).append(df37).append(df38).append(df39\n",
      "C:\\Users\\markella.nikolopoulo\\AppData\\Local\\Temp\\ipykernel_20204\\2022323827.py:65: FutureWarning: The frame.append method is deprecated and will be removed from pandas in a future version. Use pandas.concat instead.\n",
      "  df34 = df34.append(df35).append(df37).append(df38).append(df39\n",
      "C:\\Users\\markella.nikolopoulo\\AppData\\Local\\Temp\\ipykernel_20204\\2022323827.py:66: FutureWarning: The frame.append method is deprecated and will be removed from pandas in a future version. Use pandas.concat instead.\n",
      "  ).append(df40).append(df41).append(df42).append(df43).append(df45\n",
      "C:\\Users\\markella.nikolopoulo\\AppData\\Local\\Temp\\ipykernel_20204\\2022323827.py:66: FutureWarning: The frame.append method is deprecated and will be removed from pandas in a future version. Use pandas.concat instead.\n",
      "  ).append(df40).append(df41).append(df42).append(df43).append(df45\n",
      "C:\\Users\\markella.nikolopoulo\\AppData\\Local\\Temp\\ipykernel_20204\\2022323827.py:66: FutureWarning: The frame.append method is deprecated and will be removed from pandas in a future version. Use pandas.concat instead.\n",
      "  ).append(df40).append(df41).append(df42).append(df43).append(df45\n",
      "C:\\Users\\markella.nikolopoulo\\AppData\\Local\\Temp\\ipykernel_20204\\2022323827.py:66: FutureWarning: The frame.append method is deprecated and will be removed from pandas in a future version. Use pandas.concat instead.\n",
      "  ).append(df40).append(df41).append(df42).append(df43).append(df45\n",
      "C:\\Users\\markella.nikolopoulo\\AppData\\Local\\Temp\\ipykernel_20204\\2022323827.py:66: FutureWarning: The frame.append method is deprecated and will be removed from pandas in a future version. Use pandas.concat instead.\n",
      "  ).append(df40).append(df41).append(df42).append(df43).append(df45\n",
      "C:\\Users\\markella.nikolopoulo\\AppData\\Local\\Temp\\ipykernel_20204\\2022323827.py:67: FutureWarning: The frame.append method is deprecated and will be removed from pandas in a future version. Use pandas.concat instead.\n",
      "  ).append(df46).append(df47).append(df50).append(df51).append(df53\n",
      "C:\\Users\\markella.nikolopoulo\\AppData\\Local\\Temp\\ipykernel_20204\\2022323827.py:67: FutureWarning: The frame.append method is deprecated and will be removed from pandas in a future version. Use pandas.concat instead.\n",
      "  ).append(df46).append(df47).append(df50).append(df51).append(df53\n",
      "C:\\Users\\markella.nikolopoulo\\AppData\\Local\\Temp\\ipykernel_20204\\2022323827.py:67: FutureWarning: The frame.append method is deprecated and will be removed from pandas in a future version. Use pandas.concat instead.\n",
      "  ).append(df46).append(df47).append(df50).append(df51).append(df53\n",
      "C:\\Users\\markella.nikolopoulo\\AppData\\Local\\Temp\\ipykernel_20204\\2022323827.py:67: FutureWarning: The frame.append method is deprecated and will be removed from pandas in a future version. Use pandas.concat instead.\n",
      "  ).append(df46).append(df47).append(df50).append(df51).append(df53\n",
      "C:\\Users\\markella.nikolopoulo\\AppData\\Local\\Temp\\ipykernel_20204\\2022323827.py:67: FutureWarning: The frame.append method is deprecated and will be removed from pandas in a future version. Use pandas.concat instead.\n",
      "  ).append(df46).append(df47).append(df50).append(df51).append(df53\n",
      "C:\\Users\\markella.nikolopoulo\\AppData\\Local\\Temp\\ipykernel_20204\\2022323827.py:68: FutureWarning: The frame.append method is deprecated and will be removed from pandas in a future version. Use pandas.concat instead.\n",
      "  ).append(df54).append(df55).append(df56).append(df57).append(df59\n",
      "C:\\Users\\markella.nikolopoulo\\AppData\\Local\\Temp\\ipykernel_20204\\2022323827.py:68: FutureWarning: The frame.append method is deprecated and will be removed from pandas in a future version. Use pandas.concat instead.\n",
      "  ).append(df54).append(df55).append(df56).append(df57).append(df59\n",
      "C:\\Users\\markella.nikolopoulo\\AppData\\Local\\Temp\\ipykernel_20204\\2022323827.py:68: FutureWarning: The frame.append method is deprecated and will be removed from pandas in a future version. Use pandas.concat instead.\n",
      "  ).append(df54).append(df55).append(df56).append(df57).append(df59\n",
      "C:\\Users\\markella.nikolopoulo\\AppData\\Local\\Temp\\ipykernel_20204\\2022323827.py:68: FutureWarning: The frame.append method is deprecated and will be removed from pandas in a future version. Use pandas.concat instead.\n",
      "  ).append(df54).append(df55).append(df56).append(df57).append(df59\n",
      "C:\\Users\\markella.nikolopoulo\\AppData\\Local\\Temp\\ipykernel_20204\\2022323827.py:68: FutureWarning: The frame.append method is deprecated and will be removed from pandas in a future version. Use pandas.concat instead.\n",
      "  ).append(df54).append(df55).append(df56).append(df57).append(df59\n",
      "C:\\Users\\markella.nikolopoulo\\AppData\\Local\\Temp\\ipykernel_20204\\2022323827.py:69: FutureWarning: The frame.append method is deprecated and will be removed from pandas in a future version. Use pandas.concat instead.\n",
      "  ).append(df60).append(df61).append(df62).append(df63).append(df64\n",
      "C:\\Users\\markella.nikolopoulo\\AppData\\Local\\Temp\\ipykernel_20204\\2022323827.py:69: FutureWarning: The frame.append method is deprecated and will be removed from pandas in a future version. Use pandas.concat instead.\n",
      "  ).append(df60).append(df61).append(df62).append(df63).append(df64\n",
      "C:\\Users\\markella.nikolopoulo\\AppData\\Local\\Temp\\ipykernel_20204\\2022323827.py:69: FutureWarning: The frame.append method is deprecated and will be removed from pandas in a future version. Use pandas.concat instead.\n",
      "  ).append(df60).append(df61).append(df62).append(df63).append(df64\n",
      "C:\\Users\\markella.nikolopoulo\\AppData\\Local\\Temp\\ipykernel_20204\\2022323827.py:69: FutureWarning: The frame.append method is deprecated and will be removed from pandas in a future version. Use pandas.concat instead.\n",
      "  ).append(df60).append(df61).append(df62).append(df63).append(df64\n",
      "C:\\Users\\markella.nikolopoulo\\AppData\\Local\\Temp\\ipykernel_20204\\2022323827.py:69: FutureWarning: The frame.append method is deprecated and will be removed from pandas in a future version. Use pandas.concat instead.\n",
      "  ).append(df60).append(df61).append(df62).append(df63).append(df64\n",
      "C:\\Users\\markella.nikolopoulo\\AppData\\Local\\Temp\\ipykernel_20204\\2022323827.py:70: FutureWarning: The frame.append method is deprecated and will be removed from pandas in a future version. Use pandas.concat instead.\n",
      "  ).append(df65).append(df66).append(df68).append(df69).append(df70).append(df74)\n",
      "C:\\Users\\markella.nikolopoulo\\AppData\\Local\\Temp\\ipykernel_20204\\2022323827.py:70: FutureWarning: The frame.append method is deprecated and will be removed from pandas in a future version. Use pandas.concat instead.\n",
      "  ).append(df65).append(df66).append(df68).append(df69).append(df70).append(df74)\n",
      "C:\\Users\\markella.nikolopoulo\\AppData\\Local\\Temp\\ipykernel_20204\\2022323827.py:70: FutureWarning: The frame.append method is deprecated and will be removed from pandas in a future version. Use pandas.concat instead.\n",
      "  ).append(df65).append(df66).append(df68).append(df69).append(df70).append(df74)\n",
      "C:\\Users\\markella.nikolopoulo\\AppData\\Local\\Temp\\ipykernel_20204\\2022323827.py:70: FutureWarning: The frame.append method is deprecated and will be removed from pandas in a future version. Use pandas.concat instead.\n",
      "  ).append(df65).append(df66).append(df68).append(df69).append(df70).append(df74)\n",
      "C:\\Users\\markella.nikolopoulo\\AppData\\Local\\Temp\\ipykernel_20204\\2022323827.py:70: FutureWarning: The frame.append method is deprecated and will be removed from pandas in a future version. Use pandas.concat instead.\n",
      "  ).append(df65).append(df66).append(df68).append(df69).append(df70).append(df74)\n",
      "C:\\Users\\markella.nikolopoulo\\AppData\\Local\\Temp\\ipykernel_20204\\2022323827.py:70: FutureWarning: The frame.append method is deprecated and will be removed from pandas in a future version. Use pandas.concat instead.\n",
      "  ).append(df65).append(df66).append(df68).append(df69).append(df70).append(df74)\n"
     ]
    },
    {
     "name": "stdout",
     "output_type": "stream",
     "text": [
      "449190 449190\n"
     ]
    },
    {
     "name": "stderr",
     "output_type": "stream",
     "text": [
      "C:\\Users\\markella.nikolopoulo\\AppData\\Local\\Temp\\ipykernel_20204\\2022323827.py:79: FutureWarning: The frame.append method is deprecated and will be removed from pandas in a future version. Use pandas.concat instead.\n",
      "  comments = comments.append({'name': filename, 'comment': comment, 'column_nam': df34.columns.to_list()}, ignore_index=True)\n"
     ]
    }
   ],
   "source": [
    "### Energidata (MWh) efter region, kategori, energityp och år\n",
    "df34 = pd.read_table('../data/original/EN0203AB_20221201-145612.csv', sep=';')\n",
    "df35 = pd.read_table('../data/original/EN0203AB_20221201-145644.csv', sep=';')\n",
    "# df34 = df34.append(df35); print(\"1\", len(df34), len(df34.drop_duplicates()))\n",
    "df37 = pd.read_table('../data/original/EN0203AB_20221201-152954.csv', sep=';')\n",
    "# df34 = df34.append(df37); print(\"3\", len(df34), len(df34.drop_duplicates()))\n",
    "df38 = pd.read_table('../data/original/EN0203AB_20221201-153033.csv', sep=';')\n",
    "# df34 = df34.append(df38); print(\"4\", len(df34), len(df34.drop_duplicates()))\n",
    "df39 = pd.read_table('../data/original/EN0203AB_20221201-153355.csv', sep=';')\n",
    "# df34 = df34.append(df39); print(\"5\", len(df34), len(df34.drop_duplicates()))\n",
    "df40 = pd.read_table('../data/original/EN0203AB_20221201-153431.csv', sep=';')\n",
    "# df34 = df34.append(df40); print(\"6\", len(df34), len(df34.drop_duplicates()))\n",
    "df41 = pd.read_table('../data/original/EN0203AB_20221201-153513.csv', sep=';')\n",
    "# df34 = df34.append(df41); print(\"7\", len(df34), len(df34.drop_duplicates()))\n",
    "df42 = pd.read_table('../data/original/EN0203AB_20221201-153616.csv', sep=';')\n",
    "# df34 = df34.append(df42); print(\"8\", len(df34), len(df34.drop_duplicates()))\n",
    "df43 = pd.read_table('../data/original/EN0203AB_20221201-153651.csv', sep=';')\n",
    "# df34 = df34.append(df43); print(\"9\", len(df34), len(df34.drop_duplicates()))\n",
    "df45 = pd.read_table('../data/original/EN0203AB_20221201-154043.csv', sep=';')\n",
    "# df34 = df34.append(df45); print(\"11\", len(df34), len(df34.drop_duplicates()))\n",
    "df46 = pd.read_table('../data/original/EN0203AB_20221201-154126.csv', sep=';')\n",
    "# df34 = df34.append(df46); print(\"12\", len(df34), len(df34.drop_duplicates()))\n",
    "df47 = pd.read_table('../data/original/EN0203AB_20221201-154140.csv', sep=';')\n",
    "# df34 = df34.append(df47); print(\"13\", len(df34), len(df34.drop_duplicates()))\n",
    "df50 = pd.read_table('../data/original/EN0203AB_20221201-154207.csv', sep=';')\n",
    "# df34 = df34.append(df50); print(\"16\", len(df34), len(df34.drop_duplicates()))\n",
    "df51 = pd.read_table('../data/original/EN0203AB_20221201-154216.csv', sep=';')\n",
    "# df34 = df34.append(df51); print(\"17\", len(df34), len(df34.drop_duplicates()))\n",
    "df53 = pd.read_table('../data/original/EN0203AB_20221201-154441.csv', sep=';')\n",
    "# df34 = df34.append(df53); print(\"19\", len(df34), len(df34.drop_duplicates()))\n",
    "df54 = pd.read_table('../data/original/EN0203AB_20221201-154452.csv', sep=';')\n",
    "# df34 = df34.append(df54); print(\"20\", len(df34), len(df34.drop_duplicates()))\n",
    "df55 = pd.read_table('../data/original/EN0203AB_20221201-154500.csv', sep=';')\n",
    "# df34 = df34.append(df55); print(\"21\", len(df34), len(df34.drop_duplicates()))\n",
    "df56 = pd.read_table('../data/original/EN0203AB_20221201-154508.csv', sep=';')\n",
    "# df34 = df34.append(df56); print(\"22\", len(df34), len(df34.drop_duplicates()))\n",
    "df57 = pd.read_table('../data/original/EN0203AB_20221201-154520.csv', sep=';')\n",
    "# df34 = df34.append(df57); print(\"23\", len(df34), len(df34.drop_duplicates()))\n",
    "df59 = pd.read_table('../data/original/EN0203AB_20221201-154539.csv', sep=';')\n",
    "# df34 = df34.append(df59); print(\"25\", len(df34), len(df34.drop_duplicates()))\n",
    "df60 = pd.read_table('../data/original/EN0203AB_20221201-154550.csv', sep=';')\n",
    "# df34 = df34.append(df60); print(\"26\", len(df34), len(df34.drop_duplicates()))\n",
    "df61 = pd.read_table('../data/original/EN0203AB_20221201-154559.csv', sep=';')\n",
    "# df34 = df34.append(df61); print(\"27\", len(df34), len(df34.drop_duplicates()))\n",
    "df62 = pd.read_table('../data/original/EN0203AB_20221201-154609.csv', sep=';')\n",
    "# df34 = df34.append(df62); print(\"28\", len(df34), len(df34.drop_duplicates()))\n",
    "df63 = pd.read_table('../data/original/EN0203AB_20221201-154620.csv', sep=';')\n",
    "# df34 = df34.append(df63); print(\"29\", len(df34), len(df34.drop_duplicates()))\n",
    "df64 = pd.read_table('../data/original/EN0203AB_20221201-154632.csv', sep=';')\n",
    "# df34 = df34.append(df64); print(\"30\", len(df34), len(df34.drop_duplicates()))\n",
    "df65 = pd.read_table('../data/original/EN0203AB_20221201-154644.csv', sep=';')\n",
    "# df34 = df34.append(df65); print(\"31\", len(df34), len(df34.drop_duplicates()))\n",
    "df66 = pd.read_table('../data/original/EN0203AB_20221201-154653.csv', sep=';')\n",
    "# df34 = df34.append(df66); print(\"32\", len(df34), len(df34.drop_duplicates()))\n",
    "df68 = pd.read_table('../data/original/EN0203AB_20221201-154745.csv', sep=';')\n",
    "# df34 = df34.append(df68); print(\"34\", len(df34), len(df34.drop_duplicates()))\n",
    "df69 = pd.read_table('../data/original/EN0203AB_20221201-154756.csv', sep=';')\n",
    "# df34 = df34.append(df69); print(\"35\", len(df34), len(df34.drop_duplicates()))\n",
    "df70 = pd.read_table('../data/original/EN0203AB_20221201-154804.csv', sep=';')\n",
    "# df34 = df34.append(df70); print(\"36\", len(df34), len(df34.drop_duplicates()))\n",
    "df74 = pd.read_table('../data/original/EN0203AB_20221201-154835.csv', sep=';')\n",
    "# df34 = df34.append(df74); print(\"40\", len(df34), len(df34.drop_duplicates()))\n",
    "\n",
    "\n",
    "df34 = df34.append(df35).append(df37).append(df38).append(df39\n",
    "        ).append(df40).append(df41).append(df42).append(df43).append(df45\n",
    "        ).append(df46).append(df47).append(df50).append(df51).append(df53\n",
    "        ).append(df54).append(df55).append(df56).append(df57).append(df59\n",
    "        ).append(df60).append(df61).append(df62).append(df63).append(df64\n",
    "        ).append(df65).append(df66).append(df68).append(df69).append(df70).append(df74)\n",
    "\n",
    "# df34\n",
    "print(len(df34), len(df34.drop_duplicates()))\n",
    "\n",
    "filename = 'energidata-per-ar.csv'\n",
    "df34.to_csv('../grouped-data/data/' + filename, index=False)\n",
    "\n",
    "comment = 'Energidata (MWh) efter region, kategori, energityp och år'\n",
    "comments = comments.append({'name': filename, 'comment': comment, 'column_nam': df34.columns.to_list()}, ignore_index=True)\n"
   ]
  },
  {
   "cell_type": "code",
   "execution_count": 77,
   "metadata": {},
   "outputs": [
    {
     "name": "stderr",
     "output_type": "stream",
     "text": [
      "C:\\Users\\markella.nikolopoulo\\AppData\\Local\\Temp\\ipykernel_20204\\4030947379.py:7: FutureWarning: The frame.append method is deprecated and will be removed from pandas in a future version. Use pandas.concat instead.\n",
      "  df35 = df35.append(df36).append(df37).append(df38)\n",
      "C:\\Users\\markella.nikolopoulo\\AppData\\Local\\Temp\\ipykernel_20204\\4030947379.py:7: FutureWarning: The frame.append method is deprecated and will be removed from pandas in a future version. Use pandas.concat instead.\n",
      "  df35 = df35.append(df36).append(df37).append(df38)\n"
     ]
    },
    {
     "name": "stdout",
     "output_type": "stream",
     "text": [
      "69888 69888\n"
     ]
    },
    {
     "name": "stderr",
     "output_type": "stream",
     "text": [
      "C:\\Users\\markella.nikolopoulo\\AppData\\Local\\Temp\\ipykernel_20204\\4030947379.py:17: FutureWarning: The frame.append method is deprecated and will be removed from pandas in a future version. Use pandas.concat instead.\n",
      "  comments = comments.append({'name': filename, 'comment': comment, 'column_nam': df35.columns.to_list()}, ignore_index=True)\n"
     ]
    }
   ],
   "source": [
    "### Fjärrvärmeproduktion och bränsleanvändning (MWh) efter region, produktionssätt, bränsletyp och är\n",
    "df35 = pd.read_table('../data/original/EN0203AC_20221201-141231.csv', sep=';')\n",
    "df36 = pd.read_table('../data/original/EN0203AC_20221201-141255.csv', sep=';')\n",
    "df37 = pd.read_table('../data/original/EN0203AC_20221201-145005.csv', sep=';')\n",
    "df38 = pd.read_table('../data/original/EN0203AC_20221201-145050.csv', sep=';')\n",
    "\n",
    "df35 = df35.append(df36).append(df37).append(df38)\n",
    "\n",
    "\n",
    "# df35\n",
    "print(len(df35), len(df35.drop_duplicates()))\n",
    "\n",
    "filename = 'fjarrvarmeproduktion-per-ar.csv'\n",
    "df35.to_csv('../grouped-data/data/' + filename, index=False)\n",
    "\n",
    "comment = 'Fjärrvärmeproduktion och bränsleanvändning (MWh) efter region, produktionssätt, bränsletyp och är'\n",
    "comments = comments.append({'name': filename, 'comment': comment, 'column_nam': df35.columns.to_list()}, ignore_index=True)\n"
   ]
  },
  {
   "cell_type": "code",
   "execution_count": 78,
   "metadata": {},
   "outputs": [
    {
     "name": "stdout",
     "output_type": "stream",
     "text": [
      "12480 12480\n"
     ]
    },
    {
     "name": "stderr",
     "output_type": "stream",
     "text": [
      "C:\\Users\\markella.nikolopoulo\\AppData\\Local\\Temp\\ipykernel_20204\\1095079677.py:10: FutureWarning: The frame.append method is deprecated and will be removed from pandas in a future version. Use pandas.concat instead.\n",
      "  comments = comments.append({'name': filename, 'comment': comment, 'column_nam': df36.columns.to_list()}, ignore_index=True)\n"
     ]
    }
   ],
   "source": [
    "### Elproduktion och bränsleanvändning (MWh) efter region, produktionssätt, bränsletyp och är\n",
    "df36 = pd.read_table('../data/original/EN0203AD_20221201-141125.csv', sep=';')\n",
    "df36\n",
    "print(len(df36), len(df36.drop_duplicates()))\n",
    "\n",
    "filename = 'elproduktion-&-bransleanvandning-per-ar.csv'\n",
    "df36.to_csv('../grouped-data/data/' + filename, index=False)\n",
    "\n",
    "comment = 'Elproduktion och bränsleanvändning (MWh) efter region, produktionssätt, bränsletyp och är'\n",
    "comments = comments.append({'name': filename, 'comment': comment, 'column_nam': df36.columns.to_list()}, ignore_index=True)\n"
   ]
  },
  {
   "cell_type": "code",
   "execution_count": 79,
   "metadata": {},
   "outputs": [
    {
     "name": "stderr",
     "output_type": "stream",
     "text": [
      "C:\\Users\\markella.nikolopoulo\\AppData\\Local\\Temp\\ipykernel_20204\\2440282786.py:6: FutureWarning: The frame.append method is deprecated and will be removed from pandas in a future version. Use pandas.concat instead.\n",
      "  df37 = df37.append(df38).append(df39)\n"
     ]
    },
    {
     "name": "stdout",
     "output_type": "stream",
     "text": [
      "65034 65034\n"
     ]
    },
    {
     "name": "stderr",
     "output_type": "stream",
     "text": [
      "C:\\Users\\markella.nikolopoulo\\AppData\\Local\\Temp\\ipykernel_20204\\2440282786.py:15: FutureWarning: The frame.append method is deprecated and will be removed from pandas in a future version. Use pandas.concat instead.\n",
      "  comments = comments.append({'name': filename, 'comment': comment, 'column_nam': df37.columns.to_list()}, ignore_index=True)\n"
     ]
    }
   ],
   "source": [
    "### Slutanvändning (MWh) efter region, färbrukarkategori, bränsletyp och är\n",
    "df37 = pd.read_table('../data/original/EN0203AE_20221201-145253.csv', sep=';')\n",
    "df38 = pd.read_table('../data/original/EN0203AE_20221201-145332.csv', sep=';')\n",
    "df39 = pd.read_table('../data/original/EN0203AB_20221201-154043.csv', sep=';')\n",
    "\n",
    "df37 = df37.append(df38).append(df39)\n",
    "\n",
    "# df37\n",
    "print(len(df37), len(df37.drop_duplicates()))\n",
    "\n",
    "filename = 'slutanvandning-per-ar.csv'\n",
    "df37.to_csv('../grouped-data/data/' + filename, index=False)\n",
    "\n",
    "comment = 'Slutanvändning (MWh) efter region, färbrukarkategori, bränsletyp och är'\n",
    "comments = comments.append({'name': filename, 'comment': comment, 'column_nam': df37.columns.to_list()}, ignore_index=True)\n"
   ]
  },
  {
   "cell_type": "code",
   "execution_count": 80,
   "metadata": {},
   "outputs": [],
   "source": [
    "# Write document with filenames desc and list of columns\n",
    "\n",
    "with open(\"('../grouped-data/data/clean-data-explanations.txt\", \"w\", encoding=\"utf-8\") as a:\n",
    "    for i in comments.index:\n",
    "        # print(comments.comment[i])\n",
    "        a.write(comments.name[i] + os.linesep)\n",
    "        a.write(comments.comment[i] + os.linesep)\n",
    "        for listitem in comments.column_nam[i]:\n",
    "            # print(listitem)\n",
    "            a.write('%s\\n' % listitem)\n",
    "        a.write(os.linesep)\n"
   ]
  },
  {
   "cell_type": "code",
   "execution_count": 81,
   "metadata": {},
   "outputs": [],
   "source": [
    "# # Write document with filenames desc and list of columns\n",
    "\n",
    "# with open(\"clean-data-explanations2.txt\", \"w\", encoding=\"utf-8\") as a:\n",
    "#     for path, subdirs, files in os.walk(r'../data/', ):\n",
    "#         for filename, i in zip(files, comments.index):\n",
    "#             f = os.path.join(path, filename)\n",
    "#             a.write(filename + ': ')\n",
    "#             # print(comments.comment[i])\n",
    "#             a.write(comments.comment[i] + os.linesep)\n",
    "#             df = pd.read_table(f, sep=',', low_memory=False,\n",
    "#                                on_bad_lines='skip')\n",
    "#             # print(f)\n",
    "#             for listitem in df.columns:\n",
    "#                 # print(listitem)\n",
    "#                 a.write('%s\\n' % listitem)\n",
    "#             # a.write(os.linesep)\n",
    "#             a.write(os.linesep)\n"
   ]
  }
 ],
 "metadata": {
  "kernelspec": {
   "display_name": "Python 3.10.6 ('thisone')",
   "language": "python",
   "name": "python3"
  },
  "language_info": {
   "codemirror_mode": {
    "name": "ipython",
    "version": 3
   },
   "file_extension": ".py",
   "mimetype": "text/x-python",
   "name": "python",
   "nbconvert_exporter": "python",
   "pygments_lexer": "ipython3",
   "version": "3.10.6 | packaged by conda-forge | (main, Oct  7 2022, 20:14:50) [MSC v.1916 64 bit (AMD64)]"
  },
  "orig_nbformat": 4,
  "vscode": {
   "interpreter": {
    "hash": "7996a5cd28996b69f6427e562b95ceb603a092331acdb6a620e160fb7b86c167"
   }
  }
 },
 "nbformat": 4,
 "nbformat_minor": 2
}
